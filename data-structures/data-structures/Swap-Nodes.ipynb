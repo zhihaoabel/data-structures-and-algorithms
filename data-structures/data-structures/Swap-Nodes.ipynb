{
 "cells": [
  {
   "cell_type": "markdown",
   "metadata": {
    "graffitiCellId": "id_wwy91p2"
   },
   "source": [
    "## Problem Statement\n",
    "\n",
    "Given a linked list, swap the two nodes present at position `i` and `j`, assuming `0 <= i <= j`. The positions are based on 0-based indexing.\n",
    "\n",
    "**Note:** You have to swap the nodes and not just the values. \n",
    "\n",
    "**Example:**\n",
    "* `linked_list = 3 4 5 2 6 1 9`\n",
    "* `positions = 2 5`\n",
    "* `output = 3 4 1 2 6 5 9`\n",
    "\n",
    "**Explanation:** \n",
    "* The node at position 3 has the value `2`\n",
    "* The node at position 4 has the value `6`\n",
    "* Swapping these nodes will result in a final order of nodes of `3 4 5 6 2 1 9`"
   ]
  },
  {
   "cell_type": "markdown",
   "metadata": {
    "graffitiCellId": "id_lqtx3fk"
   },
   "source": [
    "### Let's take an example to understand a simple approach - \n",
    "Given linked list = [3, 4, 5, 2, 6, 1, 9] <br>\n",
    "position_one = 2<br>\n",
    "position_two = 5<br>\n",
    "**Note the original order of indexes - 0, 1, 2, 3, 4, 5, 6**<br>\n",
    "\n",
    "**Step 1** - Identify the two nodes to be swapped. Also, identify the previous of both the two nodes. \n",
    "\n",
    "<img style=\"float: center;\" src=\"assets/Step0.png\" alt=\"Linked list showing the two nodes to be swapped, as well as the previous node of each\"><br>\n",
    "**Step 2** - Swap the references making use of a temporary reference\n",
    "<img style=\"float: center;\" src=\"assets/Step1.png\" alt=\"The two_previous node is changed to point to the one_current node that it will be swapped with. In this case, the next node of 6 is changed to point to 5 instead of 1\"><br>\n",
    "<img style=\"float: center;\" src=\"assets/Step2.png\" alt=\"Linked list mid-swap showing one link having been updated, and highlighting the temporary reference 2\"><br>\n",
    "<img style=\"float: center;\" src=\"assets/Step3.png\" alt=\"Linked list showing the next node of one_current changing to the next node of two_current instead of the temporary reference. In this case, the next node of 5 points to 9 instead of 2.\"><br>\n",
    "<img style=\"float: center;\" src=\"assets/Step4.png\" alt=\"Linked list showing the next node of two_current changing to the temporary reference. In this case, the next node of 1 points to 2 instead of 9.\"><br>\n",
    "<img style=\"float: center;\" src=\"assets/Step5.png\" alt=\"Linked list showing the next node of one_previous changing to the node of two_current instead of one_current. In this case, the next node of 4 points to 1 instead of 5.\"><br>\n",
    "<img style=\"float: center;\" src=\"assets/Step6.png\" alt=\"Linked list showing the final linked list after swapping two elements.\"><br>\n",
    "**Check the order of the updated indexes as - 0, 1, 5, 3, 4, 2, 6**, which implies that index 2 and index 5 have been swapped. \n"
   ]
  },
  {
   "cell_type": "markdown",
   "metadata": {
    "graffitiCellId": "id_2o4s6ai"
   },
   "source": [
    "### Helper Class"
   ]
  },
  {
   "cell_type": "code",
   "execution_count": 1,
   "metadata": {
    "graffitiCellId": "id_s77kdg7",
    "ExecuteTime": {
     "end_time": "2023-10-15T14:06:16.089658900Z",
     "start_time": "2023-10-15T14:06:16.083155300Z"
    }
   },
   "outputs": [],
   "source": [
    "class Node:\n",
    "    \"\"\"LinkedListNode class to be used for this problem\"\"\"\n",
    "\n",
    "    def __init__(self, data):\n",
    "        self.data = data\n",
    "        self.next = None"
   ]
  },
  {
   "cell_type": "markdown",
   "metadata": {
    "graffitiCellId": "id_ker6u05"
   },
   "source": [
    "### Exercise - Write the function definition here"
   ]
  },
  {
   "cell_type": "code",
   "execution_count": 2,
   "metadata": {
    "graffitiCellId": "id_c4tesrj",
    "ExecuteTime": {
     "end_time": "2023-10-15T14:06:17.427014Z",
     "start_time": "2023-10-15T14:06:17.362649200Z"
    }
   },
   "outputs": [],
   "source": [
    "def swap_nodes(head, left_index, right_index):\n",
    "    \"\"\"\n",
    "    :param: head- head of input linked list\n",
    "    :param: `position_one` - indicates position (index) ONE\n",
    "    :param: `position_two` - indicates position (index) TWO\n",
    "    return: head of updated linked list with nodes swapped\n",
    "    \n",
    "    TODO: complete this function and swap nodes present at position_one and position_two\n",
    "    Do not create a new linked list\n",
    "    \n",
    "    1. 遍历链表，记录 prev1，prev2，left_node，right_node 位置\n",
    "    2. 当 right_node不为空时，终止循环，开始交换结点位置\n",
    "    3. 交换思路：\n",
    "        a. left_tmp 记录 左结点下一个结点\n",
    "        b. prev2 next指向左结点\n",
    "        c. 左结点 next指向右结点下一个结点\n",
    "        d. prev1 next 指向右结点\n",
    "        e 右结点 next 指向 left_tmp\n",
    "    \"\"\"\n",
    "    \n",
    "    def do_swap(prev1, prev2, left_node, right_node):\n",
    "        left_tmp = left_node.next\n",
    "        prev2.next = left_node\n",
    "        left_node.next = right_node.next\n",
    "        prev1.next = right_node\n",
    "        right_node.next = left_tmp\n",
    "\n",
    "    if head is None:\n",
    "        return head\n",
    "\n",
    "    if left_index < 0 or right_index < 0 or left_index > right_index:\n",
    "        raise ValueError(\"索引不正常\")\n",
    "\n",
    "    count = 0\n",
    "    prev1 = None\n",
    "    prev2 = None\n",
    "    left_node = None\n",
    "    right_node = None\n",
    "    node = head\n",
    "    while node.next and right_node is None:\n",
    "        if count == left_index - 1:\n",
    "            prev1 = node\n",
    "        if count == left_index:\n",
    "            left_node = node\n",
    "        if count == right_index - 1:\n",
    "            prev2 = node\n",
    "        if count == right_index:\n",
    "            right_node = node\n",
    "\n",
    "    do_swap(prev1, prev2, left_node, right_node)\n",
    "    \n",
    "    return head\n",
    "\n"
   ]
  },
  {
   "cell_type": "markdown",
   "metadata": {
    "graffitiCellId": "id_cek9joh"
   },
   "source": [
    "<span class=\"graffiti-highlight graffiti-id_cek9joh-id_kqbupgc\"><i></i><button>Show Solution</button></span>"
   ]
  },
  {
   "cell_type": "markdown",
   "metadata": {
    "graffitiCellId": "id_j94rzl9"
   },
   "source": [
    "### Test - Let's test your function"
   ]
  },
  {
   "cell_type": "code",
   "execution_count": 3,
   "metadata": {
    "graffitiCellId": "id_lzqbwc8",
    "ExecuteTime": {
     "end_time": "2023-10-15T14:06:20.482839800Z",
     "start_time": "2023-10-15T14:06:20.477326300Z"
    }
   },
   "outputs": [],
   "source": [
    "def test_function(test_case):\n",
    "    head = test_case[0]\n",
    "    left_index = test_case[1]\n",
    "    right_index = test_case[2]\n",
    "\n",
    "    left_node = None\n",
    "    right_node = None\n",
    "\n",
    "    temp = head\n",
    "    index = 0\n",
    "    try:\n",
    "        while temp is not None:\n",
    "            if index == left_index:\n",
    "                left_node = temp\n",
    "            if index == right_index:\n",
    "                right_node = temp\n",
    "                break\n",
    "            index += 1\n",
    "            temp = temp.next\n",
    "\n",
    "        updated_head = swap_nodes(head, left_index, right_index)\n",
    "\n",
    "        temp = updated_head\n",
    "        index = 0\n",
    "        pass_status = [False, False]\n",
    "\n",
    "        while temp is not None:\n",
    "            if index == left_index:\n",
    "                pass_status[0] = temp is right_node\n",
    "            if index == right_index:\n",
    "                pass_status[1] = temp is left_node\n",
    "\n",
    "            index += 1\n",
    "            temp = temp.next\n",
    "\n",
    "        if pass_status[0] and pass_status[1]:\n",
    "            print(\"Pass\")\n",
    "        else:\n",
    "            print(\"Fail\")\n",
    "        return updated_head\n",
    "    except Exception as e:\n",
    "        print(\"Fail\")"
   ]
  },
  {
   "cell_type": "code",
   "execution_count": 4,
   "metadata": {
    "graffitiCellId": "id_dmn7hpj",
    "ExecuteTime": {
     "end_time": "2023-10-15T14:06:21.727287500Z",
     "start_time": "2023-10-15T14:06:21.687273500Z"
    }
   },
   "outputs": [],
   "source": [
    "# helper functions for testing purpose\n",
    "def create_linked_list(arr):\n",
    "    if len(arr) == 0:\n",
    "        return None\n",
    "    head = Node(arr[0])\n",
    "    tail = head\n",
    "    for data in arr[1:]:\n",
    "        tail.next = Node(data)\n",
    "        tail = tail.next\n",
    "    return head\n",
    "\n",
    "\n",
    "def print_linked_list(head):\n",
    "    while head:\n",
    "        print(head.data, end=\" \")\n",
    "        head = head.next\n",
    "    print()"
   ]
  },
  {
   "cell_type": "code",
   "execution_count": null,
   "metadata": {
    "graffitiCellId": "id_vf3gh3b",
    "is_executing": true,
    "ExecuteTime": {
     "start_time": "2023-10-15T14:06:25.219690Z"
    }
   },
   "outputs": [],
   "source": [
    "arr = [3, 4, 5, 2, 6, 1, 9]\n",
    "head = create_linked_list(arr)\n",
    "left_index = 3\n",
    "right_index = 4\n",
    "\n",
    "test_case = [head, left_index, right_index]\n",
    "updated_head = test_function(test_case)"
   ]
  },
  {
   "cell_type": "code",
   "execution_count": 9,
   "metadata": {
    "graffitiCellId": "id_hmw9ljb"
   },
   "outputs": [
    {
     "name": "stdout",
     "output_type": "stream",
     "text": [
      "Pass\n"
     ]
    }
   ],
   "source": [
    "arr = [3, 4, 5, 2, 6, 1, 9]\n",
    "left_index = 2\n",
    "right_index = 4\n",
    "head = create_linked_list(arr)\n",
    "test_case = [head, left_index, right_index]\n",
    "updated_head = test_function(test_case)"
   ]
  },
  {
   "cell_type": "code",
   "execution_count": 10,
   "metadata": {
    "graffitiCellId": "id_vekfhar"
   },
   "outputs": [
    {
     "name": "stdout",
     "output_type": "stream",
     "text": [
      "Pass\n"
     ]
    }
   ],
   "source": [
    "arr = [3, 4, 5, 2, 6, 1, 9]\n",
    "left_index = 0\n",
    "right_index = 1\n",
    "head = create_linked_list(arr)\n",
    "test_case = [head, left_index, right_index]\n",
    "updated_head = test_function(test_case)"
   ]
  }
 ],
 "metadata": {
  "graffiti": {
   "firstAuthorId": "dev",
   "id": "id_cuns29g",
   "language": "EN"
  },
  "kernelspec": {
   "display_name": "Python 3",
   "language": "python",
   "name": "python3"
  },
  "language_info": {
   "codemirror_mode": {
    "name": "ipython",
    "version": 3
   },
   "file_extension": ".py",
   "mimetype": "text/x-python",
   "name": "python",
   "nbconvert_exporter": "python",
   "pygments_lexer": "ipython3",
   "version": "3.6.3"
  }
 },
 "nbformat": 4,
 "nbformat_minor": 2
}
