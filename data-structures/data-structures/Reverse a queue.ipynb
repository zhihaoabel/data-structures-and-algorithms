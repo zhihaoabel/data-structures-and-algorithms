{
 "cells": [
  {
   "cell_type": "markdown",
   "metadata": {
    "graffitiCellId": "id_f88j908"
   },
   "source": [
    "# Reversed Queue\n",
    "Write a function that takes a queue as an input and returns a reversed version of it. "
   ]
  },
  {
   "cell_type": "code",
   "execution_count": 1,
   "metadata": {
    "graffitiCellId": "id_ln4ak6v",
    "ExecuteTime": {
     "end_time": "2023-10-24T15:25:45.577198700Z",
     "start_time": "2023-10-24T15:25:45.561885Z"
    }
   },
   "outputs": [],
   "source": [
    "class LinkedListNode:\n",
    "\n",
    "    def __init__(self, data):\n",
    "        self.data = data\n",
    "        self.next = None\n",
    "\n",
    "\n",
    "class Stack:\n",
    "\n",
    "    def __init__(self):\n",
    "        self.num_elements = 0\n",
    "        self.head = None\n",
    "\n",
    "    def push(self, data):\n",
    "        new_node = LinkedListNode(data)\n",
    "        if self.head is None:\n",
    "            self.head = new_node\n",
    "        else:\n",
    "            new_node.next = self.head\n",
    "            self.head = new_node\n",
    "        self.num_elements += 1\n",
    "\n",
    "    def pop(self):\n",
    "        if self.is_empty():\n",
    "            return None\n",
    "        temp = self.head.data\n",
    "        self.head = self.head.next\n",
    "        self.num_elements -= 1\n",
    "        return temp\n",
    "\n",
    "    def top(self):\n",
    "        if self.head is None:\n",
    "            return None\n",
    "        return self.head.data\n",
    "\n",
    "    def size(self):\n",
    "        return self.num_elements\n",
    "\n",
    "    def is_empty(self):\n",
    "        return self.num_elements == 0\n",
    "\n",
    "\n",
    "        \n",
    "class Queue:\n",
    "\n",
    "    def __init__(self):\n",
    "        self.head = None\n",
    "        self.tail = None\n",
    "        self.num_elements = 0\n",
    "\n",
    "    def enqueue(self, data):\n",
    "        new_node = LinkedListNode(data)\n",
    "        if self.head is None:\n",
    "            self.head = new_node\n",
    "            self.tail = new_node\n",
    "        else:\n",
    "            self.tail.next = new_node\n",
    "            self.tail = new_node\n",
    "        self.num_elements += 1\n",
    "\n",
    "    def dequeue(self):\n",
    "        if self.is_empty():\n",
    "            return None\n",
    "        temp = self.head.data\n",
    "        self.head = self.head.next\n",
    "        self.num_elements -= 1\n",
    "        return temp\n",
    "\n",
    "    def front(self):\n",
    "        if self.head is None:\n",
    "            return None\n",
    "        return self.head.data\n",
    "\n",
    "    def size(self):\n",
    "        return self.num_elements\n",
    "\n",
    "    def is_empty(self):\n",
    "        return self.num_elements == 0\n",
    "\n"
   ]
  },
  {
   "cell_type": "code",
   "execution_count": 2,
   "metadata": {
    "graffitiCellId": "id_ysyc8xm",
    "ExecuteTime": {
     "end_time": "2023-10-24T15:25:45.592708Z",
     "start_time": "2023-10-24T15:25:45.577198700Z"
    }
   },
   "outputs": [],
   "source": [
    "def reverse_queue(queue: Queue):\n",
    "    \"\"\"\n",
    "    Reverese the input queue\n",
    "\n",
    "    Args:\n",
    "       queue(queue),str2(string): Queue to be reversed\n",
    "    Returns:\n",
    "       queue: Reveresed queue\n",
    "    \n",
    "    1. dequeue 队列中的元素，将其放入栈中\n",
    "    2. 出栈。将出栈元素插入原来的队列\n",
    "    \"\"\"\n",
    "    out_storage = Stack()\n",
    "    while not out_storage.is_empty():\n",
    "        out_storage.push(queue.dequeue())\n",
    "    \n",
    "    while not out_storage.is_empty():\n",
    "        queue.enqueue(out_storage.pop())"
   ]
  },
  {
   "cell_type": "code",
   "execution_count": 3,
   "metadata": {
    "graffitiCellId": "id_k7693tw",
    "ExecuteTime": {
     "end_time": "2023-10-24T15:25:45.610723700Z",
     "start_time": "2023-10-24T15:25:45.592708Z"
    }
   },
   "outputs": [],
   "source": [
    "def test_function(test_case):\n",
    "    queue = Queue()\n",
    "    for num in test_case:\n",
    "        queue.enqueue(num)\n",
    "    \n",
    "    reverse_queue(queue)\n",
    "    index = len(test_case) - 1\n",
    "    while not queue.is_empty():\n",
    "        removed = queue.dequeue()\n",
    "        if removed != test_case[index]:\n",
    "            print(\"Fail\")\n",
    "            return\n",
    "        else:\n",
    "            index -= 1\n",
    "    print(\"Pass\")\n",
    "    "
   ]
  },
  {
   "cell_type": "code",
   "execution_count": 4,
   "metadata": {
    "graffitiCellId": "id_4zj3wab",
    "ExecuteTime": {
     "end_time": "2023-10-24T15:25:45.623738500Z",
     "start_time": "2023-10-24T15:25:45.607723700Z"
    }
   },
   "outputs": [
    {
     "name": "stdout",
     "output_type": "stream",
     "text": [
      "Pass\n"
     ]
    }
   ],
   "source": [
    "test_case_1 = [1, 2, 3, 4]\n",
    "test_function(test_case_1)"
   ]
  },
  {
   "cell_type": "code",
   "execution_count": 5,
   "metadata": {
    "graffitiCellId": "id_fkkw61x",
    "ExecuteTime": {
     "end_time": "2023-10-24T15:25:45.666785100Z",
     "start_time": "2023-10-24T15:25:45.623738500Z"
    }
   },
   "outputs": [
    {
     "name": "stdout",
     "output_type": "stream",
     "text": [
      "Pass\n"
     ]
    }
   ],
   "source": [
    "test_case_2 = [1]\n",
    "test_function(test_case_2)"
   ]
  },
  {
   "cell_type": "markdown",
   "metadata": {
    "graffitiCellId": "id_8lnr8ur"
   },
   "source": [
    "<span class=\"graffiti-highlight graffiti-id_8lnr8ur-id_7ltw82e\"><i></i><button>Show Solution</button></span>"
   ]
  }
 ],
 "metadata": {
  "graffiti": {
   "firstAuthorId": "10694620118",
   "id": "id_tmlgmwj",
   "language": "EN"
  },
  "kernelspec": {
   "display_name": "Python 3",
   "language": "python",
   "name": "python3"
  },
  "language_info": {
   "codemirror_mode": {
    "name": "ipython",
    "version": 3
   },
   "file_extension": ".py",
   "mimetype": "text/x-python",
   "name": "python",
   "nbconvert_exporter": "python",
   "pygments_lexer": "ipython3",
   "version": "3.6.3"
  }
 },
 "nbformat": 4,
 "nbformat_minor": 2
}
