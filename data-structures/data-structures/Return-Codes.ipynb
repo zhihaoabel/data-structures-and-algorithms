{
 "cells": [
  {
   "cell_type": "markdown",
   "metadata": {
    "graffitiCellId": "id_1myd4mr"
   },
   "source": [
    "### Problem statement\n",
    "\n",
    "In an encryption system where ASCII lower case letters represent numbers in the pattern `a=1, b=2, c=3...` and so on, find out all the codes that are possible for a given input number. \n",
    "\n",
    "**Example 1**\n",
    "\n",
    "* `number = 123`\n",
    "* `codes_possible = [\"aw\", \"abc\", \"lc\"]`\n",
    "\n",
    "Explanation: The codes are for the following number:\n",
    "         \n",
    "* 1 . 23     = \"aw\"\n",
    "* 1 . 2 . 3  = \"abc\"\n",
    "* 12 . 3     = \"lc\"\n",
    "    \n",
    "\n",
    "**Example 2**  \n",
    "\n",
    "* `number = 145`\n",
    "* `codes_possible = [\"ade\", \"ne\"]`\n",
    "\n",
    "Return the codes in a list. The order of codes in the list is not important.\n",
    "\n",
    "*Note: you can assume that the input number will not contain any 0s*"
   ]
  },
  {
   "cell_type": "code",
   "execution_count": 10,
   "metadata": {
    "graffitiCellId": "id_v2stglr",
    "ExecuteTime": {
     "end_time": "2023-11-07T17:19:22.731127500Z",
     "start_time": "2023-11-07T17:19:22.712106200Z"
    }
   },
   "outputs": [
    {
     "name": "stdout",
     "output_type": "stream",
     "text": [
      "codes: ['aabc', 'aaw', 'alc', 'kbc', 'kw']\n"
     ]
    }
   ],
   "source": [
    "def all_codes(input_num):\n",
    "    \"\"\"\n",
    "    base case：index等于 Input_num长度，即探索到一种可能的情况\n",
    "    \n",
    "    利用DFS先考虑单个数字组成，将对应的字母加入tmp_list\n",
    "    由于调用栈弹栈， 与此同时index也减小。然后倒序遍历，挨个从tmp_list pop元素，考虑两个数字组成编码的可能情况\n",
    "    :param input_num: \n",
    "    :return: \n",
    "    \"\"\"\n",
    "    result = []\n",
    "    tmp = []\n",
    "    input_num = str(input_num) if isinstance(input_num, int) else input_num\n",
    "\n",
    "    def backtrack(index, tmp_list: list):\n",
    "        # base condition\n",
    "        if index == len(input_num):\n",
    "            result.append(''.join(tmp_list))\n",
    "            return\n",
    "        if input_num[index] == '0':\n",
    "            return\n",
    "\n",
    "            # 处理单个数字对应编码的情况\n",
    "        code = chr(int(input_num[index]) + 96)\n",
    "        tmp_list.append(code)\n",
    "        backtrack(index + 1, tmp_list)\n",
    "        # 调用栈弹栈后，tmp_list 相应地 pop 元素，以考虑其他可能的组合\n",
    "        tmp_list.pop()\n",
    "\n",
    "        # 当 index + 2 不会使 input_num 越界时，考虑两个数字合起来组成编码的情况\n",
    "        if (index + 2) <= len(input_num) and 10 <= int(input_num[index: index + 2]) <= 26:\n",
    "            two_digits_code = chr(int(input_num[index: index + 2]) + 96)\n",
    "            tmp_list.append(two_digits_code)\n",
    "            backtrack(index + 2, tmp_list)\n",
    "            tmp_list.pop()\n",
    "\n",
    "    backtrack(0, tmp)\n",
    "    return result\n",
    "\n",
    "\n",
    "# Example usage:\n",
    "input_num = \"1123\"  # You can replace this with your input\n",
    "codes = all_codes(input_num)\n",
    "print(f'codes: {codes}')"
   ]
  },
  {
   "cell_type": "markdown",
   "metadata": {
    "graffitiCellId": "id_q8i2zj9"
   },
   "source": [
    "<span class=\"graffiti-highlight graffiti-id_q8i2zj9-id_yrg0ir2\"><i></i><button>Show Solution</button></span>"
   ]
  },
  {
   "cell_type": "code",
   "execution_count": 11,
   "metadata": {
    "graffitiCellId": "id_byos91q",
    "ExecuteTime": {
     "end_time": "2023-11-07T17:19:24.358244400Z",
     "start_time": "2023-11-07T17:19:24.333209700Z"
    }
   },
   "outputs": [],
   "source": [
    "def test_function(test_case):\n",
    "    number = test_case[0]\n",
    "    solution = test_case[1]\n",
    "\n",
    "    output = all_codes(number)\n",
    "\n",
    "    output.sort()\n",
    "    solution.sort()\n",
    "\n",
    "    if output == solution:\n",
    "        print(\"Pass\")\n",
    "    else:\n",
    "        print(\"Fail\")"
   ]
  },
  {
   "cell_type": "code",
   "execution_count": 12,
   "metadata": {
    "graffitiCellId": "id_l3o11vy",
    "ExecuteTime": {
     "end_time": "2023-11-07T17:19:25.308259400Z",
     "start_time": "2023-11-07T17:19:25.289015200Z"
    }
   },
   "outputs": [
    {
     "name": "stdout",
     "output_type": "stream",
     "text": [
      "Pass\n"
     ]
    }
   ],
   "source": [
    "number = 123\n",
    "solution = ['abc', 'aw', 'lc']\n",
    "test_case = [number, solution]\n",
    "test_function(test_case)"
   ]
  },
  {
   "cell_type": "code",
   "execution_count": 13,
   "metadata": {
    "graffitiCellId": "id_a5y5trj",
    "ExecuteTime": {
     "end_time": "2023-11-07T17:19:26.444329800Z",
     "start_time": "2023-11-07T17:19:26.407460200Z"
    }
   },
   "outputs": [
    {
     "name": "stdout",
     "output_type": "stream",
     "text": [
      "Pass\n"
     ]
    }
   ],
   "source": [
    "number = 145\n",
    "solution = ['ade', 'ne']\n",
    "test_case = [number, solution]\n",
    "test_function(test_case)"
   ]
  },
  {
   "cell_type": "code",
   "execution_count": 14,
   "metadata": {
    "graffitiCellId": "id_ujafvah",
    "ExecuteTime": {
     "end_time": "2023-11-07T17:19:27.266536200Z",
     "start_time": "2023-11-07T17:19:27.255051500Z"
    }
   },
   "outputs": [
    {
     "name": "stdout",
     "output_type": "stream",
     "text": [
      "Pass\n"
     ]
    }
   ],
   "source": [
    "number = 1145\n",
    "solution = ['aade', 'ane', 'kde']\n",
    "test_case = [number, solution]\n",
    "test_function(test_case)"
   ]
  },
  {
   "cell_type": "code",
   "execution_count": 15,
   "metadata": {
    "graffitiCellId": "id_6d1dxt9",
    "ExecuteTime": {
     "end_time": "2023-11-07T17:19:28.109959800Z",
     "start_time": "2023-11-07T17:19:28.096888900Z"
    }
   },
   "outputs": [
    {
     "name": "stdout",
     "output_type": "stream",
     "text": [
      "Pass\n"
     ]
    }
   ],
   "source": [
    "number = 4545\n",
    "solution = ['dede']\n",
    "test_case = [number, solution]\n",
    "test_function(test_case)"
   ]
  },
  {
   "cell_type": "code",
   "execution_count": null,
   "outputs": [],
   "source": [],
   "metadata": {
    "collapsed": false
   }
  }
 ],
 "metadata": {
  "graffiti": {
   "firstAuthorId": "dev",
   "id": "id_kdfaoy8",
   "language": "EN"
  },
  "kernelspec": {
   "display_name": "Python 3",
   "language": "python",
   "name": "python3"
  },
  "language_info": {
   "codemirror_mode": {
    "name": "ipython",
    "version": 3
   },
   "file_extension": ".py",
   "mimetype": "text/x-python",
   "name": "python",
   "nbconvert_exporter": "python",
   "pygments_lexer": "ipython3",
   "version": "3.6.3"
  }
 },
 "nbformat": 4,
 "nbformat_minor": 2
}
