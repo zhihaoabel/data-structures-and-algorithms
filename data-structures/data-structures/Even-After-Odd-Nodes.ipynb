{
 "cells": [
  {
   "cell_type": "markdown",
   "metadata": {
    "graffitiCellId": "id_ow7e8a4"
   },
   "source": [
    "### Problem Statement\n",
    "\n",
    "Given a linked list with integer data, arrange the elements in such a manner that all nodes with even numbers are placed after odd numbers. **Do not create any new nodes and avoid using any other data structure. The relative order of even and odd elements must not change.** \n",
    "\n",
    "**Example:**\n",
    "* `linked list = 1 2 3 4 5 6`\n",
    "* `output = 1 3 5 2 4 6`"
   ]
  },
  {
   "cell_type": "code",
   "execution_count": 9,
   "metadata": {
    "graffitiCellId": "id_7vmjo6u",
    "ExecuteTime": {
     "end_time": "2023-10-14T17:12:14.267758300Z",
     "start_time": "2023-10-14T17:12:14.213640300Z"
    }
   },
   "outputs": [],
   "source": [
    "class Node:\n",
    "    def __init__(self, data):\n",
    "        self.data = data\n",
    "        self.next = None"
   ]
  },
  {
   "cell_type": "markdown",
   "metadata": {
    "graffitiCellId": "id_kefqagf"
   },
   "source": [
    "### Exercise - Write the function definition here\n"
   ]
  },
  {
   "cell_type": "code",
   "execution_count": 10,
   "outputs": [],
   "source": [
    "def even_after_odd(head):\n",
    "    \"\"\"\n",
    "    :param - head - head of linked list\n",
    "    return - updated list with all even elements are odd elements\n",
    "\n",
    "    1. 从头开始遍历结点，用 permutable 记录是否需要置换结点位置，如果结点值为奇数且前面有偶数，调用permutate(node)方法将结点提前\n",
    "    2. 置换完后重置 permutable。继续从待置换结点往后遍历\n",
    "    \"\"\"\n",
    "\n",
    "    def permutate(head_node, prev_node, permutating_node):\n",
    "        \"\"\"\n",
    "        奇数结点前置\n",
    "\n",
    "        1. 先看头结点是否是偶数，如果是，直接前插 permutating_node\n",
    "        2. 从头结点之后开始遍历，当下一个结点值为偶数是，插入 permutating_node\n",
    "            具体实现：\n",
    "                a. 将待置换结点的 next 赋给待置换结点上一个节点的 next\n",
    "                b. 使待置换结点的 next 指向偶数结点\n",
    "                c. 偶数结点的前一个结点的 next 指向待置换结点\n",
    "        :param head_node: 更新的头结点\n",
    "        :param permutating_node: 待移位的结点\n",
    "        :return:\n",
    "        \"\"\"\n",
    "        if head_node.data % 2 == 0:\n",
    "            permutating_node.next = head_node\n",
    "            return\n",
    "\n",
    "        node = head_node\n",
    "        while node.next:\n",
    "            if node.next.data % 2 == 0:\n",
    "                # 将待置换结点的下一个结点赋给待置换结点的上一个结点的 next\n",
    "                prev_node.next = permutating_node.next\n",
    "                # 将待置换结点 next 指向第一个偶数结点\n",
    "                permutating_node.next = node.next\n",
    "                # 更新最后一个奇数结点的 next，使其指向待置换结点\n",
    "                node.next = permutating_node\n",
    "                return\n",
    "\n",
    "            node = node.next\n",
    "\n",
    "    if head is None:\n",
    "        return\n",
    "\n",
    "    prev = head\n",
    "    # 是否需要置换\n",
    "    permutable = False\n",
    "    while prev.next:\n",
    "        current = prev.next\n",
    "        if prev.next.data % 2 != 0 and permutable:\n",
    "            permutate(head, prev, current)\n",
    "\n",
    "            permutable = False\n",
    "        else:\n",
    "            # 如果遇到了偶数结点，以后的结点如果遇到奇数就需要置换\n",
    "            permutable = True\n",
    "        prev = current\n",
    "\n",
    "    return head"
   ],
   "metadata": {
    "collapsed": false,
    "ExecuteTime": {
     "end_time": "2023-10-14T17:12:15.453953200Z",
     "start_time": "2023-10-14T17:12:15.410861900Z"
    }
   }
  },
  {
   "cell_type": "markdown",
   "metadata": {
    "graffitiCellId": "id_xpuflcm"
   },
   "source": [
    "<span class=\"graffiti-highlight graffiti-id_xpuflcm-id_9q4n7o8\"><i></i><button>Show Solution</button></span>"
   ]
  },
  {
   "cell_type": "markdown",
   "metadata": {
    "graffitiCellId": "id_m63s5ow"
   },
   "source": [
    "### Test - Let's test your function"
   ]
  },
  {
   "cell_type": "code",
   "execution_count": 11,
   "metadata": {
    "graffitiCellId": "id_u1fjo92",
    "ExecuteTime": {
     "end_time": "2023-10-14T17:12:17.288155400Z",
     "start_time": "2023-10-14T17:12:17.249567900Z"
    }
   },
   "outputs": [],
   "source": [
    "# helper functions for testing purpose\n",
    "def create_linked_list(arr):\n",
    "    if len(arr) == 0:\n",
    "        return None\n",
    "    head = Node(arr[0])\n",
    "    tail = head\n",
    "    for data in arr[1:]:\n",
    "        tail.next = Node(data)\n",
    "        tail = tail.next\n",
    "    return head\n",
    "\n",
    "\n",
    "def print_linked_list(head):\n",
    "    while head:\n",
    "        print(head.data, end=' ')\n",
    "        head = head.next\n",
    "    print()"
   ]
  },
  {
   "cell_type": "code",
   "execution_count": 12,
   "metadata": {
    "graffitiCellId": "id_c1r40y6",
    "ExecuteTime": {
     "end_time": "2023-10-14T17:12:17.848241600Z",
     "start_time": "2023-10-14T17:12:17.803469600Z"
    }
   },
   "outputs": [],
   "source": [
    "def test_function(test_case):\n",
    "    head = test_case[0]\n",
    "    solution = test_case[1]\n",
    "\n",
    "    node_tracker = dict({})\n",
    "    node_tracker['nodes'] = list()\n",
    "    temp = head\n",
    "    while temp:\n",
    "        node_tracker['nodes'].append(temp)\n",
    "        temp = temp.next\n",
    "\n",
    "    head = even_after_odd(head)\n",
    "    temp = head\n",
    "    index = 0\n",
    "    try:\n",
    "        while temp:\n",
    "            if temp.data != solution[index] or temp not in node_tracker['nodes']:\n",
    "                print(\"Fail\")\n",
    "                return\n",
    "            temp = temp.next\n",
    "            index += 1\n",
    "        print(\"Pass\")\n",
    "    except Exception as e:\n",
    "        print(\"Fail\")"
   ]
  },
  {
   "cell_type": "code",
   "execution_count": 13,
   "metadata": {
    "graffitiCellId": "id_g689uo0",
    "ExecuteTime": {
     "end_time": "2023-10-14T17:12:18.620094100Z",
     "start_time": "2023-10-14T17:12:18.573120800Z"
    }
   },
   "outputs": [
    {
     "name": "stdout",
     "output_type": "stream",
     "text": [
      "Pass\n"
     ]
    }
   ],
   "source": [
    "arr = [1, 2, 3, 4, 5, 6]\n",
    "solution = [1, 3, 5, 2, 4, 6]\n",
    "\n",
    "head = create_linked_list(arr)\n",
    "test_case = [head, solution]\n",
    "test_function(test_case)"
   ]
  },
  {
   "cell_type": "code",
   "execution_count": 14,
   "metadata": {
    "graffitiCellId": "id_f2x6gq4",
    "ExecuteTime": {
     "end_time": "2023-10-14T17:12:19.264829800Z",
     "start_time": "2023-10-14T17:12:19.221656300Z"
    }
   },
   "outputs": [
    {
     "name": "stdout",
     "output_type": "stream",
     "text": [
      "Pass\n"
     ]
    }
   ],
   "source": [
    "arr = [1, 3, 5, 7]\n",
    "solution = [1, 3, 5, 7]\n",
    "\n",
    "head = create_linked_list(arr)\n",
    "test_case = [head, solution]\n",
    "test_function(test_case)"
   ]
  },
  {
   "cell_type": "code",
   "execution_count": 15,
   "metadata": {
    "graffitiCellId": "id_ejterzp",
    "ExecuteTime": {
     "end_time": "2023-10-14T17:12:19.967722Z",
     "start_time": "2023-10-14T17:12:19.938466700Z"
    }
   },
   "outputs": [
    {
     "name": "stdout",
     "output_type": "stream",
     "text": [
      "Pass\n"
     ]
    }
   ],
   "source": [
    "arr = [2, 4, 6, 8]\n",
    "solution = [2, 4, 6, 8]\n",
    "head = create_linked_list(arr)\n",
    "test_case = [head, solution]\n",
    "test_function(test_case)"
   ]
  },
  {
   "cell_type": "code",
   "execution_count": null,
   "outputs": [],
   "source": [],
   "metadata": {
    "collapsed": false
   }
  }
 ],
 "metadata": {
  "graffiti": {
   "firstAuthorId": "dev",
   "id": "id_8zd3m5b",
   "language": "EN"
  },
  "kernelspec": {
   "display_name": "Python 3",
   "language": "python",
   "name": "python3"
  },
  "language_info": {
   "codemirror_mode": {
    "name": "ipython",
    "version": 3
   },
   "file_extension": ".py",
   "mimetype": "text/x-python",
   "name": "python",
   "nbconvert_exporter": "python",
   "pygments_lexer": "ipython3",
   "version": "3.6.3"
  }
 },
 "nbformat": 4,
 "nbformat_minor": 2
}
