{
 "cells": [
  {
   "cell_type": "markdown",
   "metadata": {},
   "source": [
    "## Flattening a nested linked list\n",
    "\n",
    "Suppose you have a linked list where the value of each node is a sorted linked list (i.e., it is a _nested_ list). Your task is to _flatten_ this nested list—that is, to combine all nested lists into a single (sorted) linked list.\n",
    "\n",
    "First, we'll need some code for generating nodes and a linked list:"
   ]
  },
  {
   "cell_type": "code",
   "execution_count": 27,
   "metadata": {
    "ExecuteTime": {
     "end_time": "2023-10-06T15:19:18.266216200Z",
     "start_time": "2023-10-06T15:19:18.252708Z"
    }
   },
   "outputs": [],
   "source": [
    "# Helper code\n",
    "\n",
    "# A class behaves like a data-type, just like an int, float or any other built-in ones. \n",
    "# User defined class\n",
    "class Node:\n",
    "    def __init__(self,\n",
    "                 value):  # <-- For simple LinkedList, \"value\" argument will be an int, whereas, for NestedLinkedList, \"value\" will be a LinkedList\n",
    "        self.value = value\n",
    "        self.next = None\n",
    "\n",
    "    def __repr__(self):\n",
    "        return str(self.value)\n",
    "\n",
    "\n",
    "# User defined class\n",
    "class LinkedList:\n",
    "    def __init__(self, head):  # <-- Expects \"head\" to be a Node made up of an int or LinkedList\n",
    "        self.head = head\n",
    "\n",
    "    '''\n",
    "    For creating a simple LinkedList, we will pass an integer as the \"value\" argument\n",
    "    For creating a nested LinkedList, we will pass a LinkedList as the \"value\" argument\n",
    "    '''\n",
    "\n",
    "    def append(self, value):\n",
    "\n",
    "        # If LinkedList is empty\n",
    "        if self.head is None:\n",
    "            self.head = Node(value)\n",
    "            return\n",
    "\n",
    "        # Create a temporary Node object\n",
    "        node = self.head\n",
    "\n",
    "        # Iterate till the end of the currrent LinkedList\n",
    "        while node.next is not None:\n",
    "            node = node.next\n",
    "\n",
    "        # Append the newly creataed Node at the end of the currrent LinkedList\n",
    "        node.next = Node(value)\n",
    "\n",
    "    '''We will need this function to convert a LinkedList object into a Python list of integers'''\n",
    "\n",
    "    def to_list(self):\n",
    "        out = []  # <-- Declare a Python list\n",
    "        node = self.head  # <-- Create a temporary Node object\n",
    "\n",
    "        while node:  # <-- Iterate untill we have nodes available\n",
    "            out.append(int(str(\n",
    "                node.value)))  # <-- node.value is actually of type Node, therefore convert it into int before appending to the Python list\n",
    "            node = node.next\n",
    "\n",
    "        return out"
   ]
  },
  {
   "cell_type": "markdown",
   "metadata": {},
   "source": [
    "### Exercise - Write the two function definitions below\n",
    "Now, in the cell below, see if you can solve the problem by implementing the `flatten` method.\n",
    "\n",
    "**Hint**: If you first create a `merge` method that merges two linked lists into a sorted linked list, then there is an elegant recursive solution."
   ]
  },
  {
   "cell_type": "code",
   "execution_count": 28,
   "metadata": {
    "ExecuteTime": {
     "end_time": "2023-10-06T15:19:19.492805Z",
     "start_time": "2023-10-06T15:19:19.477230200Z"
    }
   },
   "outputs": [],
   "source": [
    "def sort_linked_list(llist: list) -> LinkedList:\n",
    "    out = LinkedList(None)\n",
    "    if llist is None:\n",
    "        return out\n",
    "\n",
    "    sorted_list = sorted(llist)\n",
    "    for e in sorted_list:\n",
    "        out.append(e)\n",
    "\n",
    "    return out\n",
    "\n",
    "\n",
    "def merge(list1: LinkedList, list2: LinkedList) -> LinkedList:\n",
    "    # TODO: Implement this function so that it merges the two linked lists in a single, sorted linked list.\n",
    "    \"\"\"\n",
    "    The arguments list1, list2 must be of type LinkedList.\n",
    "    The merge() function must return an instance of LinkedList.\n",
    "    \"\"\"\n",
    "    if list1 is None:\n",
    "        list1 = LinkedList(None)\n",
    "    if list2 is None:\n",
    "        list2 = LinkedList(None)\n",
    "\n",
    "    merged_list = list1.to_list() + list2.to_list()\n",
    "    return sort_linked_list(merged_list)\n",
    "\n",
    "\n",
    "''' In a NESTED LinkedList object, each node will be a simple LinkedList in itself'''\n",
    "\n",
    "\n",
    "class NestedLinkedList(LinkedList):\n",
    "    \"\"\"\n",
    "    Note: NestedLinkedList每个结点的value是一个LinkedList\n",
    "\n",
    "    1. 依次遍历 NestedLinkedList 每个结点\n",
    "    2. 取出结点的value值，即为 LinkedList，递归合并 LinkedList\n",
    "    3. NestedLinkedList 结点后移\n",
    "    \"\"\"\n",
    "    def flatten(self):\n",
    "        if self.head is None:\n",
    "            return NestedLinkedList(None)\n",
    "\n",
    "        current: Node = self.head\n",
    "        merged_linked_list = None\n",
    "        while current:\n",
    "            # 当前 NestedLinkedList 结点内的 LinkedList\n",
    "            inner_linked_list: LinkedList = current.value\n",
    "            merged_linked_list = merge(merged_linked_list, inner_linked_list)\n",
    "            # 下一个 NestedLinkedList 结点\n",
    "            current = current.next\n",
    "\n",
    "        return merged_linked_list\n"
   ]
  },
  {
   "cell_type": "code",
   "execution_count": 29,
   "outputs": [],
   "source": [
    "### Test - Let's make sure merge works how we expect"
   ],
   "metadata": {
    "collapsed": false,
    "ExecuteTime": {
     "end_time": "2023-10-06T15:19:20.744460800Z",
     "start_time": "2023-10-06T15:19:20.724439800Z"
    }
   }
  },
  {
   "cell_type": "code",
   "execution_count": 30,
   "outputs": [
    {
     "name": "stdout",
     "output_type": "stream",
     "text": [
      "1\n",
      "2\n",
      "3\n",
      "4\n",
      "5\n",
      "1\n",
      "3\n",
      "5\n"
     ]
    }
   ],
   "source": [
    "''' Test merge() function'''\n",
    "linked_list = LinkedList(Node(1))\n",
    "linked_list.append(3)\n",
    "linked_list.append(5)\n",
    "\n",
    "second_linked_list = LinkedList(Node(2))\n",
    "second_linked_list.append(4)\n",
    "\n",
    "merged = merge(linked_list, second_linked_list)\n",
    "node = merged.head\n",
    "while node is not None:\n",
    "    #This will print 1 2 3 4 5\n",
    "    print(node.value)\n",
    "    node = node.next\n",
    "\n",
    "# Lets make sure it works with a None list\n",
    "merged = merge(None, linked_list)\n",
    "node = merged.head\n",
    "while node is not None:\n",
    "    #This will print 1 3 5\n",
    "    print(node.value)\n",
    "    node = node.next"
   ],
   "metadata": {
    "collapsed": false,
    "ExecuteTime": {
     "end_time": "2023-10-06T15:19:21.615263100Z",
     "start_time": "2023-10-06T15:19:21.583205300Z"
    }
   }
  },
  {
   "cell_type": "markdown",
   "source": [
    "### Test - Let's test your function\n",
    "Here's some code that will generate a nested linked list that we can use to test the solution:"
   ],
   "metadata": {
    "collapsed": false
   }
  },
  {
   "cell_type": "code",
   "execution_count": 31,
   "metadata": {
    "ExecuteTime": {
     "end_time": "2023-10-06T15:19:23.281383800Z",
     "start_time": "2023-10-06T15:19:23.270256600Z"
    }
   },
   "outputs": [],
   "source": [
    "# First Test scenario\n",
    "''' Create a simple LinkedList'''\n",
    "linked_list = LinkedList(Node(1))  # <-- Notice that we are passing a Node made up of an integer\n",
    "linked_list.append(3)  # <-- Notice that we are passing a numerical value as an argument in the append() function here \n",
    "linked_list.append(5)\n",
    "\n",
    "''' Create another simple LinkedList'''\n",
    "second_linked_list = LinkedList(Node(2))\n",
    "second_linked_list.append(4)\n",
    "\n",
    "''' Create a NESTED LinkedList, where each node will be a simple LinkedList in itself'''\n",
    "nested_linked_list = NestedLinkedList(\n",
    "    Node(linked_list))  # <-- Notice that we are passing a Node made up of a simple LinkedList object\n",
    "nested_linked_list.append(\n",
    "    second_linked_list)  # <-- Notice that we are passing a LinkedList object in the append() function here"
   ]
  },
  {
   "cell_type": "markdown",
   "metadata": {},
   "source": [
    "#### Structure of the nested linked list to be tested\n",
    "`nested_linked_list` should now have 2 nodes.  The head node is a linked list containing `1, 3, 5`.  The second node is a linked list containing `2, 4`.\n",
    "\n",
    "Calling `flatten` should return a linked list containing `1, 2, 3, 4, 5`."
   ]
  },
  {
   "cell_type": "code",
   "execution_count": 32,
   "metadata": {
    "scrolled": true,
    "ExecuteTime": {
     "end_time": "2023-10-06T15:19:31.283738500Z",
     "start_time": "2023-10-06T15:19:31.252581400Z"
    }
   },
   "outputs": [
    {
     "ename": "AttributeError",
     "evalue": "'NoneType' object has no attribute 'value'",
     "output_type": "error",
     "traceback": [
      "\u001B[1;31m---------------------------------------------------------------------------\u001B[0m",
      "\u001B[1;31mAttributeError\u001B[0m                            Traceback (most recent call last)",
      "Cell \u001B[1;32mIn[32], line 1\u001B[0m\n\u001B[1;32m----> 1\u001B[0m solution \u001B[38;5;241m=\u001B[39m \u001B[43mnested_linked_list\u001B[49m\u001B[38;5;241;43m.\u001B[39;49m\u001B[43mflatten\u001B[49m\u001B[43m(\u001B[49m\u001B[43m)\u001B[49m  \u001B[38;5;66;03m# <-- returns A LinkedList object\u001B[39;00m\n\u001B[0;32m      3\u001B[0m expected_list \u001B[38;5;241m=\u001B[39m [\u001B[38;5;241m1\u001B[39m, \u001B[38;5;241m2\u001B[39m, \u001B[38;5;241m3\u001B[39m, \u001B[38;5;241m4\u001B[39m, \u001B[38;5;241m5\u001B[39m]  \u001B[38;5;66;03m# <-- Python list\u001B[39;00m\n\u001B[0;32m      5\u001B[0m \u001B[38;5;66;03m# Convert the \"solution\" into a Python list and compare with another Python list\u001B[39;00m\n",
      "Cell \u001B[1;32mIn[28], line 50\u001B[0m, in \u001B[0;36mNestedLinkedList.flatten\u001B[1;34m(self)\u001B[0m\n\u001B[0;32m     48\u001B[0m     current \u001B[38;5;241m=\u001B[39m current\u001B[38;5;241m.\u001B[39mnext\n\u001B[0;32m     49\u001B[0m     \u001B[38;5;66;03m# 下一个 NestedLinkedList 结点内的 LinkedList\u001B[39;00m\n\u001B[1;32m---> 50\u001B[0m     inner_linked_list \u001B[38;5;241m=\u001B[39m \u001B[43mcurrent\u001B[49m\u001B[38;5;241;43m.\u001B[39;49m\u001B[43mvalue\u001B[49m\n\u001B[0;32m     52\u001B[0m \u001B[38;5;28mprint\u001B[39m(\u001B[38;5;28misinstance\u001B[39m(merged_linked_list, LinkedList))\n\u001B[0;32m     53\u001B[0m \u001B[38;5;28;01mreturn\u001B[39;00m merged_linked_list\n",
      "\u001B[1;31mAttributeError\u001B[0m: 'NoneType' object has no attribute 'value'"
     ]
    }
   ],
   "source": [
    "solution = nested_linked_list.flatten()  # <-- returns A LinkedList object\n",
    "\n",
    "expected_list = [1, 2, 3, 4, 5]  # <-- Python list\n",
    "\n",
    "# Convert the \"solution\" into a Python list and compare with another Python list\n",
    "assert solution.to_list() == expected_list, f\"list contents: {solution.to_list()}\""
   ]
  },
  {
   "cell_type": "markdown",
   "metadata": {},
   "source": [
    "### Solution"
   ]
  },
  {
   "cell_type": "markdown",
   "metadata": {},
   "source": [
    "First, let's implement a `merge` function that takes in two linked lists and returns one sorted linked list.  Note, this implementation expects both linked lists to be sorted."
   ]
  },
  {
   "cell_type": "code",
   "execution_count": null,
   "metadata": {},
   "outputs": [],
   "source": [
    "def merge(list1, list2):\n",
    "    merged = LinkedList(None)\n",
    "    if list1 is None:\n",
    "        return list2\n",
    "    if list2 is None:\n",
    "        return list1\n",
    "    list1_elt = list1.head\n",
    "    list2_elt = list2.head\n",
    "    while list1_elt is not None or list2_elt is not None:\n",
    "        if list1_elt is None:\n",
    "            merged.append(list2_elt)\n",
    "            list2_elt = list2_elt.next\n",
    "        elif list2_elt is None:\n",
    "            merged.append(list1_elt)\n",
    "            list1_elt = list1_elt.next\n",
    "        elif list1_elt.value <= list2_elt.value:\n",
    "            merged.append(list1_elt)\n",
    "            list1_elt = list1_elt.next\n",
    "        else:\n",
    "            merged.append(list2_elt)\n",
    "            list2_elt = list2_elt.next\n",
    "    return merged"
   ]
  },
  {
   "cell_type": "markdown",
   "metadata": {},
   "source": [
    "Let's make sure merge works how we expect:"
   ]
  },
  {
   "cell_type": "code",
   "execution_count": null,
   "metadata": {},
   "outputs": [],
   "source": [
    "''' Test merge() function'''\n",
    "linked_list = LinkedList(Node(1))\n",
    "linked_list.append(3)\n",
    "linked_list.append(5)\n",
    "\n",
    "second_linked_list = LinkedList(Node(2))\n",
    "second_linked_list.append(4)\n",
    "\n",
    "merged = merge(linked_list, second_linked_list)\n",
    "node = merged.head\n",
    "while node is not None:\n",
    "    #This will print 1 2 3 4 5\n",
    "    print(node.value)\n",
    "    node = node.next\n",
    "\n",
    "# Lets make sure it works with a None list\n",
    "merged = merge(None, linked_list)\n",
    "node = merged.head\n",
    "while node is not None:\n",
    "    #This will print 1 3 5\n",
    "    print(node.value)\n",
    "    node = node.next"
   ]
  },
  {
   "cell_type": "markdown",
   "metadata": {},
   "source": [
    "Now let's implement `flatten` recursively using merge."
   ]
  },
  {
   "cell_type": "code",
   "execution_count": null,
   "metadata": {},
   "outputs": [],
   "source": [
    "''' In a NESTED LinkedList object, each node will be a simple LinkedList in itself'''\n",
    "\n",
    "\n",
    "class NestedLinkedList(LinkedList):\n",
    "    def flatten(self):\n",
    "        return self._flatten(self.head)  # <-- self.head is a node for NestedLinkedList\n",
    "\n",
    "    '''  A recursive function '''\n",
    "\n",
    "    def _flatten(self, node):\n",
    "        # A termination condition\n",
    "        if node.next is None:\n",
    "            return merge(node.value, None)  # <-- First argument is a simple LinkedList\n",
    "\n",
    "        # _flatten() is calling itself untill a termination condition is achieved\n",
    "        return merge(node.value, self._flatten(node.next))  # <-- Both arguments are a simple LinkedList each"
   ]
  },
  {
   "cell_type": "code",
   "execution_count": null,
   "metadata": {},
   "outputs": [],
   "source": [
    "''' Test flatten() function'''\n",
    "# Create a nested linked list with one node. \n",
    "# The node itself is a simple linked list as 1-->3-->5 created previously\n",
    "nested_linked_list = NestedLinkedList(Node(linked_list))\n",
    "\n",
    "# Append a node (a linked list as 2-->4) to the existing nested linked list\n",
    "nested_linked_list.append(second_linked_list)\n",
    "\n",
    "# Call the `flatten()` function\n",
    "flattened = nested_linked_list.flatten()\n",
    "\n",
    "# Logic to print the flattened list\n",
    "node = flattened.head\n",
    "while node is not None:\n",
    "    #This will print 1 2 3 4 5\n",
    "    print(node.value)\n",
    "    node = node.next"
   ]
  },
  {
   "cell_type": "markdown",
   "metadata": {},
   "source": [
    "### Computational Complexity\n",
    "Lets start with the computational complexity of `merge`.  Merge takes in two lists.  Let's say the lengths of the lists are $N_{1}$ and $N_{2}$. Because we assume the inputs are sorted, `merge` is very efficient. It looks at the first element of each list and adds the smaller one to the returned list.  Every time through the loop we are appending one element to the list, so it will take $N_{1} + N_{2}$ iterations until we have the whole list.\n",
    "\n",
    "The complexity of `flatten` is a little more complicated to calculate.  Suppose our `NestedLinkedList` has $N$ linked lists and each list's length is represented by $M_{1}, M_{2}, ..., M_{N}$.\n",
    "\n",
    "We can represent this recursion as:\n",
    "\n",
    "$merge(M_{1}, merge(M_{2}, merge(..., merge(M_{N-1}, merge(M_{N}, None)))))$\n",
    "\n",
    "Let's start from the inside.  The inner most merge returns the $nth$ linked list.  The next merge does $M_{N-1} + M_{N}$ comparisons.  The next merge does $M_{N-2} + M_{N-1} + M_{N}$ comparisons.\n",
    "\n",
    "Eventually we will do $N$ comparisons on all of the $M_{N}$ elements. We will do $N-1$ comparisons on $M_{N-1}$ elements.\n",
    "\n",
    "This can be generalized as:\n",
    "\n",
    "$$\n",
    "\\sum_n^N n*M_{n}\n",
    "$$"
   ]
  },
  {
   "cell_type": "code",
   "execution_count": null,
   "metadata": {},
   "outputs": [],
   "source": []
  }
 ],
 "metadata": {
  "kernelspec": {
   "display_name": "Python 3",
   "language": "python",
   "name": "python3"
  },
  "language_info": {
   "codemirror_mode": {
    "name": "ipython",
    "version": 3
   },
   "file_extension": ".py",
   "mimetype": "text/x-python",
   "name": "python",
   "nbconvert_exporter": "python",
   "pygments_lexer": "ipython3",
   "version": "3.6.3"
  }
 },
 "nbformat": 4,
 "nbformat_minor": 2
}
