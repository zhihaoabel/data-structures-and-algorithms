{
 "cells": [
  {
   "cell_type": "markdown",
   "metadata": {
    "graffitiCellId": "id_3ajxm94"
   },
   "source": [
    "### Problem Statement\n",
    "\n",
    "Given an input string, return all permutations of the string in an array.\n",
    "\n",
    "**Example 1:**\n",
    "* `string = 'ab'`\n",
    "* `output = ['ab', 'ba']`\n",
    "\n",
    "**Example 2:**\n",
    "* `string = 'abc'`\n",
    "* `output = ['abc', 'bac', 'bca', 'acb', 'cab', 'cba']`\n",
    "---\n",
    "\n",
    "#### Note - Strings are Immutable \n",
    "Strings in Python are immutable, whch means that we cannot overwrite the characters of the String objects. For example:\n",
    "```\n",
    "str1 = \"Hello\"\n",
    "str1[0] = 'K'                         # Try changing the first character\n",
    "```\n",
    "will lead to \n",
    "```\n",
    "TypeError: 'str' object does not support item assignment\n",
    "```\n",
    "    \n",
    "We can only re-assign the variable to a new value (string), as follows:\n",
    "```\n",
    "str1 = \"Udacity\"                      # re-assignment\n",
    "str2 = \"Welcome to the \" + str1[3:]   # Returns 'Welcome to the city'\n",
    "```\n",
    "**Therefore, we do not require a deep copy in this exercise, as it was the case in our last example of list permutation.** \n",
    "\n",
    "---\n",
    "\n",
    "**The Idea**<br>\n",
    "Starting with a blank list, add each character of original input string at all possible positions. <br><br>\n",
    "\n",
    "For example, take `\"abc\"` as the original string:<br>\n",
    "\n",
    "1. Start with a blank `list()` object. This is actually the last call of recursive function stack. Pick a character `'c'` of original string, making the output as `['c']`<br><br>\n",
    "\n",
    "2. Pick next character `b` of original input string, and place the current character at different indices of the each sub-string of previous output. **We can make use of the sub-string of previous output, to create a new sub-string.** Now, the output will become `['bc', 'cb']`.<br><br>\n",
    "\n",
    "3. Pick next character `a` of original input string, and place the current character at different indices of the each sub-string of previous output. Now, the output will become `['abc', 'bac', 'bca', 'acb', 'cab', 'cba']`. .<br><br>\n",
    "---\n",
    "### Exercise - Write the function definition here\n"
   ]
  },
  {
   "cell_type": "code",
   "execution_count": 7,
   "metadata": {
    "graffitiCellId": "id_nv5urta",
    "ExecuteTime": {
     "end_time": "2023-10-30T15:31:40.825017100Z",
     "start_time": "2023-10-30T15:31:40.816512400Z"
    }
   },
   "outputs": [],
   "source": [
    "def permutations(input_string):\n",
    "    \"\"\"\n",
    "    :param: input string\n",
    "    Return - list of all permutations of the input string\n",
    "    TODO: complete this function to return a list of all permutations of the string\n",
    "    \"\"\"\n",
    "    final_strings = []\n",
    "    if len(input_string) == 0:\n",
    "        final_strings.append('')\n",
    "\n",
    "    else:\n",
    "        first_character = input_string[0]\n",
    "        rest_string = input_string[1:]\n",
    "\n",
    "        sub_strings = permutations(rest_string)\n",
    "        for sub_string in sub_strings:\n",
    "            for possible_index in range(len(sub_string) + 1):\n",
    "                if possible_index == 0:\n",
    "                    new_string = first_character + sub_string\n",
    "                else:\n",
    "                    new_string = sub_string[0:possible_index] + first_character + sub_string[possible_index:]\n",
    "                final_strings.append(new_string)\n",
    "    return final_strings"
   ]
  },
  {
   "cell_type": "markdown",
   "metadata": {
    "graffitiCellId": "id_2d0q2u5"
   },
   "source": [
    "<span class=\"graffiti-highlight graffiti-id_2d0q2u5-id_vkbq25t\"><i></i><button>Show Solution</button></span>"
   ]
  },
  {
   "cell_type": "markdown",
   "metadata": {
    "graffitiCellId": "id_bmpcwu8"
   },
   "source": [
    "### Test - Let's test your function"
   ]
  },
  {
   "cell_type": "code",
   "execution_count": 8,
   "metadata": {
    "graffitiCellId": "id_mhqifv4",
    "ExecuteTime": {
     "end_time": "2023-10-30T15:31:42.593546Z",
     "start_time": "2023-10-30T15:31:42.590545700Z"
    }
   },
   "outputs": [],
   "source": [
    "def test_function(test_case):\n",
    "    string = test_case[0]\n",
    "    solution = test_case[1]\n",
    "    output = permutations(string)\n",
    "    \n",
    "    output.sort()\n",
    "    solution.sort()\n",
    "    \n",
    "    if output == solution:\n",
    "        print(\"Pass\")\n",
    "    else:\n",
    "        print(\"Fail\")"
   ]
  },
  {
   "cell_type": "code",
   "execution_count": 9,
   "metadata": {
    "graffitiCellId": "id_tfd0a1l",
    "ExecuteTime": {
     "end_time": "2023-10-30T15:31:43.237404300Z",
     "start_time": "2023-10-30T15:31:43.230890800Z"
    }
   },
   "outputs": [
    {
     "name": "stdout",
     "output_type": "stream",
     "text": [
      "Pass\n"
     ]
    }
   ],
   "source": [
    "string = 'ab'\n",
    "solution = ['ab', 'ba']\n",
    "test_case = [string, solution]\n",
    "test_function(test_case)"
   ]
  },
  {
   "cell_type": "code",
   "execution_count": 10,
   "metadata": {
    "graffitiCellId": "id_j5hyexv",
    "ExecuteTime": {
     "end_time": "2023-10-30T15:31:43.936846200Z",
     "start_time": "2023-10-30T15:31:43.911318Z"
    }
   },
   "outputs": [
    {
     "name": "stdout",
     "output_type": "stream",
     "text": [
      "Pass\n"
     ]
    }
   ],
   "source": [
    "string = 'abc'\n",
    "output = ['abc', 'bac', 'bca', 'acb', 'cab', 'cba']\n",
    "test_case = [string, output]\n",
    "test_function(test_case)"
   ]
  },
  {
   "cell_type": "code",
   "execution_count": 11,
   "metadata": {
    "graffitiCellId": "id_5e53dq2",
    "ExecuteTime": {
     "end_time": "2023-10-30T15:31:44.415045300Z",
     "start_time": "2023-10-30T15:31:44.407027200Z"
    }
   },
   "outputs": [
    {
     "name": "stdout",
     "output_type": "stream",
     "text": [
      "Pass\n"
     ]
    }
   ],
   "source": [
    "string = 'abcd'\n",
    "output = ['abcd', 'bacd', 'bcad', 'bcda', 'acbd', 'cabd', 'cbad', 'cbda', 'acdb', 'cadb', 'cdab', 'cdba', 'abdc', 'badc', 'bdac', 'bdca', 'adbc', 'dabc', 'dbac', 'dbca', 'adcb', 'dacb', 'dcab', 'dcba']\n",
    "test_case = [string, output]\n",
    "test_function(test_case)"
   ]
  },
  {
   "cell_type": "code",
   "execution_count": null,
   "outputs": [],
   "source": [],
   "metadata": {
    "collapsed": false
   }
  }
 ],
 "metadata": {
  "graffiti": {
   "firstAuthorId": "dev",
   "id": "id_lyhj8gh",
   "language": "EN"
  },
  "kernelspec": {
   "display_name": "Python 3",
   "language": "python",
   "name": "python3"
  },
  "language_info": {
   "codemirror_mode": {
    "name": "ipython",
    "version": 3
   },
   "file_extension": ".py",
   "mimetype": "text/x-python",
   "name": "python",
   "nbconvert_exporter": "python",
   "pygments_lexer": "ipython3",
   "version": "3.6.3"
  }
 },
 "nbformat": 4,
 "nbformat_minor": 2
}
