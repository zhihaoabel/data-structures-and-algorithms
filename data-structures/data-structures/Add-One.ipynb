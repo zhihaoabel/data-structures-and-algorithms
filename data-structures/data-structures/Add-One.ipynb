{
 "cells": [
  {
   "cell_type": "markdown",
   "metadata": {
    "graffitiCellId": "id_m7du2yn"
   },
   "source": [
    "### Problem Statement\n",
    "\n",
    "You are given a non-negative number in the form of list elements. For example, the number `123` would be provided as `arr = [1, 2, 3]`. Add one to the number and return the output in the form of a new list. \n",
    "\n",
    "**Example 1:**\n",
    "* `input = [1, 2, 3]`\n",
    "* `output = [1, 2, 4]`\n",
    "\n",
    "\n",
    "**Example 2:**\n",
    "* `input = [1, 2, 9]`\n",
    "* `output = [1, 3, 0]`\n",
    "\n",
    "**Example 3:**\n",
    "* `input = [9, 9, 9]`\n",
    "* `output = [1, 0, 0, 0]`\n",
    "\n",
    "\n",
    "**Challenge:**\n",
    "One way to solve this problem is to convert the input array into a number and then add one to it. For example, if we have `input = [1, 2, 3]`, you could solve this problem by creating the number `123` and then separating the digits of the output number `124`.\n",
    "\n",
    "But can you solve it in some other way?\n",
    "\n",
    "### Exercise - Write your function definition here. \n",
    "**Note** - Try proposing a non-recursive solution. We will see a recursive solution in the next lesson \"Recursion\". "
   ]
  },
  {
   "cell_type": "code",
   "execution_count": 10,
   "metadata": {
    "graffitiCellId": "id_c3itdzc",
    "ExecuteTime": {
     "end_time": "2023-10-10T15:34:05.427541900Z",
     "start_time": "2023-10-10T15:34:05.414582400Z"
    }
   },
   "outputs": [],
   "source": [
    "def add_one(arr: list):\n",
    "    \"\"\"\n",
    "    :param: arr - list of digits representing some number x\n",
    "    return a list with digits represent int (x + 1)\n",
    "    \n",
    "    1. 将arr拼接成字符串，再将字符串转换为数字后+1\n",
    "    2. 拆分结果为list\n",
    "    \"\"\"\n",
    "\n",
    "    def convert_ints(integer_list: list):\n",
    "        # 转换成数字后加一\n",
    "        return int(\"\".join([str(i) for i in integer_list])) + 1\n",
    "\n",
    "    result = convert_ints(arr)\n",
    "    # 将结果转换为字符串，遍历字符串并返回\n",
    "    return [int(ch) for ch in str(result)]\n",
    "\n",
    "    # \"\"\"优化的思路：\n",
    "    # borrow = 1\n",
    "    # 1. 倒序遍历arr；\n",
    "    # 2. 给当前被遍历的元素加1.\n",
    "    # 3. 对结果整除10，将整除的值赋值给borrow\n",
    "    #     a. 如果borrow为0，说明当前元素加1后结果为0-9，终止循环。\n",
    "    #     b. 如果borrow>0，说明元素加1后结果为10，需要进位\n",
    "    #         1. 给当前元素赋值为 结果%10的余数\n",
    "    # 4. 将borrow前插法插到遍历过后的arr中。\n",
    "    #     a. 如果插入的borrow是1，说明index=0的数字产生了进位\n",
    "    #     b.  如果插入的borrow是0，说明循环并未完全遍历\n",
    "    # 5. 遍历arr，找到非0元素的索引位置，利用list切片返回结果\n",
    "    # \"\"\"\n",
    "    # borrow = 1\n",
    "    # for i in range(len(arr), 0, -1):\n",
    "    #     digit = arr[i - 1] + borrow\n",
    "    # \n",
    "    #     borrow = digit // 10\n",
    "    # \n",
    "    #     if borrow == 0:\n",
    "    #         arr[i - i] = digit\n",
    "    #         break\n",
    "    #     else:\n",
    "    #         arr[i - 1] = digit % 10\n",
    "    # \n",
    "    # array_list = [borrow] + arr\n",
    "    # index = 0\n",
    "    # while array_list[index] == 0:\n",
    "    #     index += 1\n",
    "    # \n",
    "    # return array_list[index:]"
   ]
  },
  {
   "cell_type": "markdown",
   "metadata": {
    "graffitiCellId": "id_3pjovzo"
   },
   "source": [
    "<span class=\"graffiti-highlight graffiti-id_3pjovzo-id_jahm5fv\"><i></i><button>Show Solution</button></span>"
   ]
  },
  {
   "cell_type": "code",
   "execution_count": 11,
   "metadata": {
    "graffitiCellId": "id_ejl0gzn",
    "ExecuteTime": {
     "end_time": "2023-10-10T15:34:06.280554700Z",
     "start_time": "2023-10-10T15:34:06.273351800Z"
    }
   },
   "outputs": [],
   "source": [
    "# A helper function for Test Cases\n",
    "def test_function(test_case):\n",
    "    arr = test_case[0]\n",
    "    solution = test_case[1]\n",
    "\n",
    "    output = add_one(arr)\n",
    "    for index, element in enumerate(output):\n",
    "        if element != solution[index]:\n",
    "            print(\"Fail\")\n",
    "            return\n",
    "    print(\"Pass\")"
   ]
  },
  {
   "cell_type": "code",
   "execution_count": 12,
   "metadata": {
    "graffitiCellId": "id_r171xpy",
    "ExecuteTime": {
     "end_time": "2023-10-10T15:34:07.301227500Z",
     "start_time": "2023-10-10T15:34:07.264448700Z"
    }
   },
   "outputs": [
    {
     "name": "stdout",
     "output_type": "stream",
     "text": [
      "1\n",
      "Pass\n"
     ]
    }
   ],
   "source": [
    "# Test Case 1\n",
    "arr = [0]\n",
    "solution = [1]\n",
    "test_case = [arr, solution]\n",
    "test_function(test_case)"
   ]
  },
  {
   "cell_type": "code",
   "execution_count": 13,
   "metadata": {
    "graffitiCellId": "id_hxtikz2",
    "ExecuteTime": {
     "end_time": "2023-10-10T15:35:22.523167900Z",
     "start_time": "2023-10-10T15:35:22.493122800Z"
    }
   },
   "outputs": [
    {
     "name": "stdout",
     "output_type": "stream",
     "text": [
      "124\n",
      "Pass\n"
     ]
    }
   ],
   "source": [
    "# Test Case 2\n",
    "arr = [1, 2, 3]\n",
    "solution = [1, 2, 4]\n",
    "test_case = [arr, solution]\n",
    "test_function(test_case)"
   ]
  },
  {
   "cell_type": "code",
   "execution_count": 14,
   "metadata": {
    "graffitiCellId": "id_ov2b5hw",
    "ExecuteTime": {
     "end_time": "2023-10-10T15:35:25.977155100Z",
     "start_time": "2023-10-10T15:35:25.964040400Z"
    }
   },
   "outputs": [
    {
     "name": "stdout",
     "output_type": "stream",
     "text": [
      "1000\n",
      "Pass\n"
     ]
    }
   ],
   "source": [
    "# Test Case 3\n",
    "arr = [9, 9, 9]\n",
    "solution = [1, 0, 0, 0]\n",
    "test_case = [arr, solution]\n",
    "test_function(test_case)"
   ]
  },
  {
   "cell_type": "code",
   "execution_count": null,
   "outputs": [],
   "source": [],
   "metadata": {
    "collapsed": false
   }
  }
 ],
 "metadata": {
  "graffiti": {
   "firstAuthorId": "dev",
   "id": "id_s3vt1b9",
   "language": "EN"
  },
  "kernelspec": {
   "display_name": "Python 3",
   "language": "python",
   "name": "python3"
  },
  "language_info": {
   "codemirror_mode": {
    "name": "ipython",
    "version": 3
   },
   "file_extension": ".py",
   "mimetype": "text/x-python",
   "name": "python",
   "nbconvert_exporter": "python",
   "pygments_lexer": "ipython3",
   "version": "3.6.3"
  }
 },
 "nbformat": 4,
 "nbformat_minor": 2
}
