{
 "cells": [
  {
   "cell_type": "markdown",
   "metadata": {
    "graffitiCellId": "id_46ikwkw"
   },
   "source": [
    "### Problem Statement\n",
    "\n",
    "\n",
    "Given an integer array, find and return all the subsets of the array.\n",
    "The order of subsets in the output array is not important. However the order of elements in a particular subset should remain the same as in the input array.\n",
    "\n",
    "**Note**: \n",
    "- An empty set will be represented by an empty list.\n",
    "- If there are repeat integers, each occurrence must be treated as a separate entity.\n",
    "\n",
    "**Example 1**\n",
    "\n",
    "```\n",
    "arr = [9, 9]\n",
    "\n",
    "output = [[],\n",
    "          [9],\n",
    "          [9],\n",
    "          [9, 9]]\n",
    "```\n",
    "\n",
    "**Example 2**\n",
    "\n",
    "```\n",
    "arr = [9, 12, 15]\n",
    "\n",
    "output =  [[],\n",
    "           [15],\n",
    "           [12],\n",
    "           [12, 15],\n",
    "           [9],\n",
    "           [9, 15],\n",
    "           [9, 12],\n",
    "           [9, 12, 15]]\n",
    "```"
   ]
  },
  {
   "cell_type": "code",
   "execution_count": 7,
   "metadata": {
    "graffitiCellId": "id_ednyqq0",
    "ExecuteTime": {
     "end_time": "2023-11-09T17:12:26.303147100Z",
     "start_time": "2023-11-09T17:12:26.283111700Z"
    }
   },
   "outputs": [],
   "source": [
    "import copy\n",
    "\n",
    "\n",
    "def subsets(arr):\n",
    "    \"\"\"\n",
    "    base condition：index == len(arr)\n",
    "    根据 index 获取当前 arr 中的数字，针对每个数字，考虑 [] 和 [num] 两种情况。\n",
    "    遍历 final_list，对 final_list 中的每个子 list 调用 extend 方法，将结果添加到空 list 中\n",
    "    递归调用 reverse(index+1, final_list)\n",
    "    \n",
    "    :param: arr - input integer array\n",
    "    Return - list of lists (two dimensional array) where each list represents a subset\n",
    "    TODO: complete this method to return subsets of an array\n",
    "    \"\"\"\n",
    "\n",
    "    def reverse(index, final_list: list):\n",
    "        if index >= len(arr):\n",
    "            print(final_list)\n",
    "            return final_list\n",
    "\n",
    "        current_num = arr[index]\n",
    "        empty_list = list()\n",
    "        identity_list = [current_num]\n",
    "        tmp_list = []\n",
    "        for sublist in final_list:\n",
    "            l1 = copy.deepcopy(sublist)\n",
    "            l2 = copy.deepcopy(sublist)\n",
    "            l1.extend(empty_list)\n",
    "            l2.extend(identity_list)\n",
    "            tmp_list.append(l1)\n",
    "            tmp_list.append(l2)\n",
    "        return reverse(index + 1, tmp_list)\n",
    "\n",
    "    return reverse(0, [[]])\n"
   ]
  },
  {
   "cell_type": "markdown",
   "metadata": {
    "graffitiCellId": "id_u30cq9y"
   },
   "source": [
    "<span class=\"graffiti-highlight graffiti-id_u30cq9y-id_2p8ft48\"><i></i><button>Show Solution</button></span>"
   ]
  },
  {
   "cell_type": "code",
   "execution_count": 8,
   "metadata": {
    "graffitiCellId": "id_lov2dw6",
    "ExecuteTime": {
     "end_time": "2023-11-09T17:12:28.127693100Z",
     "start_time": "2023-11-09T17:12:28.115670400Z"
    }
   },
   "outputs": [],
   "source": [
    "def test_function(test_case):\n",
    "    arr = test_case[0]\n",
    "    solution = test_case[1]\n",
    "\n",
    "    output = subsets(arr)\n",
    "\n",
    "    output.sort()\n",
    "    solution.sort()\n",
    "\n",
    "    if output == solution:\n",
    "        print(\"Pass\")\n",
    "    else:\n",
    "        print(\"Fail\")"
   ]
  },
  {
   "cell_type": "code",
   "execution_count": 9,
   "metadata": {
    "graffitiCellId": "id_vtr8t48",
    "ExecuteTime": {
     "end_time": "2023-11-09T17:12:28.895704400Z",
     "start_time": "2023-11-09T17:12:28.878974300Z"
    }
   },
   "outputs": [
    {
     "name": "stdout",
     "output_type": "stream",
     "text": [
      "[[], [9]]\n",
      "Pass\n"
     ]
    }
   ],
   "source": [
    "arr = [9]\n",
    "solution = [[], [9]]\n",
    "\n",
    "test_case = [arr, solution]\n",
    "test_function(test_case)"
   ]
  },
  {
   "cell_type": "code",
   "execution_count": 10,
   "metadata": {
    "graffitiCellId": "id_hox5lyf",
    "ExecuteTime": {
     "end_time": "2023-11-09T17:12:31.238389100Z",
     "start_time": "2023-11-09T17:12:31.218356700Z"
    }
   },
   "outputs": [
    {
     "name": "stdout",
     "output_type": "stream",
     "text": [
      "[[], [7], [5], [5, 7]]\n",
      "Pass\n"
     ]
    }
   ],
   "source": [
    "arr = [5, 7]\n",
    "solution = [[], [7], [5], [5, 7]]\n",
    "test_case = [arr, solution]\n",
    "test_function(test_case)"
   ]
  },
  {
   "cell_type": "code",
   "execution_count": 11,
   "metadata": {
    "graffitiCellId": "id_ufx2e38",
    "ExecuteTime": {
     "end_time": "2023-11-09T17:12:32.363444700Z",
     "start_time": "2023-11-09T17:12:32.345419800Z"
    }
   },
   "outputs": [
    {
     "name": "stdout",
     "output_type": "stream",
     "text": [
      "[[], [15], [12], [12, 15], [9], [9, 15], [9, 12], [9, 12, 15]]\n",
      "Pass\n"
     ]
    }
   ],
   "source": [
    "arr = [9, 12, 15]\n",
    "solution = [[], [15], [12], [12, 15], [9], [9, 15], [9, 12], [9, 12, 15]]\n",
    "\n",
    "test_case = [arr, solution]\n",
    "test_function(test_case)"
   ]
  },
  {
   "cell_type": "code",
   "execution_count": 12,
   "metadata": {
    "graffitiCellId": "id_4h3wfx7",
    "ExecuteTime": {
     "end_time": "2023-11-09T17:12:34.459125100Z",
     "start_time": "2023-11-09T17:12:34.445952Z"
    }
   },
   "outputs": [
    {
     "name": "stdout",
     "output_type": "stream",
     "text": [
      "[[], [8], [9], [9, 8], [8], [8, 8], [8, 9], [8, 9, 8], [9], [9, 8], [9, 9], [9, 9, 8], [9, 8], [9, 8, 8], [9, 8, 9], [9, 8, 9, 8]]\n",
      "Pass\n"
     ]
    }
   ],
   "source": [
    "arr = [9, 8, 9, 8]\n",
    "solution = [[],\n",
    "            [8],\n",
    "            [9],\n",
    "            [9, 8],\n",
    "            [8],\n",
    "            [8, 8],\n",
    "            [8, 9],\n",
    "            [8, 9, 8],\n",
    "            [9],\n",
    "            [9, 8],\n",
    "            [9, 9],\n",
    "            [9, 9, 8],\n",
    "            [9, 8],\n",
    "            [9, 8, 8],\n",
    "            [9, 8, 9],\n",
    "            [9, 8, 9, 8]]\n",
    "\n",
    "test_case = [arr, solution]\n",
    "test_function(test_case)"
   ]
  },
  {
   "cell_type": "code",
   "execution_count": null,
   "outputs": [],
   "source": [],
   "metadata": {
    "collapsed": false
   }
  }
 ],
 "metadata": {
  "graffiti": {
   "firstAuthorId": "dev",
   "id": "id_0z6x8e1",
   "language": "EN"
  },
  "kernelspec": {
   "display_name": "Python 3",
   "language": "python",
   "name": "python3"
  },
  "language_info": {
   "codemirror_mode": {
    "name": "ipython",
    "version": 3
   },
   "file_extension": ".py",
   "mimetype": "text/x-python",
   "name": "python",
   "nbconvert_exporter": "python",
   "pygments_lexer": "ipython3",
   "version": "3.6.3"
  }
 },
 "nbformat": 4,
 "nbformat_minor": 2
}
