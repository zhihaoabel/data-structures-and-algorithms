{
 "cells": [
  {
   "cell_type": "markdown",
   "metadata": {
    "graffitiCellId": "id_18ngdm1"
   },
   "source": [
    "# Linked List Practice\n",
    "\n",
    "Implement a linked list class. You have to define a few functions that perform the desirbale action. Your `LinkedList` class should be able to:\n",
    "\n",
    "+ Append data to the tail of the list and prepend to the head\n",
    "+ Search the linked list for a value and return the node\n",
    "+ Remove a node\n",
    "+ Pop, which means to return the first node's value and delete the node from the list\n",
    "+ Insert data at some position in the list\n",
    "+ Return the size (length) of the linked list"
   ]
  },
  {
   "cell_type": "code",
   "execution_count": 92,
   "metadata": {
    "graffitiCellId": "id_4003gzi",
    "ExecuteTime": {
     "end_time": "2023-10-05T06:46:57.453911300Z",
     "start_time": "2023-10-05T06:46:57.438222400Z"
    }
   },
   "outputs": [],
   "source": [
    "class Node:\n",
    "    def __init__(self, value):\n",
    "        self.value = value\n",
    "        self.next = None"
   ]
  },
  {
   "cell_type": "code",
   "execution_count": 93,
   "metadata": {
    "graffitiCellId": "id_hg4vhdi",
    "ExecuteTime": {
     "end_time": "2023-10-05T06:46:57.608773500Z",
     "start_time": "2023-10-05T06:46:57.594266600Z"
    }
   },
   "outputs": [],
   "source": [
    "class LinkedList:\n",
    "    def __init__(self):\n",
    "        self.head = None\n",
    "\n",
    "    def to_list(self):\n",
    "        out = []\n",
    "        node = self.head\n",
    "        while node:\n",
    "            out.append(node.value)\n",
    "            node = node.next\n",
    "        return out"
   ]
  },
  {
   "cell_type": "markdown",
   "metadata": {
    "graffitiCellId": "id_rwzckgo"
   },
   "source": [
    "#### Task 1. Write definition of `prepend()` function and test its functionality"
   ]
  },
  {
   "cell_type": "code",
   "execution_count": 94,
   "metadata": {
    "graffitiCellId": "id_ufz6t2u",
    "ExecuteTime": {
     "end_time": "2023-10-05T06:46:57.902568700Z",
     "start_time": "2023-10-05T06:46:57.894047900Z"
    }
   },
   "outputs": [],
   "source": [
    "# Define a function outside of the class\n",
    "def prepend(self, value):\n",
    "    \"\"\" Prepend a value to the beginning of the list. \"\"\"\n",
    "    if self.head is None:\n",
    "        self.head = Node(value)\n",
    "        return\n",
    "        \n",
    "    node = Node(value)\n",
    "    node.next = self.head\n",
    "    self.head = node\n",
    "\n",
    "\n",
    "# This is the way to add a function to a class after it has been defined\n",
    "LinkedList.prepend = prepend"
   ]
  },
  {
   "cell_type": "markdown",
   "metadata": {
    "graffitiCellId": "id_dzla7d1"
   },
   "source": [
    "<div id=\"spoiler_1\" style=\"display:none\">\n",
    "Here is an example of a Makefile you could create for this exercise:\n",
    "```\n",
    "cmd1:\n",
    "        @echo \"$@\"\n",
    "\n",
    "cmd2:\n",
    "        @echo \"$@\"\n",
    "\n",
    "all: cmd1 cmd2\n",
    "```\n",
    "\n",
    "Note that after `cmd1` and `cmd2`, and before `@echo`, should be a tab. The `@` at the start of these lines prevents `make` from automatically printing the lines, while `\"$@\"` is the variable for a string containing the target name, in this case either `cmd1` or `cmd2`. To double-check that `make` is actually showing the command name from within the command itself, try to `echo` something else from within one of them, such as `Hello World!`, and check the results.\n",
    "</div>\n",
    "<button title=\"Click to show/hide content\" type=\"button\" onclick=\"if(document.getElementById('spoiler_1') .style.display=='none') {document.getElementById('spoiler_1') .style.display=''}else{document.getElementById('spoiler_1') .style.display='none'}\">Show Solution</button>\n",
    "\n",
    "```{toggle} Click the button o your right to reveal the solution!\n",
    "\n",
    "def prepend(self, value):\n",
    "    \"\"\" Prepend a node to the beginning of the list \"\"\"\n",
    "\n",
    "    if self.head is None:\n",
    "        self.head = Node(value)\n",
    "        return\n",
    "\n",
    "    new_head = Node(value)\n",
    "    new_head.next = self.head\n",
    "    self.head = new_head\n",
    "```"
   ]
  },
  {
   "cell_type": "code",
   "execution_count": 95,
   "metadata": {
    "graffitiCellId": "id_ren7laz",
    "ExecuteTime": {
     "end_time": "2023-10-05T06:46:58.231707500Z",
     "start_time": "2023-10-05T06:46:58.217567200Z"
    }
   },
   "outputs": [],
   "source": [
    "# Test prepend\n",
    "linked_list = LinkedList()\n",
    "linked_list.prepend(1)\n",
    "assert linked_list.to_list() == [1], f\"list contents: {linked_list.to_list()}\""
   ]
  },
  {
   "cell_type": "markdown",
   "metadata": {
    "graffitiCellId": "id_u2kkys7"
   },
   "source": [
    "#### Task 2. Write definition of `append()` function and test its functionality"
   ]
  },
  {
   "cell_type": "code",
   "execution_count": 96,
   "metadata": {
    "graffitiCellId": "id_evsynnw",
    "ExecuteTime": {
     "end_time": "2023-10-05T06:46:58.536710600Z",
     "start_time": "2023-10-05T06:46:58.530196500Z"
    }
   },
   "outputs": [],
   "source": [
    "def append(self, value):\n",
    "    \"\"\" Append a value to the end of the list. \"\"\"\n",
    "    if self.head is None:\n",
    "        self.head = Node(value)\n",
    "        return\n",
    "\n",
    "    node = self.head\n",
    "    while node.next:\n",
    "        node = node.next\n",
    "\n",
    "    node.next = Node(value)\n",
    "\n",
    "\n",
    "LinkedList.append = append"
   ]
  },
  {
   "cell_type": "code",
   "execution_count": 97,
   "metadata": {
    "graffitiCellId": "id_fdj50m6",
    "ExecuteTime": {
     "end_time": "2023-10-05T06:46:58.710936700Z",
     "start_time": "2023-10-05T06:46:58.701926100Z"
    }
   },
   "outputs": [],
   "source": [
    "# Test append - 1\n",
    "linked_list.append(3)\n",
    "linked_list.prepend(2)\n",
    "assert linked_list.to_list() == [2, 1, 3], f\"list contents: {linked_list.to_list()}\""
   ]
  },
  {
   "cell_type": "code",
   "execution_count": 98,
   "metadata": {
    "graffitiCellId": "id_4v4cwvc",
    "ExecuteTime": {
     "end_time": "2023-10-05T06:46:58.867204800Z",
     "start_time": "2023-10-05T06:46:58.858696100Z"
    }
   },
   "outputs": [],
   "source": [
    "# Test append - 2\n",
    "linked_list = LinkedList()\n",
    "linked_list.append(1)\n",
    "assert linked_list.to_list() == [1], f\"list contents: {linked_list.to_list()}\"\n",
    "linked_list.append(3)\n",
    "assert linked_list.to_list() == [1, 3], f\"list contents: {linked_list.to_list()}\""
   ]
  },
  {
   "cell_type": "markdown",
   "metadata": {
    "graffitiCellId": "id_wbig0nh"
   },
   "source": [
    "#### Task 3. Write definition of `search()` function and test its functionality"
   ]
  },
  {
   "cell_type": "code",
   "execution_count": 99,
   "metadata": {
    "graffitiCellId": "id_sm9jy3b",
    "ExecuteTime": {
     "end_time": "2023-10-05T06:46:59.187650300Z",
     "start_time": "2023-10-05T06:46:59.174632500Z"
    }
   },
   "outputs": [],
   "source": [
    "def search(self, value):\n",
    "    \"\"\" Search the linked list for a node with the requested value and return the node. \"\"\"\n",
    "    if self.head is None:\n",
    "        return None\n",
    "\n",
    "    target = self.head\n",
    "    while target:\n",
    "        if target.value == value:\n",
    "            return target\n",
    "        target = target.next\n",
    "\n",
    "    raise ValueError(\"Value not found in the list.\")\n",
    "\n",
    "\n",
    "LinkedList.search = search"
   ]
  },
  {
   "cell_type": "code",
   "execution_count": 99,
   "outputs": [],
   "source": [],
   "metadata": {
    "collapsed": false,
    "ExecuteTime": {
     "end_time": "2023-10-05T06:46:59.355674900Z",
     "start_time": "2023-10-05T06:46:59.340129900Z"
    }
   }
  },
  {
   "cell_type": "code",
   "execution_count": 100,
   "metadata": {
    "graffitiCellId": "id_mdrnfup",
    "ExecuteTime": {
     "end_time": "2023-10-05T06:46:59.527688700Z",
     "start_time": "2023-10-05T06:46:59.516657600Z"
    }
   },
   "outputs": [],
   "source": [
    "# Test search\n",
    "linked_list.prepend(2)\n",
    "linked_list.prepend(1)\n",
    "linked_list.append(4)\n",
    "linked_list.append(3)\n",
    "assert linked_list.search(1).value == 1, f\"list contents: {linked_list.to_list()}\"\n",
    "assert linked_list.search(4).value == 4, f\"list contents: {linked_list.to_list()}\""
   ]
  },
  {
   "cell_type": "markdown",
   "metadata": {
    "graffitiCellId": "id_kfw1xos"
   },
   "source": [
    "#### Task 4. Write definition of `remove()` function and test its functionality"
   ]
  },
  {
   "cell_type": "code",
   "execution_count": 101,
   "metadata": {
    "graffitiCellId": "id_dhz0iv6",
    "ExecuteTime": {
     "end_time": "2023-10-05T06:46:59.879834300Z",
     "start_time": "2023-10-05T06:46:59.850637Z"
    }
   },
   "outputs": [],
   "source": [
    "def remove(self, value):\n",
    "    \"\"\" Remove first occurrence of value. \"\"\"\n",
    "    if self.head is None:\n",
    "        return\n",
    "\n",
    "    # 如果头结点就是待删除元素，将头结点后移\n",
    "    if value == self.head.value:\n",
    "        self.head = self.head.next\n",
    "        return\n",
    "\n",
    "    current = self.head\n",
    "    prev = self.head\n",
    "    # or 后面的条件用于处理尾结点\n",
    "    while current.next or current.value == value:\n",
    "        if current.value == value:\n",
    "            # 将下一个结点的位置赋值给当前结点的前一个结点\n",
    "            prev.next = current.next\n",
    "            return\n",
    "\n",
    "        prev = current\n",
    "        current = current.next\n",
    "\n",
    "    raise ValueError(\"Value not found in the list.\")\n",
    "\n",
    "\n",
    "LinkedList.remove = remove"
   ]
  },
  {
   "cell_type": "code",
   "execution_count": 102,
   "metadata": {
    "graffitiCellId": "id_gwjkord",
    "ExecuteTime": {
     "end_time": "2023-10-05T06:47:00.038901100Z",
     "start_time": "2023-10-05T06:47:00.027811800Z"
    }
   },
   "outputs": [],
   "source": [
    "# Test remove\n",
    "linked_list.remove(1)\n",
    "assert linked_list.to_list() == [2, 1, 3, 4, 3], f\"list contents: {linked_list.to_list()}\"\n",
    "linked_list.remove(3)\n",
    "assert linked_list.to_list() == [2, 1, 4, 3], f\"list contents: {linked_list.to_list()}\"\n",
    "linked_list.remove(3)\n",
    "assert linked_list.to_list() == [2, 1, 4], f\"list contents: {linked_list.to_list()}\""
   ]
  },
  {
   "cell_type": "markdown",
   "metadata": {
    "graffitiCellId": "id_etqam7a"
   },
   "source": [
    "#### Task 5. Write definition of `pop()` function and test its functionality"
   ]
  },
  {
   "cell_type": "code",
   "execution_count": 103,
   "metadata": {
    "graffitiCellId": "id_o4cpb97",
    "ExecuteTime": {
     "end_time": "2023-10-05T06:47:00.380709300Z",
     "start_time": "2023-10-05T06:47:00.367630500Z"
    }
   },
   "outputs": [],
   "source": [
    "def pop(self):\n",
    "    \"\"\" Return the first node's value and remove it from the list. \"\"\"\n",
    "    \"\"\"\n",
    "    1. 保存头结点的值\n",
    "    2. 将下一个结点赋值给头结点\n",
    "    \"\"\"\n",
    "    if self.head is None:\n",
    "        return None\n",
    "\n",
    "    val = self.head.value\n",
    "    self.head = self.head.next\n",
    "\n",
    "    return val\n",
    "\n",
    "\n",
    "LinkedList.pop = pop"
   ]
  },
  {
   "cell_type": "code",
   "execution_count": 104,
   "metadata": {
    "graffitiCellId": "id_gqsfqpk",
    "ExecuteTime": {
     "end_time": "2023-10-05T06:47:00.550718100Z",
     "start_time": "2023-10-05T06:47:00.535209100Z"
    }
   },
   "outputs": [],
   "source": [
    "# Test pop\n",
    "value = linked_list.pop()\n",
    "assert value == 2, f\"list contents: {linked_list.to_list()}\"\n",
    "assert linked_list.head.value == 1, f\"list contents: {linked_list.to_list()}\""
   ]
  },
  {
   "cell_type": "markdown",
   "metadata": {
    "graffitiCellId": "id_w424047"
   },
   "source": [
    "#### Task 6. Write definition of `insert()` function and test its functionality"
   ]
  },
  {
   "cell_type": "code",
   "execution_count": 105,
   "metadata": {
    "graffitiCellId": "id_wnzyg1h",
    "ExecuteTime": {
     "end_time": "2023-10-05T06:47:00.876963700Z",
     "start_time": "2023-10-05T06:47:00.855322500Z"
    }
   },
   "outputs": [],
   "source": [
    "def insert(self, value, pos):\n",
    "    \"\"\" Insert value at pos position in the list. If pos is larger than the\n",
    "    length of the list, append to the end of the list. \"\"\"\n",
    "    \"\"\"\n",
    "    1. 插入到头结点位置直接调用prepend方法\n",
    "    2. 遍历结点并计数。如果索引位置相等，插入结点\n",
    "    3. 遍历到尾结点仍未到达指定索引位置，放入末尾\n",
    "    \"\"\"\n",
    "    if self.head is None:\n",
    "        return \n",
    "    \n",
    "    if pos < 0:\n",
    "        return\n",
    "\n",
    "    # 头结点插入\n",
    "    if pos == 0:\n",
    "        self.prepend(value)\n",
    "        return\n",
    "\n",
    "    counter = 0\n",
    "    node = self.head\n",
    "    while node.next:\n",
    "        counter += 1\n",
    "        if pos == counter:\n",
    "            new_node = Node(value)\n",
    "\n",
    "            prev_node = node\n",
    "            next_node = node.next\n",
    "            new_node.next = next_node\n",
    "            prev_node.next = new_node\n",
    "            return\n",
    "\n",
    "        node = node.next\n",
    "\n",
    "    # 遍历到尾结点仍未到达索引位置\n",
    "    if node.next is None:\n",
    "        node.next = Node(value)\n",
    "\n",
    "LinkedList.insert = insert"
   ]
  },
  {
   "cell_type": "code",
   "execution_count": 106,
   "metadata": {
    "graffitiCellId": "id_woo1rn3",
    "ExecuteTime": {
     "end_time": "2023-10-05T06:47:01.064082900Z",
     "start_time": "2023-10-05T06:47:01.042520100Z"
    }
   },
   "outputs": [],
   "source": [
    "# Test insert \n",
    "linked_list.insert(5, 0)\n",
    "assert linked_list.to_list() == [5, 1, 4], f\"list contents: {linked_list.to_list()}\"\n",
    "linked_list.insert(2, 1)\n",
    "assert linked_list.to_list() == [5, 2, 1, 4], f\"list contents: {linked_list.to_list()}\"\n",
    "linked_list.insert(3, 6)\n",
    "assert linked_list.to_list() == [5, 2, 1, 4, 3], f\"list contents: {linked_list.to_list()}\""
   ]
  },
  {
   "cell_type": "markdown",
   "metadata": {
    "graffitiCellId": "id_jkj2d1n"
   },
   "source": [
    "#### Task 7. Write definition of `size()` function and test its functionality"
   ]
  },
  {
   "cell_type": "code",
   "execution_count": 111,
   "metadata": {
    "graffitiCellId": "id_g3vqb80",
    "ExecuteTime": {
     "end_time": "2023-10-05T06:48:16.767632600Z",
     "start_time": "2023-10-05T06:48:16.755123200Z"
    }
   },
   "outputs": [],
   "source": [
    "def size(self):\n",
    "    \"\"\" Return the size or length of the linked list. \"\"\"\n",
    "    length = 0\n",
    "    node = self.head\n",
    "    while node:\n",
    "        length += 1\n",
    "        node = node.next\n",
    "        \n",
    "    return length\n",
    "\n",
    "LinkedList.size = size"
   ]
  },
  {
   "cell_type": "code",
   "execution_count": 112,
   "metadata": {
    "graffitiCellId": "id_08m7ryg",
    "ExecuteTime": {
     "end_time": "2023-10-05T06:48:17.532814300Z",
     "start_time": "2023-10-05T06:48:17.513776500Z"
    }
   },
   "outputs": [],
   "source": [
    "# Test size function\n",
    "assert linked_list.size() == 5, f\"list contents: {linked_list.to_list()}\""
   ]
  },
  {
   "cell_type": "markdown",
   "metadata": {
    "graffitiCellId": "id_1vt6pt0"
   },
   "source": [
    "<span class=\"graffiti-highlight graffiti-id_1vt6pt0-id_q7rr1km\"><i></i><button>Show Solution</button></span>"
   ]
  }
 ],
 "metadata": {
  "graffiti": {
   "firstAuthorId": "10694620118",
   "id": "id_9v48ov8",
   "language": "EN"
  },
  "kernelspec": {
   "display_name": "Python 3",
   "language": "python",
   "name": "python3"
  },
  "language_info": {
   "codemirror_mode": {
    "name": "ipython",
    "version": 3
   },
   "file_extension": ".py",
   "mimetype": "text/x-python",
   "name": "python",
   "nbconvert_exporter": "python",
   "pygments_lexer": "ipython3",
   "version": "3.6.3"
  }
 },
 "nbformat": 4,
 "nbformat_minor": 2
}
