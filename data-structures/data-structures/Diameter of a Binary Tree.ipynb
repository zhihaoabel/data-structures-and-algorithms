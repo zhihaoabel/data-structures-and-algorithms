{
 "cells": [
  {
   "cell_type": "markdown",
   "metadata": {},
   "source": [
    "## Problem statement\n",
    "\n",
    "Given the root of a binary tree, find the diameter.\n",
    "\n",
    "Diameter of a Binary Tree is the maximum distance between any two nodes. The distance is measured by the number of edges between the two nodes.\n",
    "\n",
    "Diameter for a particular BinaryTree Node will be the maximum of:\n",
    "1. Either diameter of left subtree\n",
    "2. Or diameter of a right subtree\n",
    "3. Or sum of left-height and right-height"
   ]
  },
  {
   "cell_type": "code",
   "execution_count": 12,
   "metadata": {
    "ExecuteTime": {
     "end_time": "2023-12-25T16:56:08.866977800Z",
     "start_time": "2023-12-25T16:56:08.842917600Z"
    }
   },
   "outputs": [],
   "source": [
    "class BinaryTreeNode:\n",
    "\n",
    "    def __init__(self, data):\n",
    "        self.left = None\n",
    "        self.right = None\n",
    "        self.data = data\n"
   ]
  },
  {
   "cell_type": "code",
   "execution_count": 13,
   "metadata": {
    "ExecuteTime": {
     "end_time": "2023-12-25T16:56:09.252316Z",
     "start_time": "2023-12-25T16:56:09.245509400Z"
    }
   },
   "outputs": [],
   "source": [
    "def diameter_of_binary_tree(root):\n",
    "    \"\"\"\n",
    "    :param: root - Root of binary tree\n",
    "    TODO: Complete this method and return diameter (int) of binary tree\n",
    "    \"\"\"\n",
    "    pass"
   ]
  },
  {
   "cell_type": "markdown",
   "metadata": {},
   "source": [
    "You can use the following function to test your code with custom test cases. The function `convert_arr_to_binary_tree` takes an array input representing level-order traversal of the binary tree.\n",
    "\n",
    "\n",
    "<img src='./images/01-binary-tree.png'>\n",
    "\n",
    "**Representing the binary tree with a Python list**\n",
    "\n",
    "The above tree would be represented as `arr = [1, 2, 3, 4, None, 5, None, None, None, None, None]`\n",
    "\n",
    "Notice that the level order traversal of the above tree would be `[1, 2, 3, 4, 5]`. \n",
    "\n",
    "Note the following points about this tree:\n",
    "* `None` represents the lack of a node. For example, `2` only has a left node; therefore, the next node after `4` (in level order) is represented as `None`\n",
    "* Similarly, `3` only has a left node; hence, the next node after `5` (in level order) is represted as `None`.\n",
    "* Also, `4` and `5` don't have any children. Therefore, the spots for their children in level order are represented by four `None` values (for each child of `4` and `5`).\n",
    "\n",
    "**Diameter of Binary Tree**\n",
    "\n",
    "In this example, the diameter of this binary tree is for since the height of the left child is two and the height of the right child is also 2."
   ]
  },
  {
   "cell_type": "code",
   "execution_count": 5,
   "metadata": {
    "ExecuteTime": {
     "end_time": "2023-12-25T16:55:56.438511100Z",
     "start_time": "2023-12-25T16:55:56.434177100Z"
    }
   },
   "outputs": [],
   "source": [
    "from queue import Queue\n",
    "\n",
    "def convert_arr_to_binary_tree(arr):\n",
    "    \"\"\"\n",
    "    Takes arr representing level-order traversal of Binary Tree \n",
    "    \"\"\"\n",
    "    index = 0\n",
    "    length = len(arr)\n",
    "    \n",
    "    # check if the array is valid. If not, return None\n",
    "    if length <= 0 or arr[0] == -1:\n",
    "        return None\n",
    "\n",
    "    # instantiate the root tree from the first element of the array\n",
    "    root = BinaryTreeNode(arr[index])\n",
    "    # increment the index of the array\n",
    "    index += 1\n",
    "    # instantiate a queue and add root node to the queue\n",
    "    queue = Queue()\n",
    "    queue.put(root)\n",
    "    \n",
    "    while not queue.empty():\n",
    "        # get and remove the first element from the queue\n",
    "        current_node = queue.get()\n",
    "        # instantiate a left child from the array's current index\n",
    "        left_child = arr[index]\n",
    "        # move on to the next index\n",
    "        index += 1\n",
    "        \n",
    "        if left_child is not None:\n",
    "            # instantiate a binary tree node and append as left child\n",
    "            left_node = BinaryTreeNode(left_child)\n",
    "            current_node.left = left_node\n",
    "            # add the left node to the queue\n",
    "            queue.put(left_node)\n",
    "        \n",
    "        # instantiate the right child from the next element in the array\n",
    "        right_child = arr[index]\n",
    "        # move on to the next index\n",
    "        index += 1\n",
    "        \n",
    "        if right_child is not None:\n",
    "            # instantiate a binary tree node and append as left child\n",
    "            right_node = BinaryTreeNode(right_child)\n",
    "            current_node.right = right_node\n",
    "            # add the right node to the queue\n",
    "            queue.put(right_node)\n",
    "            \n",
    "    return root"
   ]
  },
  {
   "cell_type": "code",
   "execution_count": 6,
   "metadata": {
    "ExecuteTime": {
     "end_time": "2023-12-25T16:55:56.938158300Z",
     "start_time": "2023-12-25T16:55:56.933646Z"
    }
   },
   "outputs": [],
   "source": [
    "# Solution\n",
    "def diameter_of_binary_tree(root):\n",
    "    return diameter_of_binary_tree_func(root)[1]\n",
    "    \n",
    "def diameter_of_binary_tree_func(root):\n",
    "    \"\"\"\n",
    "    Diameter for a particular BinaryTree Node will be:\n",
    "        1. Either diameter of left subtree\n",
    "        2. Or diameter of a right subtree\n",
    "        3. Or sum of left-height and right-height\n",
    "    :param root:\n",
    "    :return: [height, diameter]\n",
    "    \"\"\"\n",
    "    # create a base line for the recursive call\n",
    "    if root is None:\n",
    "        return 0, 0\n",
    "\n",
    "    # traverse the left child recursively\n",
    "    left_height, left_diameter = diameter_of_binary_tree_func(root.left)\n",
    "    # traverse the right child recursively\n",
    "    right_height, right_diameter = diameter_of_binary_tree_func(root.right)\n",
    "\n",
    "    # count each height of the left and right children and get the maximum height\n",
    "    current_height = max(left_height, right_height) + 1\n",
    "    # calculate the diameter by summing both left and right heights\n",
    "    height_diameter = left_height + right_height    \n",
    "    # get the maximum value of the left or right diameter or the sum of both heights\n",
    "    current_diameter = max(left_diameter, right_diameter, height_diameter)\n",
    "\n",
    "    return current_height, current_diameter"
   ]
  },
  {
   "cell_type": "code",
   "execution_count": 7,
   "metadata": {
    "ExecuteTime": {
     "end_time": "2023-12-25T16:55:57.442903400Z",
     "start_time": "2023-12-25T16:55:57.436855300Z"
    }
   },
   "outputs": [],
   "source": [
    "def test_function(test_case):\n",
    "    arr = test_case[0]\n",
    "    solution = test_case[1]\n",
    "    root = convert_arr_to_binary_tree(arr)\n",
    "    output = diameter_of_binary_tree(root)\n",
    "    print(output)\n",
    "    if output == solution:\n",
    "        print(\"Pass\")\n",
    "    else:\n",
    "        print(\"Fail\")"
   ]
  },
  {
   "cell_type": "code",
   "execution_count": 8,
   "metadata": {
    "ExecuteTime": {
     "end_time": "2023-12-25T16:55:57.996678200Z",
     "start_time": "2023-12-25T16:55:57.977306100Z"
    }
   },
   "outputs": [
    {
     "ename": "NameError",
     "evalue": "name 'BinaryTreeNode' is not defined",
     "output_type": "error",
     "traceback": [
      "\u001B[1;31m---------------------------------------------------------------------------\u001B[0m",
      "\u001B[1;31mNameError\u001B[0m                                 Traceback (most recent call last)",
      "Cell \u001B[1;32mIn[8], line 5\u001B[0m\n\u001B[0;32m      2\u001B[0m solution \u001B[38;5;241m=\u001B[39m \u001B[38;5;241m3\u001B[39m\n\u001B[0;32m      4\u001B[0m test_case \u001B[38;5;241m=\u001B[39m [arr, solution]\n\u001B[1;32m----> 5\u001B[0m \u001B[43mtest_function\u001B[49m\u001B[43m(\u001B[49m\u001B[43mtest_case\u001B[49m\u001B[43m)\u001B[49m\n",
      "Cell \u001B[1;32mIn[7], line 4\u001B[0m, in \u001B[0;36mtest_function\u001B[1;34m(test_case)\u001B[0m\n\u001B[0;32m      2\u001B[0m arr \u001B[38;5;241m=\u001B[39m test_case[\u001B[38;5;241m0\u001B[39m]\n\u001B[0;32m      3\u001B[0m solution \u001B[38;5;241m=\u001B[39m test_case[\u001B[38;5;241m1\u001B[39m]\n\u001B[1;32m----> 4\u001B[0m root \u001B[38;5;241m=\u001B[39m \u001B[43mconvert_arr_to_binary_tree\u001B[49m\u001B[43m(\u001B[49m\u001B[43marr\u001B[49m\u001B[43m)\u001B[49m\n\u001B[0;32m      5\u001B[0m output \u001B[38;5;241m=\u001B[39m diameter_of_binary_tree(root)\n\u001B[0;32m      6\u001B[0m \u001B[38;5;28mprint\u001B[39m(output)\n",
      "Cell \u001B[1;32mIn[5], line 15\u001B[0m, in \u001B[0;36mconvert_arr_to_binary_tree\u001B[1;34m(arr)\u001B[0m\n\u001B[0;32m     12\u001B[0m     \u001B[38;5;28;01mreturn\u001B[39;00m \u001B[38;5;28;01mNone\u001B[39;00m\n\u001B[0;32m     14\u001B[0m \u001B[38;5;66;03m# instantiate the root tree from the first element of the array\u001B[39;00m\n\u001B[1;32m---> 15\u001B[0m root \u001B[38;5;241m=\u001B[39m \u001B[43mBinaryTreeNode\u001B[49m(arr[index])\n\u001B[0;32m     16\u001B[0m \u001B[38;5;66;03m# increment the index of the array\u001B[39;00m\n\u001B[0;32m     17\u001B[0m index \u001B[38;5;241m+\u001B[39m\u001B[38;5;241m=\u001B[39m \u001B[38;5;241m1\u001B[39m\n",
      "\u001B[1;31mNameError\u001B[0m: name 'BinaryTreeNode' is not defined"
     ]
    }
   ],
   "source": [
    "arr = [1, 2, 3, 4, 5, None, None, None, None, None, None]\n",
    "solution = 3\n",
    "\n",
    "test_case = [arr, solution]\n",
    "test_function(test_case)"
   ]
  },
  {
   "cell_type": "code",
   "execution_count": 9,
   "metadata": {
    "ExecuteTime": {
     "end_time": "2023-12-25T16:55:58.804909Z",
     "start_time": "2023-12-25T16:55:58.753577100Z"
    }
   },
   "outputs": [
    {
     "ename": "NameError",
     "evalue": "name 'BinaryTreeNode' is not defined",
     "output_type": "error",
     "traceback": [
      "\u001B[1;31m---------------------------------------------------------------------------\u001B[0m",
      "\u001B[1;31mNameError\u001B[0m                                 Traceback (most recent call last)",
      "Cell \u001B[1;32mIn[9], line 5\u001B[0m\n\u001B[0;32m      2\u001B[0m solution \u001B[38;5;241m=\u001B[39m \u001B[38;5;241m4\u001B[39m\n\u001B[0;32m      4\u001B[0m test_case \u001B[38;5;241m=\u001B[39m [arr, solution]\n\u001B[1;32m----> 5\u001B[0m \u001B[43mtest_function\u001B[49m\u001B[43m(\u001B[49m\u001B[43mtest_case\u001B[49m\u001B[43m)\u001B[49m\n",
      "Cell \u001B[1;32mIn[7], line 4\u001B[0m, in \u001B[0;36mtest_function\u001B[1;34m(test_case)\u001B[0m\n\u001B[0;32m      2\u001B[0m arr \u001B[38;5;241m=\u001B[39m test_case[\u001B[38;5;241m0\u001B[39m]\n\u001B[0;32m      3\u001B[0m solution \u001B[38;5;241m=\u001B[39m test_case[\u001B[38;5;241m1\u001B[39m]\n\u001B[1;32m----> 4\u001B[0m root \u001B[38;5;241m=\u001B[39m \u001B[43mconvert_arr_to_binary_tree\u001B[49m\u001B[43m(\u001B[49m\u001B[43marr\u001B[49m\u001B[43m)\u001B[49m\n\u001B[0;32m      5\u001B[0m output \u001B[38;5;241m=\u001B[39m diameter_of_binary_tree(root)\n\u001B[0;32m      6\u001B[0m \u001B[38;5;28mprint\u001B[39m(output)\n",
      "Cell \u001B[1;32mIn[5], line 15\u001B[0m, in \u001B[0;36mconvert_arr_to_binary_tree\u001B[1;34m(arr)\u001B[0m\n\u001B[0;32m     12\u001B[0m     \u001B[38;5;28;01mreturn\u001B[39;00m \u001B[38;5;28;01mNone\u001B[39;00m\n\u001B[0;32m     14\u001B[0m \u001B[38;5;66;03m# instantiate the root tree from the first element of the array\u001B[39;00m\n\u001B[1;32m---> 15\u001B[0m root \u001B[38;5;241m=\u001B[39m \u001B[43mBinaryTreeNode\u001B[49m(arr[index])\n\u001B[0;32m     16\u001B[0m \u001B[38;5;66;03m# increment the index of the array\u001B[39;00m\n\u001B[0;32m     17\u001B[0m index \u001B[38;5;241m+\u001B[39m\u001B[38;5;241m=\u001B[39m \u001B[38;5;241m1\u001B[39m\n",
      "\u001B[1;31mNameError\u001B[0m: name 'BinaryTreeNode' is not defined"
     ]
    }
   ],
   "source": [
    "arr = [1, 2, 3, 4, None, 5, None, None, None, None, None]\n",
    "solution = 4\n",
    "\n",
    "test_case = [arr, solution]\n",
    "test_function(test_case)"
   ]
  },
  {
   "cell_type": "code",
   "execution_count": 10,
   "metadata": {
    "ExecuteTime": {
     "end_time": "2023-12-25T16:55:59.421660600Z",
     "start_time": "2023-12-25T16:55:59.387951200Z"
    }
   },
   "outputs": [
    {
     "ename": "NameError",
     "evalue": "name 'BinaryTreeNode' is not defined",
     "output_type": "error",
     "traceback": [
      "\u001B[1;31m---------------------------------------------------------------------------\u001B[0m",
      "\u001B[1;31mNameError\u001B[0m                                 Traceback (most recent call last)",
      "Cell \u001B[1;32mIn[10], line 5\u001B[0m\n\u001B[0;32m      2\u001B[0m solution \u001B[38;5;241m=\u001B[39m \u001B[38;5;241m6\u001B[39m\n\u001B[0;32m      4\u001B[0m test_case \u001B[38;5;241m=\u001B[39m [arr, solution]\n\u001B[1;32m----> 5\u001B[0m \u001B[43mtest_function\u001B[49m\u001B[43m(\u001B[49m\u001B[43mtest_case\u001B[49m\u001B[43m)\u001B[49m\n",
      "Cell \u001B[1;32mIn[7], line 4\u001B[0m, in \u001B[0;36mtest_function\u001B[1;34m(test_case)\u001B[0m\n\u001B[0;32m      2\u001B[0m arr \u001B[38;5;241m=\u001B[39m test_case[\u001B[38;5;241m0\u001B[39m]\n\u001B[0;32m      3\u001B[0m solution \u001B[38;5;241m=\u001B[39m test_case[\u001B[38;5;241m1\u001B[39m]\n\u001B[1;32m----> 4\u001B[0m root \u001B[38;5;241m=\u001B[39m \u001B[43mconvert_arr_to_binary_tree\u001B[49m\u001B[43m(\u001B[49m\u001B[43marr\u001B[49m\u001B[43m)\u001B[49m\n\u001B[0;32m      5\u001B[0m output \u001B[38;5;241m=\u001B[39m diameter_of_binary_tree(root)\n\u001B[0;32m      6\u001B[0m \u001B[38;5;28mprint\u001B[39m(output)\n",
      "Cell \u001B[1;32mIn[5], line 15\u001B[0m, in \u001B[0;36mconvert_arr_to_binary_tree\u001B[1;34m(arr)\u001B[0m\n\u001B[0;32m     12\u001B[0m     \u001B[38;5;28;01mreturn\u001B[39;00m \u001B[38;5;28;01mNone\u001B[39;00m\n\u001B[0;32m     14\u001B[0m \u001B[38;5;66;03m# instantiate the root tree from the first element of the array\u001B[39;00m\n\u001B[1;32m---> 15\u001B[0m root \u001B[38;5;241m=\u001B[39m \u001B[43mBinaryTreeNode\u001B[49m(arr[index])\n\u001B[0;32m     16\u001B[0m \u001B[38;5;66;03m# increment the index of the array\u001B[39;00m\n\u001B[0;32m     17\u001B[0m index \u001B[38;5;241m+\u001B[39m\u001B[38;5;241m=\u001B[39m \u001B[38;5;241m1\u001B[39m\n",
      "\u001B[1;31mNameError\u001B[0m: name 'BinaryTreeNode' is not defined"
     ]
    }
   ],
   "source": [
    "arr = [1, 2, 3, None, None, 4, 5, 6, None, 7, 8, 9, 10, None, None, None, None, None, None, 11, None, None, None]\n",
    "solution = 6\n",
    "\n",
    "test_case = [arr, solution]\n",
    "test_function(test_case)"
   ]
  },
  {
   "cell_type": "code",
   "execution_count": 11,
   "metadata": {
    "ExecuteTime": {
     "end_time": "2023-12-25T16:56:00.366402300Z",
     "start_time": "2023-12-25T16:56:00.353583400Z"
    }
   },
   "outputs": [
    {
     "ename": "NameError",
     "evalue": "name 'BinaryTreeNode' is not defined",
     "output_type": "error",
     "traceback": [
      "\u001B[1;31m---------------------------------------------------------------------------\u001B[0m",
      "\u001B[1;31mNameError\u001B[0m                                 Traceback (most recent call last)",
      "Cell \u001B[1;32mIn[11], line 5\u001B[0m\n\u001B[0;32m      2\u001B[0m solution \u001B[38;5;241m=\u001B[39m \u001B[38;5;241m4\u001B[39m\n\u001B[0;32m      4\u001B[0m test_case \u001B[38;5;241m=\u001B[39m [arr, solution]\n\u001B[1;32m----> 5\u001B[0m \u001B[43mtest_function\u001B[49m\u001B[43m(\u001B[49m\u001B[43mtest_case\u001B[49m\u001B[43m)\u001B[49m\n",
      "Cell \u001B[1;32mIn[7], line 4\u001B[0m, in \u001B[0;36mtest_function\u001B[1;34m(test_case)\u001B[0m\n\u001B[0;32m      2\u001B[0m arr \u001B[38;5;241m=\u001B[39m test_case[\u001B[38;5;241m0\u001B[39m]\n\u001B[0;32m      3\u001B[0m solution \u001B[38;5;241m=\u001B[39m test_case[\u001B[38;5;241m1\u001B[39m]\n\u001B[1;32m----> 4\u001B[0m root \u001B[38;5;241m=\u001B[39m \u001B[43mconvert_arr_to_binary_tree\u001B[49m\u001B[43m(\u001B[49m\u001B[43marr\u001B[49m\u001B[43m)\u001B[49m\n\u001B[0;32m      5\u001B[0m output \u001B[38;5;241m=\u001B[39m diameter_of_binary_tree(root)\n\u001B[0;32m      6\u001B[0m \u001B[38;5;28mprint\u001B[39m(output)\n",
      "Cell \u001B[1;32mIn[5], line 15\u001B[0m, in \u001B[0;36mconvert_arr_to_binary_tree\u001B[1;34m(arr)\u001B[0m\n\u001B[0;32m     12\u001B[0m     \u001B[38;5;28;01mreturn\u001B[39;00m \u001B[38;5;28;01mNone\u001B[39;00m\n\u001B[0;32m     14\u001B[0m \u001B[38;5;66;03m# instantiate the root tree from the first element of the array\u001B[39;00m\n\u001B[1;32m---> 15\u001B[0m root \u001B[38;5;241m=\u001B[39m \u001B[43mBinaryTreeNode\u001B[49m(arr[index])\n\u001B[0;32m     16\u001B[0m \u001B[38;5;66;03m# increment the index of the array\u001B[39;00m\n\u001B[0;32m     17\u001B[0m index \u001B[38;5;241m+\u001B[39m\u001B[38;5;241m=\u001B[39m \u001B[38;5;241m1\u001B[39m\n",
      "\u001B[1;31mNameError\u001B[0m: name 'BinaryTreeNode' is not defined"
     ]
    }
   ],
   "source": [
    "arr = [1, 2, 3, 4, None, 5, None, None, None, None, None]\n",
    "solution = 4\n",
    "\n",
    "test_case = [arr, solution]\n",
    "test_function(test_case)"
   ]
  },
  {
   "cell_type": "code",
   "execution_count": null,
   "metadata": {},
   "outputs": [],
   "source": []
  }
 ],
 "metadata": {
  "kernelspec": {
   "display_name": "Python 3",
   "language": "python",
   "name": "python3"
  },
  "language_info": {
   "codemirror_mode": {
    "name": "ipython",
    "version": 3
   },
   "file_extension": ".py",
   "mimetype": "text/x-python",
   "name": "python",
   "nbconvert_exporter": "python",
   "pygments_lexer": "ipython3",
   "version": "3.6.3"
  }
 },
 "nbformat": 4,
 "nbformat_minor": 2
}
