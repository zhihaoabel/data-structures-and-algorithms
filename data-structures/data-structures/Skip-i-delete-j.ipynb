{
 "cells": [
  {
   "cell_type": "markdown",
   "metadata": {
    "graffitiCellId": "id_0qbquwe"
   },
   "source": [
    "### Problem Statement\n",
    "\n",
    "You are given the head of a linked list and two integers, `i` and `j`.\n",
    "You have to retain the first `i` nodes and then delete the next `j` nodes. Continue doing so until the end of the linked list. \n",
    "\n",
    "**Example:**\n",
    "* `linked-list = 1 2 3 4 5 6 7 8 9 10 11 12`\n",
    "* `i = 2`\n",
    "* `j = 3` \n",
    "* `Output = 1 2 6 7 11 12` \n"
   ]
  },
  {
   "cell_type": "code",
   "execution_count": 26,
   "metadata": {
    "graffitiCellId": "id_x5k7r8o",
    "ExecuteTime": {
     "end_time": "2023-10-15T11:25:10.511861Z",
     "start_time": "2023-10-15T11:25:10.490802200Z"
    }
   },
   "outputs": [],
   "source": [
    "# LinkedList Node class for your reference\n",
    "class Node:\n",
    "    def __init__(self, data):\n",
    "        self.data = data\n",
    "        self.next = None"
   ]
  },
  {
   "cell_type": "markdown",
   "metadata": {
    "graffitiCellId": "id_l7dimt2"
   },
   "source": [
    "### Exercise - Write the function definition here"
   ]
  },
  {
   "cell_type": "code",
   "execution_count": 27,
   "metadata": {
    "graffitiCellId": "id_rjkafju",
    "ExecuteTime": {
     "end_time": "2023-10-15T11:25:11.501146700Z",
     "start_time": "2023-10-15T11:25:11.464086300Z"
    }
   },
   "outputs": [],
   "source": [
    "def skip_i_delete_j(head, i, j):\n",
    "    \"\"\"\n",
    "    :param: head - head of linked list\n",
    "    :param: i - first `i` nodes that are to be skipped\n",
    "    :param: j - next `j` nodes that are to be deleted\n",
    "    return - return the updated head of the linked list\n",
    "\n",
    "    For 循环遍历 i, j 次。注意None校验\n",
    "    \"\"\"\n",
    "    if head is None or i < 0 or j < 0:\n",
    "        return head\n",
    "\n",
    "    node = Node(None)\n",
    "    node.next = head\n",
    "    while True:\n",
    "        # 保留 i 个结点\n",
    "        for m in range(i):\n",
    "            node = node.next\n",
    "            if node is None:\n",
    "                return head\n",
    "\n",
    "        # 删除 j 个结点，记录第一个被删除的结点前一个结点的位置\n",
    "        prev = node\n",
    "        for n in range(j):\n",
    "            prev = prev.next\n",
    "            if prev is None:\n",
    "                node.next = None\n",
    "                return head\n",
    "\n",
    "        # prev 的 next 指向下一个保留区间的第一个结点\n",
    "        node.next = prev.next"
   ]
  },
  {
   "cell_type": "markdown",
   "metadata": {
    "graffitiCellId": "id_u0u6fxe"
   },
   "source": [
    "<span class=\"graffiti-highlight graffiti-id_u0u6fxe-id_fydupf2\"><i></i><button>Show Solution</button></span>"
   ]
  },
  {
   "cell_type": "markdown",
   "metadata": {
    "graffitiCellId": "id_t5i032o"
   },
   "source": [
    "### Test - Let's test your function"
   ]
  },
  {
   "cell_type": "code",
   "execution_count": 28,
   "metadata": {
    "graffitiCellId": "id_jj92agc",
    "ExecuteTime": {
     "end_time": "2023-10-15T11:25:13.228290800Z",
     "start_time": "2023-10-15T11:25:13.200749300Z"
    }
   },
   "outputs": [],
   "source": [
    "# helper functions for testing purpose\n",
    "def create_linked_list(arr):\n",
    "    if len(arr) == 0:\n",
    "        return None\n",
    "    head = Node(arr[0])\n",
    "    tail = head\n",
    "    for data in arr[1:]:\n",
    "        tail.next = Node(data)\n",
    "        tail = tail.next\n",
    "    return head\n",
    "\n",
    "\n",
    "def print_linked_list(head):\n",
    "    while head:\n",
    "        print(head.data, end=' ')\n",
    "        head = head.next\n",
    "    print()"
   ]
  },
  {
   "cell_type": "code",
   "execution_count": 29,
   "metadata": {
    "graffitiCellId": "id_zbgrh5m",
    "ExecuteTime": {
     "end_time": "2023-10-15T11:25:13.742068800Z",
     "start_time": "2023-10-15T11:25:13.710019Z"
    }
   },
   "outputs": [],
   "source": [
    "def test_function(test_case):\n",
    "    head = test_case[0]\n",
    "    i = test_case[1]\n",
    "    j = test_case[2]\n",
    "    solution = test_case[3]\n",
    "\n",
    "    temp = skip_i_delete_j(head, i, j)\n",
    "    index = 0\n",
    "    try:\n",
    "        while temp is not None:\n",
    "            if temp.data != solution[index]:\n",
    "                print(\"Fail\")\n",
    "                return\n",
    "            index += 1\n",
    "            temp = temp.next\n",
    "        print(\"Pass\")\n",
    "    except Exception as e:\n",
    "        print(\"Fail\")"
   ]
  },
  {
   "cell_type": "code",
   "execution_count": 30,
   "metadata": {
    "graffitiCellId": "id_3ubvhf7",
    "ExecuteTime": {
     "end_time": "2023-10-15T11:25:14.192681400Z",
     "start_time": "2023-10-15T11:25:14.162832200Z"
    }
   },
   "outputs": [
    {
     "name": "stdout",
     "output_type": "stream",
     "text": [
      "Pass\n"
     ]
    }
   ],
   "source": [
    "arr = [1, 2, 3, 4, 5, 6, 7, 8, 9, 10, 11, 12]\n",
    "i = 2\n",
    "j = 2\n",
    "head = create_linked_list(arr)\n",
    "solution = [1, 2, 5, 6, 9, 10]\n",
    "test_case = [head, i, j, solution]\n",
    "test_function(test_case)"
   ]
  },
  {
   "cell_type": "code",
   "execution_count": 31,
   "metadata": {
    "graffitiCellId": "id_5kf8py2",
    "ExecuteTime": {
     "end_time": "2023-10-15T11:25:14.815319900Z",
     "start_time": "2023-10-15T11:25:14.808007200Z"
    }
   },
   "outputs": [
    {
     "name": "stdout",
     "output_type": "stream",
     "text": [
      "Pass\n"
     ]
    }
   ],
   "source": [
    "arr = [1, 2, 3, 4, 5, 6, 7, 8, 9, 10, 11, 12]\n",
    "i = 2\n",
    "j = 3\n",
    "head = create_linked_list(arr)\n",
    "solution = [1, 2, 6, 7, 11, 12]\n",
    "test_case = [head, i, j, solution]\n",
    "test_function(test_case)"
   ]
  },
  {
   "cell_type": "code",
   "execution_count": 32,
   "metadata": {
    "graffitiCellId": "id_c81v4ae",
    "ExecuteTime": {
     "end_time": "2023-10-15T11:25:15.568928100Z",
     "start_time": "2023-10-15T11:25:15.538408300Z"
    }
   },
   "outputs": [
    {
     "name": "stdout",
     "output_type": "stream",
     "text": [
      "Pass\n"
     ]
    }
   ],
   "source": [
    "arr = [1, 2, 3, 4, 5]\n",
    "i = 2\n",
    "j = 4\n",
    "head = create_linked_list(arr)\n",
    "solution = [1, 2]\n",
    "test_case = [head, i, j, solution]\n",
    "test_function(test_case)"
   ]
  },
  {
   "cell_type": "code",
   "execution_count": 33,
   "metadata": {
    "graffitiCellId": "id_0zxoieg",
    "ExecuteTime": {
     "end_time": "2023-10-15T11:25:16.251841700Z",
     "start_time": "2023-10-15T11:25:16.243840100Z"
    }
   },
   "outputs": [
    {
     "name": "stdout",
     "output_type": "stream",
     "text": [
      "Pass\n"
     ]
    }
   ],
   "source": [
    "arr = [1, 2, 3, 4, 5]\n",
    "i = 2\n",
    "j = 0\n",
    "head = create_linked_list(arr)\n",
    "solution = [1, 2, 3, 4, 5]\n",
    "test_case = [head, i, j, solution]\n",
    "test_function(test_case)"
   ]
  },
  {
   "cell_type": "code",
   "execution_count": 33,
   "outputs": [],
   "source": [],
   "metadata": {
    "collapsed": false,
    "ExecuteTime": {
     "end_time": "2023-10-15T11:25:16.857939600Z",
     "start_time": "2023-10-15T11:25:16.843419500Z"
    }
   }
  }
 ],
 "metadata": {
  "graffiti": {
   "firstAuthorId": "dev",
   "id": "id_2oggofo",
   "language": "EN"
  },
  "kernelspec": {
   "display_name": "Python 3",
   "language": "python",
   "name": "python3"
  },
  "language_info": {
   "codemirror_mode": {
    "name": "ipython",
    "version": 3
   },
   "file_extension": ".py",
   "mimetype": "text/x-python",
   "name": "python",
   "nbconvert_exporter": "python",
   "pygments_lexer": "ipython3",
   "version": "3.6.3"
  }
 },
 "nbformat": 4,
 "nbformat_minor": 2
}
