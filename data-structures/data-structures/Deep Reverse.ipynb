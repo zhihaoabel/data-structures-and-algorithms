{
 "cells": [
  {
   "cell_type": "markdown",
   "metadata": {
    "graffitiCellId": "id_raex3xy"
   },
   "source": [
    "## Problem Statement\n",
    "\n",
    "Define a procedure, `deep_reverse`, that takes as input a list, and returns a new list that is the deep reverse of the input list.  \n",
    "This means it reverses all the elements in the list, and if any of those elements are lists themselves, reverses all the elements in the inner list, all the way down. \n",
    "\n",
    ">Note: The procedure must not change the input list itself.\n",
    "\n",
    "**Example**<br>\n",
    "Input: `[1, 2, [3, 4, 5], 4, 5]`<br>\n",
    "Output: `[5, 4, [5, 4, 3], 2, 1]`<br>\n",
    "\n",
    "**Hint**<br>\n",
    "1. Begin with a blank final list to be returned.\n",
    "2. Traverse the given list in the reverse order.\n",
    " * If an item in the list is a list itself, call the same function.\n",
    " * Otheriwse, append the item to the final list.\n"
   ]
  },
  {
   "cell_type": "markdown",
   "metadata": {
    "graffitiCellId": "id_qh8o0hp"
   },
   "source": [
    "### Exercise - Write the function definition here"
   ]
  },
  {
   "cell_type": "code",
   "execution_count": 1,
   "metadata": {
    "graffitiCellId": "id_ga0lpbe",
    "ExecuteTime": {
     "end_time": "2023-11-02T15:16:00.991907300Z",
     "start_time": "2023-11-02T15:16:00.985395Z"
    }
   },
   "outputs": [],
   "source": [
    "def deep_reverse(arr):\n",
    "    \"\"\"\n",
    "    倒序遍历 arr。\n",
    "    如果遇到单个元素，直接添加到 list，如果是 list，调用 deep_reverse 递归遍历子 list\n",
    "\n",
    "    base condition: arr[-1] == output[0]\n",
    "    :param arr:\n",
    "    :return:\n",
    "    \"\"\"\n",
    "    final_list = []\n",
    "\n",
    "    for e in arr[::-1]:\n",
    "        if isinstance(e, list):\n",
    "            sub_list = deep_reverse(e)\n",
    "            final_list.append(sub_list)\n",
    "        else:\n",
    "            final_list.append(e)\n",
    "    return final_list"
   ]
  },
  {
   "cell_type": "markdown",
   "metadata": {
    "graffitiCellId": "id_25r0ar8"
   },
   "source": [
    "<span class=\"graffiti-highlight graffiti-id_25r0ar8-id_l0hi76f\"><i></i><button>Show Solution</button></span>"
   ]
  },
  {
   "cell_type": "markdown",
   "metadata": {
    "graffitiCellId": "id_ahbfr8o"
   },
   "source": [
    "### Test - Let's test your function"
   ]
  },
  {
   "cell_type": "code",
   "execution_count": 2,
   "metadata": {
    "graffitiCellId": "id_qgv6buk",
    "ExecuteTime": {
     "end_time": "2023-11-02T15:16:01.003968500Z",
     "start_time": "2023-11-02T15:16:00.989395500Z"
    }
   },
   "outputs": [],
   "source": [
    "def test_function(test_case):\n",
    "    arr = test_case[0]\n",
    "    solution = test_case[1]\n",
    "\n",
    "    output = deep_reverse(arr)\n",
    "    if output == solution:\n",
    "        print(\"Pass\")\n",
    "    else:\n",
    "        print(\"False\")"
   ]
  },
  {
   "cell_type": "code",
   "execution_count": 3,
   "metadata": {
    "graffitiCellId": "id_96zra8y",
    "ExecuteTime": {
     "end_time": "2023-11-02T15:16:01.035746100Z",
     "start_time": "2023-11-02T15:16:01.004967300Z"
    }
   },
   "outputs": [
    {
     "name": "stdout",
     "output_type": "stream",
     "text": [
      "Pass\n"
     ]
    }
   ],
   "source": [
    "arr = [1, 2, 3, 4, 5]\n",
    "solution = [5, 4, 3, 2, 1]\n",
    "test_case = [arr, solution]\n",
    "test_function(test_case)"
   ]
  },
  {
   "cell_type": "code",
   "execution_count": 4,
   "metadata": {
    "graffitiCellId": "id_ptx3y5c",
    "ExecuteTime": {
     "end_time": "2023-11-02T15:16:01.036744100Z",
     "start_time": "2023-11-02T15:16:01.020018200Z"
    }
   },
   "outputs": [
    {
     "name": "stdout",
     "output_type": "stream",
     "text": [
      "Pass\n"
     ]
    }
   ],
   "source": [
    "arr = [1, 2, [3, 4, 5], 4, 5]\n",
    "solution = [5, 4, [5, 4, 3], 2, 1]\n",
    "test_case = [arr, solution]\n",
    "test_function(test_case)"
   ]
  },
  {
   "cell_type": "code",
   "execution_count": 5,
   "metadata": {
    "graffitiCellId": "id_hblffre",
    "ExecuteTime": {
     "end_time": "2023-11-02T15:16:01.073801700Z",
     "start_time": "2023-11-02T15:16:01.037744900Z"
    }
   },
   "outputs": [
    {
     "name": "stdout",
     "output_type": "stream",
     "text": [
      "Pass\n"
     ]
    }
   ],
   "source": [
    "arr = [1, [2, 3, [4, [5, 6]]]]\n",
    "solution = [[[[6, 5], 4], 3, 2], 1]\n",
    "test_case = [arr, solution]\n",
    "test_function(test_case)"
   ]
  },
  {
   "cell_type": "code",
   "execution_count": 6,
   "metadata": {
    "graffitiCellId": "id_ltvv7w1",
    "ExecuteTime": {
     "end_time": "2023-11-02T15:16:01.073801700Z",
     "start_time": "2023-11-02T15:16:01.051771800Z"
    }
   },
   "outputs": [
    {
     "name": "stdout",
     "output_type": "stream",
     "text": [
      "Pass\n"
     ]
    }
   ],
   "source": [
    "arr = [1, [2, 3], 4, [5, 6]]\n",
    "solution = [[6, 5], 4, [3, 2], 1]\n",
    "test_case = [arr, solution]\n",
    "test_function(test_case)"
   ]
  }
 ],
 "metadata": {
  "graffiti": {
   "firstAuthorId": "dev",
   "id": "id_u69esyt",
   "language": "EN"
  },
  "kernelspec": {
   "display_name": "Python 3",
   "language": "python",
   "name": "python3"
  },
  "language_info": {
   "codemirror_mode": {
    "name": "ipython",
    "version": 3
   },
   "file_extension": ".py",
   "mimetype": "text/x-python",
   "name": "python",
   "nbconvert_exporter": "python",
   "pygments_lexer": "ipython3",
   "version": "3.6.3"
  }
 },
 "nbformat": 4,
 "nbformat_minor": 2
}
