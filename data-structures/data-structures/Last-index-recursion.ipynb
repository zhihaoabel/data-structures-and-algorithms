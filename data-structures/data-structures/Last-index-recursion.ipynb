{
 "cells": [
  {
   "cell_type": "markdown",
   "metadata": {
    "graffitiCellId": "id_ykogmat"
   },
   "source": [
    "## Problem statement\n",
    "\n",
    "Given an array `arr` and a target element `target`, find the last index of occurence of `target` in `arr` using recursion. If `target` is not present in `arr`, return `-1`.\n",
    "\n",
    "For example:\n",
    "\n",
    "1. For `arr = [1, 2, 5, 5, 1, 2, 5, 4]` and `target = 5`, `output = 6`\n",
    "\n",
    "2. For `arr = [1, 2, 5, 5, 1, 2, 5, 4]` and `target = 7`, `output = -1`"
   ]
  },
  {
   "cell_type": "code",
   "execution_count": 13,
   "metadata": {
    "graffitiCellId": "id_jy2464y",
    "ExecuteTime": {
     "end_time": "2023-11-12T15:18:19.692980100Z",
     "start_time": "2023-11-12T15:18:19.665448100Z"
    }
   },
   "outputs": [],
   "source": [
    "def last_index(arr, target):\n",
    "    \"\"\"\n",
    "    :param: arr - input array\n",
    "    :param: target - integer element\n",
    "    return: int - last index of target in arr\n",
    "    TODO: complete this method to find the last index of target in arr\n",
    "    \"\"\"\n",
    "\n",
    "    # 非递归方式\n",
    "    # target_index = -1\n",
    "    # for i in range(len(arr)):\n",
    "    #     if arr[i] == target:\n",
    "    #         target_index = i\n",
    "    # return target_index\n",
    "\n",
    "    # 递归方式\n",
    "    def last_index_arr(i):\n",
    "        if i < 0:\n",
    "            return -1\n",
    "\n",
    "        if target == arr[i]:\n",
    "            return i\n",
    "        return last_index_arr(i - 1)\n",
    "\n",
    "    return last_index_arr(len(arr) - 1)\n"
   ]
  },
  {
   "cell_type": "markdown",
   "metadata": {
    "graffitiCellId": "id_vwcsmcw"
   },
   "source": [
    "<span class=\"graffiti-highlight graffiti-id_vwcsmcw-id_flmfhqn\"><i></i><button>Show Solution</button></span>"
   ]
  },
  {
   "cell_type": "code",
   "execution_count": 14,
   "metadata": {
    "graffitiCellId": "id_80igiok",
    "ExecuteTime": {
     "end_time": "2023-11-12T15:18:21.320803600Z",
     "start_time": "2023-11-12T15:18:21.300765500Z"
    }
   },
   "outputs": [],
   "source": [
    "def test_function(test_case):\n",
    "    arr = test_case[0]\n",
    "    target = test_case[1]\n",
    "    solution = test_case[2]\n",
    "    output = last_index(arr, target)\n",
    "    if output == solution:\n",
    "        print(\"Pass\")\n",
    "    else:\n",
    "        print(\"FAIL: Expected\", solution, \", but you've got:\", output)"
   ]
  },
  {
   "cell_type": "code",
   "execution_count": 15,
   "metadata": {
    "graffitiCellId": "id_ph6zw07",
    "ExecuteTime": {
     "end_time": "2023-11-12T15:18:22.007693100Z",
     "start_time": "2023-11-12T15:18:21.986603700Z"
    }
   },
   "outputs": [
    {
     "name": "stdout",
     "output_type": "stream",
     "text": [
      "Pass\n"
     ]
    }
   ],
   "source": [
    "arr = [1, 2, 5, 5, 4]\n",
    "target = 5\n",
    "solution = 3\n",
    "\n",
    "test_case = [arr, target, solution]\n",
    "test_function(test_case)"
   ]
  },
  {
   "cell_type": "code",
   "execution_count": 16,
   "metadata": {
    "graffitiCellId": "id_ikxk069",
    "ExecuteTime": {
     "end_time": "2023-11-12T15:18:22.648384700Z",
     "start_time": "2023-11-12T15:18:22.627582100Z"
    }
   },
   "outputs": [
    {
     "name": "stdout",
     "output_type": "stream",
     "text": [
      "Pass\n"
     ]
    }
   ],
   "source": [
    "arr = [1, 2, 5, 5, 4]\n",
    "target = 7\n",
    "solution = -1\n",
    "\n",
    "test_case = [arr, target, solution]\n",
    "test_function(test_case)"
   ]
  },
  {
   "cell_type": "code",
   "execution_count": 17,
   "metadata": {
    "graffitiCellId": "id_t1qqzpn",
    "ExecuteTime": {
     "end_time": "2023-11-12T15:18:23.088468400Z",
     "start_time": "2023-11-12T15:18:23.059336900Z"
    }
   },
   "outputs": [
    {
     "name": "stdout",
     "output_type": "stream",
     "text": [
      "Pass\n"
     ]
    }
   ],
   "source": [
    "arr = [91, 19, 3, 8, 9]\n",
    "target = 91\n",
    "solution = 0\n",
    "\n",
    "test_case = [arr, target, solution]\n",
    "test_function(test_case)"
   ]
  },
  {
   "cell_type": "code",
   "execution_count": 18,
   "metadata": {
    "graffitiCellId": "id_la123ly",
    "ExecuteTime": {
     "end_time": "2023-11-12T15:18:24.034160600Z",
     "start_time": "2023-11-12T15:18:24.016331800Z"
    }
   },
   "outputs": [
    {
     "name": "stdout",
     "output_type": "stream",
     "text": [
      "Pass\n"
     ]
    }
   ],
   "source": [
    "arr = [1, 1, 1, 1, 1, 1]\n",
    "target = 1\n",
    "solution = 5\n",
    "\n",
    "test_case = [arr, target, solution]\n",
    "test_function(test_case)"
   ]
  },
  {
   "cell_type": "code",
   "execution_count": null,
   "outputs": [],
   "source": [],
   "metadata": {
    "collapsed": false
   }
  }
 ],
 "metadata": {
  "graffiti": {
   "firstAuthorId": "dev",
   "id": "id_4mbef37",
   "language": "EN"
  },
  "kernelspec": {
   "display_name": "Python 3",
   "language": "python",
   "name": "python3"
  },
  "language_info": {
   "codemirror_mode": {
    "name": "ipython",
    "version": 3
   },
   "file_extension": ".py",
   "mimetype": "text/x-python",
   "name": "python",
   "nbconvert_exporter": "python",
   "pygments_lexer": "ipython3",
   "version": "3.6.3"
  }
 },
 "nbformat": 4,
 "nbformat_minor": 2
}
