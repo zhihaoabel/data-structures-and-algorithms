{
 "cells": [
  {
   "cell_type": "markdown",
   "metadata": {},
   "source": [
    "## Traverse a tree (breadth first search)\n",
    "\n",
    "We'll now practice implementing breadth first search (BFS).  You'll see breadth first search again when we learn about graph data structures, so BFS is very useful to know."
   ]
  },
  {
   "cell_type": "markdown",
   "metadata": {},
   "source": [
    "## Creating a sample tree\n",
    "\n",
    "We'll create a tree that looks like the following:"
   ]
  },
  {
   "cell_type": "markdown",
   "metadata": {},
   "source": [
    "![tree image](images/tree_01.png \"Tree\")"
   ]
  },
  {
   "cell_type": "code",
   "execution_count": 8,
   "metadata": {
    "ExecuteTime": {
     "end_time": "2023-11-30T16:51:26.826101300Z",
     "start_time": "2023-11-30T16:51:26.822062100Z"
    }
   },
   "outputs": [],
   "source": [
    "# this code makes the tree that we'll traverse\n",
    "\n",
    "class Node(object):\n",
    "\n",
    "    def __init__(self, value=None):\n",
    "        self.value = value\n",
    "        self.left = None\n",
    "        self.right = None\n",
    "\n",
    "    # set value of the node\n",
    "    def set_value(self, value):\n",
    "        self.value = value\n",
    "\n",
    "    # get value of the node\n",
    "    def get_value(self):\n",
    "        return self.value\n",
    "\n",
    "    # set a node for the left child\n",
    "    def set_left_child(self, left):\n",
    "        self.left = left\n",
    "\n",
    "    # set a node for the right child\n",
    "    def set_right_child(self, right):\n",
    "        self.right = right\n",
    "\n",
    "    # get the node of left child\n",
    "    def get_left_child(self):\n",
    "        return self.left\n",
    "\n",
    "    # get the node of right child\n",
    "    def get_right_child(self):\n",
    "        return self.right\n",
    "\n",
    "    # check if node has left child -> return boolean\n",
    "    def has_left_child(self):\n",
    "        return self.left != None\n",
    "\n",
    "    # check if node has right child -> return boolean\n",
    "    def has_right_child(self):\n",
    "        return self.right != None\n",
    "\n",
    "    # define __repr_ to decide what a print statement displays for a Node object\n",
    "    def __repr__(self):\n",
    "        return f\"Node({self.get_value()})\"\n",
    "\n",
    "    def __str__(self):\n",
    "        return f\"Node({self.get_value()})\"\n",
    "\n",
    "\n",
    "class Tree():\n",
    "    def __init__(self, value=None):\n",
    "        self.root = Node(value)\n",
    "\n",
    "    def get_root(self):\n",
    "        return self.root\n",
    "\n",
    "\n",
    "tree = Tree(\"apple\")\n",
    "tree.get_root().set_left_child(Node(\"banana\"))\n",
    "tree.get_root().set_right_child(Node(\"cherry\"))\n",
    "tree.get_root().get_left_child().set_left_child(Node(\"dates\"))"
   ]
  },
  {
   "cell_type": "markdown",
   "metadata": {},
   "source": [
    "## Breadth first search\n",
    "Breadth first traversal of the tree would visit the nodes in this order:  \n",
    "\n",
    "![tree image](images/tree_01.png \"Tree\")\n",
    "\n",
    "apple, banana, cherry, dates"
   ]
  },
  {
   "cell_type": "markdown",
   "metadata": {},
   "source": [
    "#### Think through the algorithm\n",
    "\n",
    "We are walking down the tree one level at a time. So we start with apple at the root, and next are banana and cherry, and next is dates.\n",
    "\n",
    "\n",
    "1) start at the root node  \n",
    "2) visit the root node's left child (banana), then right child (cherry)  \n",
    "3) visit the left and right children of (banana) and (cherry).\n",
    "\n",
    "## Queue\n",
    "\n",
    "Notice that we're waiting until we visit \"cherry\" before visiting \"dates\".  It's like they're waiting in line.  We can use a queue to keep track of the order. \n",
    "\n",
    "Python's `collections` module has a specialized `deque` datatype (ref: [deque datatype documentation](https://docs.python.org/3/library/collections.html#collections.deque)). We can append a new element to the right of the list with `append` method and to the left of the list with `appendleft`. To remove and return the right element of the list, we can use `pop` method."
   ]
  },
  {
   "cell_type": "markdown",
   "metadata": {},
   "source": [
    "## Define a queue class"
   ]
  },
  {
   "cell_type": "code",
   "execution_count": 9,
   "metadata": {
    "ExecuteTime": {
     "end_time": "2023-11-30T16:51:30.803898500Z",
     "start_time": "2023-11-30T16:51:30.798876300Z"
    }
   },
   "outputs": [
    {
     "name": "stdout",
     "output_type": "stream",
     "text": [
      "deque(['banana', 'apple'])\n"
     ]
    }
   ],
   "source": [
    "# import deque datatype from collections module\n",
    "from collections import deque\n",
    "\n",
    "# instantiate a deque object\n",
    "q = deque()\n",
    "# add 2 elements to the left of the deque\n",
    "q.appendleft(\"apple\")\n",
    "q.appendleft(\"banana\")\n",
    "print(q)"
   ]
  },
  {
   "cell_type": "code",
   "execution_count": 10,
   "metadata": {
    "ExecuteTime": {
     "end_time": "2023-11-30T16:51:31.176876600Z",
     "start_time": "2023-11-30T16:51:31.171828100Z"
    }
   },
   "outputs": [
    {
     "data": {
      "text/plain": "'apple'"
     },
     "execution_count": 10,
     "metadata": {},
     "output_type": "execute_result"
    }
   ],
   "source": [
    "# remove and return the most right element of the list\n",
    "q.pop()"
   ]
  },
  {
   "cell_type": "code",
   "execution_count": 11,
   "metadata": {
    "ExecuteTime": {
     "end_time": "2023-11-30T16:51:31.502846200Z",
     "start_time": "2023-11-30T16:51:31.490310600Z"
    }
   },
   "outputs": [
    {
     "name": "stdout",
     "output_type": "stream",
     "text": [
      "deque(['banana'])\n"
     ]
    }
   ],
   "source": [
    "print(q)"
   ]
  },
  {
   "cell_type": "code",
   "execution_count": 12,
   "metadata": {
    "ExecuteTime": {
     "end_time": "2023-11-30T16:51:31.735001200Z",
     "start_time": "2023-11-30T16:51:31.725472500Z"
    }
   },
   "outputs": [
    {
     "data": {
      "text/plain": "1"
     },
     "execution_count": 12,
     "metadata": {},
     "output_type": "execute_result"
    }
   ],
   "source": [
    "len(q)"
   ]
  },
  {
   "cell_type": "code",
   "execution_count": 13,
   "metadata": {
    "ExecuteTime": {
     "end_time": "2023-11-30T16:51:31.952031600Z",
     "start_time": "2023-11-30T16:51:31.945022600Z"
    }
   },
   "outputs": [],
   "source": [
    "from collections import deque\n",
    "\n",
    "\n",
    "class Queue:\n",
    "    def __init__(self):\n",
    "        self.q = deque()\n",
    "\n",
    "    def enq(self, value):\n",
    "        self.q.appendleft(value)\n",
    "\n",
    "    def deq(self):\n",
    "        if len(self.q) > 0:\n",
    "            return self.q.pop()\n",
    "        else:\n",
    "            return None\n",
    "\n",
    "    def __len__(self):\n",
    "        return len(self.q)\n",
    "\n",
    "    def __repr__(self):\n",
    "        if len(self.q) > 0:\n",
    "            s = \"<enqueue here>\\n_________________\\n\"\n",
    "            s += \"\\n_________________\\n\".join([str(item) for item in self.q])\n",
    "            s += \"\\n_________________\\n<dequeue here>\"\n",
    "            return s\n",
    "        else:\n",
    "            return \"<queue is empty>\""
   ]
  },
  {
   "cell_type": "code",
   "execution_count": 14,
   "metadata": {
    "ExecuteTime": {
     "end_time": "2023-11-30T16:51:32.176796100Z",
     "start_time": "2023-11-30T16:51:32.162235300Z"
    }
   },
   "outputs": [
    {
     "name": "stdout",
     "output_type": "stream",
     "text": [
      "<enqueue here>\n",
      "_________________\n",
      "cherry\n",
      "_________________\n",
      "banana\n",
      "_________________\n",
      "apple\n",
      "_________________\n",
      "<dequeue here>\n"
     ]
    }
   ],
   "source": [
    "q = Queue()\n",
    "q.enq(\"apple\")\n",
    "q.enq(\"banana\")\n",
    "q.enq(\"cherry\")\n",
    "print(q)"
   ]
  },
  {
   "cell_type": "code",
   "execution_count": 15,
   "metadata": {
    "ExecuteTime": {
     "end_time": "2023-11-30T16:51:32.408474400Z",
     "start_time": "2023-11-30T16:51:32.403952500Z"
    }
   },
   "outputs": [
    {
     "name": "stdout",
     "output_type": "stream",
     "text": [
      "apple\n"
     ]
    }
   ],
   "source": [
    "print(q.deq())"
   ]
  },
  {
   "cell_type": "code",
   "execution_count": 16,
   "metadata": {
    "ExecuteTime": {
     "end_time": "2023-11-30T16:51:32.702379Z",
     "start_time": "2023-11-30T16:51:32.692862400Z"
    }
   },
   "outputs": [
    {
     "name": "stdout",
     "output_type": "stream",
     "text": [
      "<enqueue here>\n",
      "_________________\n",
      "cherry\n",
      "_________________\n",
      "banana\n",
      "_________________\n",
      "<dequeue here>\n"
     ]
    }
   ],
   "source": [
    "print(q)"
   ]
  },
  {
   "cell_type": "markdown",
   "metadata": {},
   "source": [
    "## Walk through the steps with code\n",
    "\n",
    "We're going to translate what we're doing by hand into code, one step at a time.  This will help us check if our code is doing what we expect it to do.\n",
    "\n",
    "![tree image](images/tree_01.png \"Tree\")"
   ]
  },
  {
   "cell_type": "code",
   "execution_count": 17,
   "metadata": {
    "ExecuteTime": {
     "end_time": "2023-11-30T16:51:35.432333600Z",
     "start_time": "2023-11-30T16:51:35.426326300Z"
    }
   },
   "outputs": [
    {
     "name": "stdout",
     "output_type": "stream",
     "text": [
      "<enqueue here>\n",
      "_________________\n",
      "Node(apple)\n",
      "_________________\n",
      "<dequeue here>\n"
     ]
    }
   ],
   "source": [
    "visit_order = list()\n",
    "q = Queue()\n",
    "\n",
    "# start at the root node and add it to the queue\n",
    "node = tree.get_root()\n",
    "q.enq(node)\n",
    "print(q)"
   ]
  },
  {
   "cell_type": "code",
   "execution_count": 18,
   "metadata": {
    "ExecuteTime": {
     "end_time": "2023-11-30T16:51:36.165708700Z",
     "start_time": "2023-11-30T16:51:36.158677100Z"
    }
   },
   "outputs": [
    {
     "name": "stdout",
     "output_type": "stream",
     "text": [
      "visit order: [Node(apple)]\n",
      "<enqueue here>\n",
      "_________________\n",
      "Node(cherry)\n",
      "_________________\n",
      "Node(banana)\n",
      "_________________\n",
      "<dequeue here>\n"
     ]
    }
   ],
   "source": [
    "# dequeue the next node in the queue. \n",
    "# \"visit\" that node\n",
    "# also add its children to the queue\n",
    "\n",
    "node = q.deq()\n",
    "visit_order.append(node)\n",
    "if node.has_left_child():\n",
    "    q.enq(node.get_left_child())\n",
    "if node.has_right_child():\n",
    "    q.enq(node.get_right_child())\n",
    "\n",
    "print(f\"visit order: {visit_order}\")\n",
    "print(q)"
   ]
  },
  {
   "cell_type": "code",
   "execution_count": 19,
   "metadata": {
    "ExecuteTime": {
     "end_time": "2023-11-30T16:51:36.910924100Z",
     "start_time": "2023-11-30T16:51:36.903913900Z"
    }
   },
   "outputs": [
    {
     "name": "stdout",
     "output_type": "stream",
     "text": [
      "visit order: [Node(apple), Node(banana)]\n",
      "<enqueue here>\n",
      "_________________\n",
      "Node(dates)\n",
      "_________________\n",
      "Node(cherry)\n",
      "_________________\n",
      "<dequeue here>\n"
     ]
    }
   ],
   "source": [
    "# dequeue the next node (banana)\n",
    "# visit it, and add its children (dates) to the queue \n",
    "\n",
    "node = q.deq()\n",
    "visit_order.append(node)\n",
    "if node.has_left_child():\n",
    "    q.enq(node.get_left_child())\n",
    "if node.has_right_child():\n",
    "    q.enq(node.get_right_child())\n",
    "\n",
    "print(f\"visit order: {visit_order}\")\n",
    "print(q)"
   ]
  },
  {
   "cell_type": "code",
   "execution_count": 20,
   "metadata": {
    "ExecuteTime": {
     "end_time": "2023-11-30T16:51:37.756369100Z",
     "start_time": "2023-11-30T16:51:37.751061200Z"
    }
   },
   "outputs": [
    {
     "name": "stdout",
     "output_type": "stream",
     "text": [
      "visit order: [Node(apple), Node(banana), Node(cherry)]\n",
      "<enqueue here>\n",
      "_________________\n",
      "Node(dates)\n",
      "_________________\n",
      "<dequeue here>\n"
     ]
    }
   ],
   "source": [
    "# dequeue the next node (cherry)\n",
    "# visit it, and add its children (there are None) to the queue \n",
    "\n",
    "node = q.deq()\n",
    "visit_order.append(node)\n",
    "if node.has_left_child():\n",
    "    q.enq(node.get_left_child())\n",
    "if node.has_right_child():\n",
    "    q.enq(node.get_right_child())\n",
    "\n",
    "print(f\"visit order: {visit_order}\")\n",
    "print(q)"
   ]
  },
  {
   "cell_type": "code",
   "execution_count": 21,
   "metadata": {
    "ExecuteTime": {
     "end_time": "2023-11-30T16:51:39.868821400Z",
     "start_time": "2023-11-30T16:51:39.851791400Z"
    }
   },
   "outputs": [
    {
     "name": "stdout",
     "output_type": "stream",
     "text": [
      "visit order: [Node(apple), Node(banana), Node(cherry), Node(dates)]\n",
      "<queue is empty>\n"
     ]
    }
   ],
   "source": [
    "# dequeue the next node (dates)\n",
    "# visit it, and add its children (there are None) to the queue \n",
    "\n",
    "node = q.deq()\n",
    "visit_order.append(node)\n",
    "if node.has_left_child():\n",
    "    q.enq(node.get_left_child())\n",
    "if node.has_right_child():\n",
    "    q.enq(node.get_right_child())\n",
    "\n",
    "print(f\"visit order: {visit_order}\")\n",
    "print(q)"
   ]
  },
  {
   "cell_type": "markdown",
   "metadata": {},
   "source": [
    "## Task: write the breadth first search algorithm"
   ]
  },
  {
   "cell_type": "code",
   "execution_count": 22,
   "metadata": {
    "ExecuteTime": {
     "end_time": "2023-11-30T16:51:43.590100Z",
     "start_time": "2023-11-30T16:51:43.586091500Z"
    }
   },
   "outputs": [],
   "source": [
    "# BFS algorithm\n",
    "def bfs(tree):\n",
    "    visited_nodes = list()\n",
    "    queue = Queue()\n",
    "    root = tree.get_root()\n",
    "    queue.enq(root)\n",
    "\n",
    "    while len(queue) != 0:\n",
    "        current_node: Node = queue.deq()\n",
    "        visited_nodes.append(current_node)\n",
    "        if current_node.has_left_child():\n",
    "            queue.enq(current_node.get_left_child())\n",
    "        if current_node.has_right_child():\n",
    "            queue.enq(current_node.get_right_child())\n",
    "\n",
    "    print(visited_nodes)"
   ]
  },
  {
   "cell_type": "code",
   "execution_count": 23,
   "metadata": {
    "ExecuteTime": {
     "end_time": "2023-11-30T16:51:45.413742300Z",
     "start_time": "2023-11-30T16:51:45.398703500Z"
    }
   },
   "outputs": [
    {
     "name": "stdout",
     "output_type": "stream",
     "text": [
      "[Node(apple), Node(banana), Node(cherry), Node(dates)]\n"
     ]
    }
   ],
   "source": [
    "# check solution: should be: apple, banana, cherry, dates\n",
    "bfs(tree)"
   ]
  },
  {
   "cell_type": "markdown",
   "metadata": {},
   "source": [
    "## Bonus Task: write a print function\n",
    "\n",
    "Define the print function for the Tree class.  Nodes on the same level are printed on the same line. \n",
    "\n",
    "For example, the tree we've been using would print out like this:\n",
    "```\n",
    "Node(apple)\n",
    "Node(banana) | Node(cherry)\n",
    "Node(dates) | <empty> | <empty> | <empty>\n",
    "<empty> | <empty>\n",
    "```\n",
    "We'll have `<empty>` be placeholders so that we can keep track of which node is a child or parent of the other nodes.\n",
    "\n",
    "**hint**: use a variable to keep track of which level each node is on.  For instance, the root node is on level 0, and its child nodes are on level 1."
   ]
  },
  {
   "cell_type": "code",
   "execution_count": 58,
   "metadata": {
    "ExecuteTime": {
     "end_time": "2023-11-30T17:20:40.430253600Z",
     "start_time": "2023-11-30T17:20:40.425235Z"
    }
   },
   "outputs": [],
   "source": [
    "\n",
    "class Tree:\n",
    "    def __init__(self, root_value=None):\n",
    "        self.root = Node(root_value)\n",
    "\n",
    "    def get_root(self):\n",
    "        return self.root\n",
    "\n",
    "    def build_visit_nodes_list(self):\n",
    "        level = 0\n",
    "        current_node = self.get_root()\n",
    "        queue = Queue()\n",
    "        queue.enq((current_node, level))\n",
    "        visit_nodes_list = []\n",
    "\n",
    "        while len(queue) > 0:\n",
    "            current_node, level = queue.deq()\n",
    "            if current_node is None:\n",
    "                visit_nodes_list.append(('<empty>', level))\n",
    "                continue\n",
    "            visit_nodes_list.append((current_node, level))\n",
    "\n",
    "            if current_node.has_left_child():\n",
    "                queue.enq((current_node.get_left_child(), level + 1))\n",
    "            else:\n",
    "                queue.enq((None, level + 1))\n",
    "\n",
    "            if current_node.has_right_child():\n",
    "                queue.enq((current_node.get_right_child(), level + 1))\n",
    "            else:\n",
    "                queue.enq((None, level + 1))\n",
    "\n",
    "        return visit_nodes_list\n",
    "\n",
    "    def generate_string_representation(self, visit_nodes_list):\n",
    "        \"\"\"\n",
    "        Generate a multiline string representation of the BinaryTree from a list of node levels. \n",
    "        Each line of the output string contains nodes of the same level, separated by '|'.\n",
    "        \"\"\"\n",
    "        previous_level = -1\n",
    "        level_lines = []\n",
    "    \n",
    "        for current_node, level in visit_nodes_list:\n",
    "            if previous_level != level:\n",
    "                # we're at a new level, so start a new line\n",
    "                level_lines.append(str(current_node))\n",
    "                previous_level = level\n",
    "            else:\n",
    "                # we're still on the same level, so append the node to the current line\n",
    "                level_lines[-1] += f' | {current_node}'\n",
    "    \n",
    "        # join all level lines into a single string with line breaks\n",
    "        result_string = \"\\n\".join(level_lines)\n",
    "    \n",
    "        return result_string\n",
    "\n",
    "    def __repr__(self):\n",
    "        \"\"\"\n",
    "        Perform a breadth-first search (BFS) on the binary tree, \n",
    "        add a level attribute to each node and record all nodes in a list. \n",
    "        Traverse the list, use `current_level` to record the current level. \n",
    "        If `current_level` does not equal the node's level being traversed, start a new line and update `current_level`.\n",
    "        \"\"\"\n",
    "        visit_nodes_list = self.build_visit_nodes_list()\n",
    "        result_str = self.generate_string_representation(visit_nodes_list)\n",
    "\n",
    "        return result_str\n",
    "\n"
   ]
  },
  {
   "cell_type": "code",
   "execution_count": 59,
   "metadata": {
    "ExecuteTime": {
     "end_time": "2023-11-30T17:20:41.169374400Z",
     "start_time": "2023-11-30T17:20:41.165366200Z"
    }
   },
   "outputs": [
    {
     "name": "stdout",
     "output_type": "stream",
     "text": [
      "Node(apple)\n",
      "Node(banana) | Node(cherry)\n",
      "Node(dates) | <empty> | <empty> | <empty>\n",
      "<empty> | <empty>\n"
     ]
    }
   ],
   "source": [
    "# check solution\n",
    "tree = Tree(\"apple\")\n",
    "tree.get_root().set_left_child(Node(\"banana\"))\n",
    "tree.get_root().set_right_child(Node(\"cherry\"))\n",
    "tree.get_root().get_left_child().set_left_child(Node(\"dates\"))\n",
    "print(tree)"
   ]
  },
  {
   "cell_type": "markdown",
   "metadata": {},
   "source": [
    "## Solution notebook\n",
    "The solution notebook is [here](03_traverse_a_tree_bfs_solution.ipynb)"
   ]
  },
  {
   "cell_type": "code",
   "execution_count": null,
   "metadata": {},
   "outputs": [],
   "source": []
  }
 ],
 "metadata": {
  "kernelspec": {
   "display_name": "Python 3",
   "language": "python",
   "name": "python3"
  },
  "language_info": {
   "codemirror_mode": {
    "name": "ipython",
    "version": 3
   },
   "file_extension": ".py",
   "mimetype": "text/x-python",
   "name": "python",
   "nbconvert_exporter": "python",
   "pygments_lexer": "ipython3",
   "version": "3.6.3"
  }
 },
 "nbformat": 4,
 "nbformat_minor": 2
}
