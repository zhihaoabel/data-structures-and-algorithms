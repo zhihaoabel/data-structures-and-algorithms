{
 "cells": [
  {
   "cell_type": "markdown",
   "metadata": {
    "graffitiCellId": "id_ckuzd96"
   },
   "source": [
    "## Reverse Polish Notation\n",
    "\n",
    "**Reverse Polish notation**, also referred to as **Polish postfix notation** is a way of laying out operators and operands. \n",
    "\n",
    "When making mathematical expressions, we typically put arithmetic operators (like `+`, `-`, `*`, and `/`) *between* operands. For example: `5 + 7 - 3 * 8`\n",
    "\n",
    "However, in Reverse Polish Notation, the operators come *after* the operands. For example: `3 1 + 4 *`\n",
    "\n",
    "The above expression would be evaluated as `(3 + 1) * 4 = 16`\n",
    "\n",
    "The goal of this exercise is to create a function that does the following:\n",
    "* Given a *postfix* expression as input, evaluate and return the correct final answer. \n",
    "\n",
    "**Note**: In Python 3, the division operator `/` is used to perform float division. So for this problem, you should use `int()` after every division to convert the answer to an integer."
   ]
  },
  {
   "cell_type": "code",
   "execution_count": 34,
   "metadata": {
    "graffitiCellId": "id_ukl3cva",
    "ExecuteTime": {
     "end_time": "2023-10-21T06:41:41.248233700Z",
     "start_time": "2023-10-21T06:41:41.192678800Z"
    }
   },
   "outputs": [],
   "source": [
    "class LinkedListNode:\n",
    "\n",
    "    def __init__(self, data):\n",
    "        self.data = data\n",
    "        self.next = None\n",
    "\n",
    "\n",
    "class Stack:\n",
    "\n",
    "    def __init__(self):\n",
    "        self.num_elements = 0\n",
    "        self.head = None\n",
    "\n",
    "    def push(self, data):\n",
    "        new_node = LinkedListNode(data)\n",
    "        if self.head is None:\n",
    "            self.head = new_node\n",
    "        else:\n",
    "            new_node.next = self.head\n",
    "            self.head = new_node\n",
    "        self.num_elements += 1\n",
    "\n",
    "    def pop(self):\n",
    "        if self.is_empty():\n",
    "            return None\n",
    "        temp = self.head.data\n",
    "        self.head = self.head.next\n",
    "        self.num_elements -= 1\n",
    "        return temp\n",
    "\n",
    "    def top(self):\n",
    "        if self.head is None:\n",
    "            return None\n",
    "        return self.head.data\n",
    "\n",
    "    def size(self):\n",
    "        return self.num_elements\n",
    "\n",
    "    def is_empty(self):\n",
    "        return self.num_elements == 0\n"
   ]
  },
  {
   "cell_type": "code",
   "execution_count": 35,
   "metadata": {
    "graffitiCellId": "id_tgdzgoq",
    "ExecuteTime": {
     "end_time": "2023-10-21T06:41:41.267886Z",
     "start_time": "2023-10-21T06:41:41.206862600Z"
    }
   },
   "outputs": [],
   "source": [
    "from decimal import Decimal\n",
    "def evaluate_post_fix(input_list):\n",
    "    \"\"\"\n",
    "    Evaluate the postfix expression to find the answer\n",
    "\n",
    "    Args:\n",
    "       input_list(list): List containing the postfix expression\n",
    "    Returns:\n",
    "       int: Postfix expression solution\n",
    "    \"\"\"\n",
    "\n",
    "    def calculate_expression(operator, first_operand, second_operand):\n",
    "        operations = {'/': int.__truediv__,\n",
    "                      '+': int.__add__,\n",
    "                      '-': int.__sub__,\n",
    "                      '*': int.__mul__}\n",
    "\n",
    "        if operator in operations:\n",
    "            return operations[operator](int(first_operand), int(second_operand))\n",
    "        return None\n",
    "\n",
    "    stack = Stack()\n",
    "    res = None\n",
    "    for item in input_list:\n",
    "        if item == '+' or item == '-' or item == '*' or item == '/':\n",
    "            if res is None:\n",
    "                res = stack.pop()\n",
    "            first = stack.pop()\n",
    "            res = int(calculate_expression(item, first, res))\n",
    "            continue\n",
    "\n",
    "        stack.push(item)\n",
    "\n",
    "    return res"
   ]
  },
  {
   "cell_type": "code",
   "execution_count": 36,
   "metadata": {
    "graffitiCellId": "id_jtoxj0x",
    "ExecuteTime": {
     "end_time": "2023-10-21T06:41:41.268886100Z",
     "start_time": "2023-10-21T06:41:41.219700100Z"
    }
   },
   "outputs": [],
   "source": [
    "def test_function(test_case):\n",
    "    output = evaluate_post_fix(test_case[0])\n",
    "    print(output)\n",
    "    if output == test_case[1]:\n",
    "        print(\"Pass\")\n",
    "    else:\n",
    "        print(\"Fail\")\n"
   ]
  },
  {
   "cell_type": "code",
   "execution_count": 37,
   "metadata": {
    "graffitiCellId": "id_9sqctfc",
    "ExecuteTime": {
     "end_time": "2023-10-21T06:41:41.268886100Z",
     "start_time": "2023-10-21T06:41:41.234722100Z"
    }
   },
   "outputs": [
    {
     "name": "stdout",
     "output_type": "stream",
     "text": [
      "16\n",
      "Pass\n"
     ]
    }
   ],
   "source": [
    "test_case_1 = [[\"3\", \"1\", \"+\", \"4\", \"*\"], 16]\n",
    "\n",
    "test_function(test_case_1)"
   ]
  },
  {
   "cell_type": "code",
   "execution_count": 38,
   "metadata": {
    "graffitiCellId": "id_19vblle",
    "ExecuteTime": {
     "end_time": "2023-10-21T06:41:41.270390800Z",
     "start_time": "2023-10-21T06:41:41.251234400Z"
    }
   },
   "outputs": [
    {
     "name": "stdout",
     "output_type": "stream",
     "text": [
      "6\n",
      "Pass\n"
     ]
    }
   ],
   "source": [
    "test_case_2 = [[\"4\", \"13\", \"5\", \"/\", \"+\"], 6]\n",
    "test_function(test_case_2)"
   ]
  },
  {
   "cell_type": "code",
   "execution_count": 39,
   "metadata": {
    "graffitiCellId": "id_q5atimj",
    "ExecuteTime": {
     "end_time": "2023-10-21T06:41:41.281415600Z",
     "start_time": "2023-10-21T06:41:41.265886300Z"
    }
   },
   "outputs": [
    {
     "name": "stdout",
     "output_type": "stream",
     "text": [
      "22\n",
      "Pass\n"
     ]
    }
   ],
   "source": [
    "test_case_3 = [[\"10\", \"6\", \"9\", \"3\", \"+\", \"-11\", \"*\", \"/\", \"*\", \"17\", \"+\", \"5\", \"+\"], 22]\n",
    "test_function(test_case_3)"
   ]
  },
  {
   "cell_type": "markdown",
   "metadata": {
    "graffitiCellId": "id_wble8ty"
   },
   "source": [
    "<span class=\"graffiti-highlight graffiti-id_wble8ty-id_56fruru\"><i></i><button>Show Solution</button></span>"
   ]
  }
 ],
 "metadata": {
  "graffiti": {
   "firstAuthorId": "10694620118",
   "id": "id_mokjq6m",
   "language": "EN"
  },
  "kernelspec": {
   "display_name": "Python 3",
   "language": "python",
   "name": "python3"
  },
  "language_info": {
   "codemirror_mode": {
    "name": "ipython",
    "version": 3
   },
   "file_extension": ".py",
   "mimetype": "text/x-python",
   "name": "python",
   "nbconvert_exporter": "python",
   "pygments_lexer": "ipython3",
   "version": "3.6.3"
  }
 },
 "nbformat": 4,
 "nbformat_minor": 2
}
