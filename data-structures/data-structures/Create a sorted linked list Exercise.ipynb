{
 "cells": [
  {
   "cell_type": "markdown",
   "metadata": {
    "graffitiCellId": "id_5d55rf6"
   },
   "source": [
    "## Create a sorted linked list\n",
    "\n",
    "Given a stream of random integers, create a linked list that is always sorted from ascending order (lowest to highest). What's the computational complexity of adding an element in this way?"
   ]
  },
  {
   "cell_type": "code",
   "execution_count": 7,
   "metadata": {
    "graffitiCellId": "id_uy4n9c2",
    "ExecuteTime": {
     "end_time": "2023-10-10T15:07:08.198776400Z",
     "start_time": "2023-10-10T15:07:08.183247800Z"
    }
   },
   "outputs": [],
   "source": [
    "# Use this class as the nodes in your linked list\n",
    "class Node:\n",
    "    def __init__(self, value):\n",
    "        self.value = value\n",
    "        self.next = None\n",
    "\n",
    "    def __repr__(self):\n",
    "        return str(self.value)"
   ]
  },
  {
   "cell_type": "code",
   "execution_count": 8,
   "metadata": {
    "graffitiCellId": "id_54y346f",
    "ExecuteTime": {
     "end_time": "2023-10-10T15:07:08.761642400Z",
     "start_time": "2023-10-10T15:07:08.755638100Z"
    }
   },
   "outputs": [],
   "source": [
    "class SortedLinkedList:\n",
    "    def __init__(self):\n",
    "        self.head = None\n",
    "\n",
    "    def append(self, value):\n",
    "        \"\"\"\n",
    "        Append a value to the Linked List in ascending sorted order\n",
    "\n",
    "        Args:\n",
    "           value(int): Value to add to Linked List\n",
    "        \n",
    "        1. 头节点直接插入，返回\n",
    "        2. 遍历链表，依次将待插入节点与当前节点的下一个节点比较。如果待插入节点的值大于等于下一个节点的值，继续遍历。\n",
    "            如果待插入节点的值小于下一个节点的值，将待插入节点插入到当前节点的后面，返回。\n",
    "        \"\"\"\n",
    "        if self.head is None:\n",
    "            self.head = Node(value)\n",
    "            return\n",
    "\n",
    "        # 处理第二个结点比头结点小的情况\n",
    "        if value < self.head.value:\n",
    "            new_node = Node(value)\n",
    "            new_node.next = self.head\n",
    "            self.head = new_node\n",
    "            return\n",
    "\n",
    "        current = self.head\n",
    "        while current.next and value >= current.next.value:\n",
    "            current = current.next\n",
    "\n",
    "        new_node = Node(value)\n",
    "        # 新节点的next指向下一个结点\n",
    "        new_node.next = current.next\n",
    "        # 当前结点的next指向新节点\n",
    "        current.next = new_node\n"
   ]
  },
  {
   "cell_type": "code",
   "execution_count": 9,
   "metadata": {
    "graffitiCellId": "id_f1gndvl",
    "ExecuteTime": {
     "end_time": "2023-10-10T15:07:09.516638800Z",
     "start_time": "2023-10-10T15:07:09.496115800Z"
    }
   },
   "outputs": [
    {
     "name": "stdout",
     "output_type": "stream",
     "text": [
      "Pass\n",
      "Pass\n",
      "Pass\n"
     ]
    }
   ],
   "source": [
    "# Test cases\n",
    "linked_list = SortedLinkedList()\n",
    "linked_list.append(3)\n",
    "print(\"Pass\" if (linked_list.head.value == 3) else \"Fail\")\n",
    "\n",
    "linked_list.append(2)\n",
    "print(\"Pass\" if (linked_list.head.value == 2) else \"Fail\")\n",
    "\n",
    "linked_list.append(4)\n",
    "node = linked_list.head.next.next\n",
    "print(\"Pass\" if (node.value == 4) else \"Fail\")"
   ]
  },
  {
   "cell_type": "markdown",
   "metadata": {
    "graffitiCellId": "id_1lh8zt3"
   },
   "source": [
    "<span class=\"graffiti-highlight graffiti-id_1lh8zt3-id_jzo0637\"><i></i><button>Show Solution</button></span>"
   ]
  },
  {
   "cell_type": "markdown",
   "metadata": {
    "graffitiCellId": "id_5rqxkq0"
   },
   "source": [
    "Computational complexity is $O(N)$ where $N$ is the current length of the linked list."
   ]
  },
  {
   "cell_type": "markdown",
   "metadata": {
    "graffitiCellId": "id_01gbzx6"
   },
   "source": [
    "### Additional question: Sort an array with this linked list\n",
    "\n",
    "Given an array of integers, use this linked list to sort them and return a sorted array. What's the computational complexity of this sorting algorithm? How does it compare to other sorting algorithms?"
   ]
  },
  {
   "cell_type": "code",
   "execution_count": 12,
   "metadata": {
    "graffitiCellId": "id_3948fxz",
    "ExecuteTime": {
     "end_time": "2023-10-10T15:15:52.970532100Z",
     "start_time": "2023-10-10T15:15:52.959295Z"
    }
   },
   "outputs": [],
   "source": [
    "def sort(array):\n",
    "    \"\"\"\n",
    "    Given an array of integers, use SortedLinkedList to sort them and return a sorted array.\n",
    "\n",
    "    Args:\n",
    "       array(array): Array of integers to be sorted\n",
    "    Returns:\n",
    "       array: Return sorted array\n",
    "       \n",
    "    遍历数组然后插入结点，利用有序链表自己内部的排序\n",
    "    \"\"\"\n",
    "    sll = SortedLinkedList()\n",
    "    for i in array:\n",
    "        sll.append(i)\n",
    "\n",
    "    current = sll.head\n",
    "    sorted_list = []\n",
    "    while current:\n",
    "        sorted_list.append(current.value)\n",
    "        current = current.next\n",
    "    \n",
    "    return sorted_list\n"
   ]
  },
  {
   "cell_type": "code",
   "execution_count": 13,
   "metadata": {
    "graffitiCellId": "id_sln0fai",
    "ExecuteTime": {
     "end_time": "2023-10-10T15:15:53.857437Z",
     "start_time": "2023-10-10T15:15:53.840875400Z"
    }
   },
   "outputs": [
    {
     "name": "stdout",
     "output_type": "stream",
     "text": [
      "Pass\n"
     ]
    }
   ],
   "source": [
    "# Test case\n",
    "print(\"Pass\" if (sort([4, 8, 2, 1, -3, 1, 5]) == [-3, 1, 1, 2, 4, 5, 8]) else \"Fail\")"
   ]
  },
  {
   "cell_type": "markdown",
   "metadata": {
    "graffitiCellId": "id_1vhopm0"
   },
   "source": [
    "<span class=\"graffiti-highlight graffiti-id_1vhopm0-id_p1rrwsl\"><i></i><button>Show Solution</button></span>"
   ]
  },
  {
   "cell_type": "markdown",
   "metadata": {
    "graffitiCellId": "id_syirswf"
   },
   "source": [
    "Computational complexity is $O(N^2)$ where N is the length of the integer array. One insert is $O(M)$ where $M$ is the length of the existing linked list. As the list grows, the time complexity of inserting grows. It's something like $1 + 2 + 3 + 4 + \\cdots + N$.\n",
    "\n",
    "$$\n",
    "1 + 2 + 3 + 4 + \\cdots + N = \\sum_n^N n = \\frac{N(N+1)}{2}\n",
    "$$\n",
    "\n",
    "Then our time complexity for sorting itself is $O(N^2)$.  Converting from the linked list to an array is $O(N)$. Combined this is $O(N^2 + N) = O(N^2)$. Sorting algorithms such as quicksort and mergesort (which we'll look at later) are $N \\log N$, so this algorithm is slower."
   ]
  },
  {
   "cell_type": "code",
   "execution_count": null,
   "metadata": {
    "graffitiCellId": "id_6fguts2"
   },
   "outputs": [],
   "source": []
  }
 ],
 "metadata": {
  "graffiti": {
   "firstAuthorId": "10694620118",
   "id": "id_r353lsv",
   "language": "EN"
  },
  "kernelspec": {
   "display_name": "Python 3",
   "language": "python",
   "name": "python3"
  },
  "language_info": {
   "codemirror_mode": {
    "name": "ipython",
    "version": 3
   },
   "file_extension": ".py",
   "mimetype": "text/x-python",
   "name": "python",
   "nbconvert_exporter": "python",
   "pygments_lexer": "ipython3",
   "version": "3.6.3"
  }
 },
 "nbformat": 4,
 "nbformat_minor": 2
}
