{
 "cells": [
  {
   "cell_type": "markdown",
   "metadata": {
    "graffitiCellId": "id_m7du2yn"
   },
   "source": [
    "\n",
    "*Let us solve a problem that we solved previously in the last lesson without using recursion. It will make you realize that recursion can make our code look simpler.*\n",
    "\n",
    "### Problem Statement\n",
    "You are given a non-negative number in the form of list elements. For example, the number `123` would be provided as `arr = [1, 2, 3]`. Add one to the number and return the output in the form of a new list. \n",
    "\n",
    "**Example 1:**\n",
    "* `input = [1, 2, 3]`\n",
    "* `output = [1, 2, 4]`\n",
    "\n",
    "**Example 2:**\n",
    "* `input = [1, 2, 9]`\n",
    "* `output = [1, 3, 0]`\n",
    "\n",
    "**Example 3:**\n",
    "* `input = [9, 9, 9]`\n",
    "* `output = [1, 0, 0, 0]`\n",
    "\n",
    "### Exercise - Write the RECURSIVE function definition here"
   ]
  },
  {
   "cell_type": "code",
   "execution_count": 4,
   "metadata": {
    "graffitiCellId": "id_c3itdzc",
    "ExecuteTime": {
     "end_time": "2023-10-28T06:28:24.248312600Z",
     "start_time": "2023-10-28T06:28:24.207709400Z"
    }
   },
   "outputs": [],
   "source": [
    "def add_one(arr: list, n=1):\n",
    "    \"\"\"\n",
    "    :param: arr - list of digits representing some number x\n",
    "    return a list with digits represent int (x + 1)\n",
    "    倒序遍历。\n",
    "    base: 当前数字 + 1  % 10 == 0\n",
    "    reverse条件: 索引 - 1\n",
    "    \n",
    "    优化参考下方答案\n",
    "    \"\"\"\n",
    "    if len(arr) == 0:\n",
    "        return arr\n",
    "\n",
    "    last_element: int = arr[-1] + n\n",
    "    borrow = last_element // 10\n",
    "    remainder = last_element % 10\n",
    "    if borrow == 1:\n",
    "        arr[-1] = remainder\n",
    "        sub_arr = arr[:-1]\n",
    "        # 处理index = 0 为9需要进位的情况\n",
    "        if len(sub_arr) == 0:\n",
    "            return [borrow] + arr\n",
    "        return add_one(sub_arr)\n",
    "    else:\n",
    "        arr[-1] = remainder\n",
    "        return arr"
   ]
  },
  {
   "cell_type": "markdown",
   "metadata": {
    "graffitiCellId": "id_isswxel"
   },
   "source": [
    "<span class=\"graffiti-highlight graffiti-id_isswxel-id_r39lv1k\"><i></i><button>Show Solution</button></span>"
   ]
  },
  {
   "cell_type": "markdown",
   "source": [
    "# Solution"
   ],
   "metadata": {
    "collapsed": false
   }
  },
  {
   "cell_type": "code",
   "execution_count": null,
   "outputs": [],
   "source": [
    "def add_one(arr):\n",
    "    \"\"\"\n",
    "    :param: arr - list of digits representing some number x\n",
    "    return a list with digits represengint (x + 1)\n",
    "    \"\"\"\n",
    "    # 遍历到 index = 0, 且该位置数字为9\n",
    "    if arr == [9]:\n",
    "        return [1, 0]\n",
    "    \n",
    "    # 最后一个数<9\n",
    "    if arr[-1] < 9:\n",
    "        arr[-1] += 1\n",
    "    # 最后一个数是9\n",
    "    else:\n",
    "        arr = add_one(arr[:-1]) + [0]\n",
    "        \n",
    "    return arr"
   ],
   "metadata": {
    "collapsed": false
   }
  },
  {
   "cell_type": "markdown",
   "metadata": {
    "graffitiCellId": "id_okc7e08"
   },
   "source": [
    "### Test - Let's test your function"
   ]
  },
  {
   "cell_type": "code",
   "execution_count": 5,
   "metadata": {
    "graffitiCellId": "id_ejl0gzn",
    "ExecuteTime": {
     "end_time": "2023-10-28T06:28:26.078730600Z",
     "start_time": "2023-10-28T06:28:26.070688700Z"
    }
   },
   "outputs": [],
   "source": [
    "# A helper function for Test Cases\n",
    "def test_function(test_case):\n",
    "    arr = test_case[0]\n",
    "    solution = test_case[1]\n",
    "\n",
    "    output = add_one(arr)\n",
    "    for index, element in enumerate(output):\n",
    "        if element != solution[index]:\n",
    "            print(\"Fail\")\n",
    "            return\n",
    "    print(\"Pass\")"
   ]
  },
  {
   "cell_type": "code",
   "execution_count": 6,
   "metadata": {
    "graffitiCellId": "id_r171xpy",
    "ExecuteTime": {
     "end_time": "2023-10-28T06:28:26.990141200Z",
     "start_time": "2023-10-28T06:28:26.964083400Z"
    }
   },
   "outputs": [
    {
     "name": "stdout",
     "output_type": "stream",
     "text": [
      "Pass\n"
     ]
    }
   ],
   "source": [
    "# Test Case 1\n",
    "arr = [0]\n",
    "solution = [1]\n",
    "test_case = [arr, solution]\n",
    "test_function(test_case)"
   ]
  },
  {
   "cell_type": "code",
   "execution_count": 7,
   "metadata": {
    "graffitiCellId": "id_hxtikz2",
    "ExecuteTime": {
     "end_time": "2023-10-28T06:28:29.120654400Z",
     "start_time": "2023-10-28T06:28:29.092583Z"
    }
   },
   "outputs": [
    {
     "name": "stdout",
     "output_type": "stream",
     "text": [
      "Pass\n"
     ]
    }
   ],
   "source": [
    "# Test Case 2\n",
    "arr = [1, 2, 3]\n",
    "solution = [1, 2, 4]\n",
    "test_case = [arr, solution]\n",
    "test_function(test_case)"
   ]
  },
  {
   "cell_type": "code",
   "execution_count": 8,
   "metadata": {
    "graffitiCellId": "id_ov2b5hw",
    "ExecuteTime": {
     "end_time": "2023-10-28T06:28:36.164083500Z",
     "start_time": "2023-10-28T06:28:36.149954500Z"
    }
   },
   "outputs": [
    {
     "name": "stdout",
     "output_type": "stream",
     "text": [
      "Pass\n"
     ]
    }
   ],
   "source": [
    "# Test Case 3\n",
    "arr = [9, 9, 9]\n",
    "solution = [1, 0, 0, 0]\n",
    "test_case = [arr, solution]\n",
    "test_function(test_case)"
   ]
  },
  {
   "cell_type": "code",
   "execution_count": null,
   "outputs": [],
   "source": [],
   "metadata": {
    "collapsed": false
   }
  }
 ],
 "metadata": {
  "graffiti": {
   "firstAuthorId": "dev",
   "id": "id_s3vt1b9",
   "language": "EN"
  },
  "kernelspec": {
   "display_name": "Python 3",
   "language": "python",
   "name": "python3"
  },
  "language_info": {
   "codemirror_mode": {
    "name": "ipython",
    "version": 3
   },
   "file_extension": ".py",
   "mimetype": "text/x-python",
   "name": "python",
   "nbconvert_exporter": "python",
   "pygments_lexer": "ipython3",
   "version": "3.6.3"
  }
 },
 "nbformat": 4,
 "nbformat_minor": 2
}
