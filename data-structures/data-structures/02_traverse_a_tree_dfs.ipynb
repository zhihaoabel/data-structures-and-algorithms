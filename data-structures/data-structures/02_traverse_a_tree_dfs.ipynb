{
 "cells": [
  {
   "cell_type": "markdown",
   "metadata": {},
   "source": [
    "## Traverse a tree (depth first search)\n",
    "\n",
    "Traversing a tree means \"visiting\" all the nodes in the tree once.  Unlike an array or linked list, there's more than one way to walk through a tree, starting from the root node.  \n",
    "\n",
    "Traversing a tree is helpful for printing out all the values stored in the tree, as well as searching for a value in a tree, inserting into or deleting values from the tree.  There's depth first search and breadth first search.\n",
    "\n",
    "Depth first search has 3 types: pre-order, in-order, and post-order.  \n",
    "\n",
    "Let's walk through pre-order traversal by hand first, and then try it out in code."
   ]
  },
  {
   "cell_type": "markdown",
   "metadata": {},
   "source": [
    "## Creating a sample tree\n",
    "\n",
    "We'll create a tree that looks like the following:"
   ]
  },
  {
   "cell_type": "markdown",
   "metadata": {},
   "source": [
    "![tree image](images/tree_01.png \"Tree\")"
   ]
  },
  {
   "cell_type": "code",
   "execution_count": 3,
   "metadata": {
    "ExecuteTime": {
     "end_time": "2023-11-26T13:04:20.002715100Z",
     "start_time": "2023-11-26T13:04:19.989194900Z"
    }
   },
   "outputs": [],
   "source": [
    "# this code makes the tree that we'll traverse\n",
    "\n",
    "class Node(object):\n",
    "\n",
    "    def __init__(self, value=None):\n",
    "        self.value = value\n",
    "        self.left = None\n",
    "        self.right = None\n",
    "\n",
    "    # set value of the node\n",
    "    def set_value(self, value):\n",
    "        self.value = value\n",
    "\n",
    "    # get value of the node\n",
    "    def get_value(self):\n",
    "        return self.value\n",
    "\n",
    "    # set a node for the left child\n",
    "    def set_left_child(self, left):\n",
    "        self.left = left\n",
    "\n",
    "    # set a node for the right child\n",
    "    def set_right_child(self, right):\n",
    "        self.right = right\n",
    "\n",
    "    # get the node of left child\n",
    "    def get_left_child(self):\n",
    "        return self.left\n",
    "\n",
    "    # get the node of right child\n",
    "    def get_right_child(self):\n",
    "        return self.right\n",
    "\n",
    "    # check if node has left child -> return boolean\n",
    "    def has_left_child(self):\n",
    "        return self.left is not None\n",
    "\n",
    "    # check if node has right child -> return boolean\n",
    "    def has_right_child(self):\n",
    "        return self.right is not None\n",
    "\n",
    "    # define __repr_ to decide what a print statement displays for a Node object\n",
    "    def __repr__(self):\n",
    "        return f\"Node({self.get_value()})\"\n",
    "\n",
    "    def __str__(self):\n",
    "        return f\"Node({self.get_value()})\"\n",
    "\n",
    "\n",
    "class Tree():\n",
    "    def __init__(self, value=None):\n",
    "        self.root = Node(value)\n",
    "\n",
    "    def get_root(self):\n",
    "        return self.root"
   ]
  },
  {
   "cell_type": "code",
   "execution_count": 4,
   "metadata": {
    "ExecuteTime": {
     "end_time": "2023-11-26T13:04:23.260965100Z",
     "start_time": "2023-11-26T13:04:23.247447700Z"
    }
   },
   "outputs": [],
   "source": [
    "# create a tree and add some nodes\n",
    "tree = Tree(\"apple\")  # root node\n",
    "\n",
    "# set first level's left child\n",
    "tree.get_root().set_left_child(Node(\"banana\"))\n",
    "\n",
    "# set first level's right child\n",
    "tree.get_root().set_right_child(Node(\"cherry\"))\n",
    "\n",
    "# set second level's left child \n",
    "# by getting the first level's left child first\n",
    "tree.get_root().get_left_child().set_left_child(Node(\"dates\"))"
   ]
  },
  {
   "cell_type": "markdown",
   "metadata": {},
   "source": [
    "## Depth first, pre-order traversal with a stack\n",
    "pre-order traversal of the tree would visit the nodes in this order:  \n",
    "\n",
    "![tree image](images/tree_01.png \"Tree\")\n",
    "\n",
    "apple, banana, dates, cherry"
   ]
  },
  {
   "cell_type": "markdown",
   "metadata": {},
   "source": [
    "#### Stack\n",
    "\n",
    "Notice how we're retracing our steps.  It's like we are hiking on a trail, and trying to retrace our steps on the way back.  This is an indication that we should use a **stack**.\n"
   ]
  },
  {
   "cell_type": "code",
   "execution_count": 6,
   "metadata": {
    "ExecuteTime": {
     "end_time": "2023-11-19T07:23:45.093976Z",
     "start_time": "2023-11-19T07:23:45.080465700Z"
    }
   },
   "outputs": [],
   "source": [
    "# Let's define a stack to help keep track of the tree nodes\n",
    "class Stack():\n",
    "    def __init__(self):\n",
    "        self.list = list()\n",
    "\n",
    "    # add an element to the list\n",
    "    def push(self, value):\n",
    "        self.list.append(value)\n",
    "\n",
    "    # remove the last element from the list\n",
    "    def pop(self):\n",
    "        return self.list.pop()\n",
    "\n",
    "    # get the value of the last element in the list\n",
    "    def top(self):\n",
    "        if len(self.list) > 0:\n",
    "            return self.list[-1]\n",
    "        else:\n",
    "            return None\n",
    "\n",
    "    # check if the list empty\n",
    "    def is_empty(self):\n",
    "        return len(self.list) == 0\n",
    "\n",
    "    # \n",
    "    def __repr__(self):\n",
    "        if len(self.list) > 0:\n",
    "            s = \"<top of stack>\\n_________________\\n\"\n",
    "            s += \"\\n_________________\\n\".join([str(item) for item in self.list[::-1]])\n",
    "            s += \"\\n_________________\\n<bottom of stack>\"\n",
    "            return s\n",
    "\n",
    "        else:\n",
    "            return \"<stack is empty>\""
   ]
  },
  {
   "cell_type": "code",
   "execution_count": 7,
   "metadata": {
    "ExecuteTime": {
     "end_time": "2023-11-19T07:23:45.727274600Z",
     "start_time": "2023-11-19T07:23:45.699429700Z"
    }
   },
   "outputs": [
    {
     "name": "stdout",
     "output_type": "stream",
     "text": [
      "dates\n",
      "\n",
      "\n",
      "<top of stack>\n",
      "_________________\n",
      "cherry\n",
      "_________________\n",
      "banana\n",
      "_________________\n",
      "apple\n",
      "_________________\n",
      "<bottom of stack>\n"
     ]
    }
   ],
   "source": [
    "# instantiate Stack\n",
    "stack = Stack()\n",
    "# add elements into the stack\n",
    "stack.push(\"apple\")\n",
    "stack.push(\"banana\")\n",
    "stack.push(\"cherry\")\n",
    "stack.push(\"dates\")\n",
    "# remove and print the last element (top of the stack)\n",
    "print(stack.pop())\n",
    "print(\"\\n\")\n",
    "print(stack)"
   ]
  },
  {
   "cell_type": "markdown",
   "metadata": {},
   "source": [
    "## Walk through the steps with code\n",
    "\n",
    "We're going to translate what we're doing by hand into code, one step at a time.  This will help us check if our code is doing what we expect it to do.\n",
    "\n",
    "![tree image](images/tree_01.png \"Tree\")"
   ]
  },
  {
   "cell_type": "code",
   "execution_count": 8,
   "metadata": {
    "ExecuteTime": {
     "end_time": "2023-11-19T07:23:48.929322800Z",
     "start_time": "2023-11-19T07:23:48.902772400Z"
    }
   },
   "outputs": [
    {
     "name": "stdout",
     "output_type": "stream",
     "text": [
      "\n",
      "visit_order [] \n",
      "stack:\n",
      "<top of stack>\n",
      "_________________\n",
      "Node(apple)\n",
      "_________________\n",
      "<bottom of stack>\n"
     ]
    }
   ],
   "source": [
    "visit_order = list()\n",
    "stack = Stack()\n",
    "\n",
    "# start at the root node, visit it and then add it to the stack\n",
    "node = tree.get_root()\n",
    "stack.push(node)\n",
    "\n",
    "print(f\"\"\"\n",
    "visit_order {visit_order} \n",
    "stack:\n",
    "{stack}\n",
    "\"\"\")"
   ]
  },
  {
   "cell_type": "code",
   "execution_count": 9,
   "metadata": {
    "ExecuteTime": {
     "end_time": "2023-11-19T07:24:28.397631600Z",
     "start_time": "2023-11-19T07:24:28.366247300Z"
    }
   },
   "outputs": [
    {
     "name": "stdout",
     "output_type": "stream",
     "text": [
      "visit order ['apple']\n",
      "<top of stack>\n",
      "_________________\n",
      "Node(apple)\n",
      "_________________\n",
      "<bottom of stack>\n"
     ]
    }
   ],
   "source": [
    "# visit apple (root)\n",
    "visit_order.append(node.get_value())\n",
    "print(f\"\"\"visit order {visit_order}\n",
    "{stack}\n",
    "\"\"\")"
   ]
  },
  {
   "cell_type": "code",
   "execution_count": 10,
   "metadata": {
    "ExecuteTime": {
     "end_time": "2023-11-19T07:25:38.516130600Z",
     "start_time": "2023-11-19T07:25:38.486114Z"
    }
   },
   "outputs": [
    {
     "name": "stdout",
     "output_type": "stream",
     "text": [
      "Node(apple) has left child? True\n",
      "\n",
      "visit_order ['apple'] \n",
      "stack:\n",
      "<top of stack>\n",
      "_________________\n",
      "Node(banana)\n",
      "_________________\n",
      "Node(apple)\n",
      "_________________\n",
      "<bottom of stack>\n"
     ]
    }
   ],
   "source": [
    "# check if apple (root) has a left child\n",
    "print(f\"{node} has left child? {node.has_left_child()}\")\n",
    "\n",
    "# since apple has a left child (banana)\n",
    "# we'll visit banana and add it to the stack\n",
    "if node.has_left_child():\n",
    "    node = node.get_left_child()\n",
    "    stack.push(node)\n",
    "\n",
    "print(f\"\"\"\n",
    "visit_order {visit_order} \n",
    "stack:\n",
    "{stack}\n",
    "\"\"\")"
   ]
  },
  {
   "cell_type": "code",
   "execution_count": 11,
   "metadata": {
    "ExecuteTime": {
     "end_time": "2023-11-19T12:54:17.637623200Z",
     "start_time": "2023-11-19T12:54:17.634623100Z"
    }
   },
   "outputs": [
    {
     "name": "stdout",
     "output_type": "stream",
     "text": [
      "visit Node(banana)\n",
      "visit_order ['apple', 'banana']\n"
     ]
    }
   ],
   "source": [
    "# visit banana (first level's left child)\n",
    "print(f\"visit {node}\")\n",
    "visit_order.append(node.get_value())\n",
    "print(f\"\"\"visit_order {visit_order}\"\"\")"
   ]
  },
  {
   "cell_type": "code",
   "execution_count": 12,
   "metadata": {
    "ExecuteTime": {
     "end_time": "2023-11-19T12:54:21.131526200Z",
     "start_time": "2023-11-19T12:54:21.067507500Z"
    }
   },
   "outputs": [
    {
     "name": "stdout",
     "output_type": "stream",
     "text": [
      "Node(banana) has left child? True\n",
      "\n",
      "visit_order ['apple', 'banana'] \n",
      "stack:\n",
      "<top of stack>\n",
      "_________________\n",
      "Node(dates)\n",
      "_________________\n",
      "Node(banana)\n",
      "_________________\n",
      "Node(apple)\n",
      "_________________\n",
      "<bottom of stack>\n"
     ]
    }
   ],
   "source": [
    "# check if banana has a left child (second level's left chile)\n",
    "print(f\"{node} has left child? {node.has_left_child()}\")\n",
    "\n",
    "# since banana has a left child \"dates\"\n",
    "# we'll visit \"dates\" and add it to the stack\n",
    "if node.has_left_child():\n",
    "    node = node.get_left_child()\n",
    "    stack.push(node)\n",
    "\n",
    "print(f\"\"\"\n",
    "visit_order {visit_order} \n",
    "stack:\n",
    "{stack}\n",
    "\"\"\")"
   ]
  },
  {
   "cell_type": "code",
   "execution_count": 13,
   "metadata": {
    "ExecuteTime": {
     "end_time": "2023-11-19T14:36:35.659051700Z",
     "start_time": "2023-11-19T14:36:35.647534Z"
    }
   },
   "outputs": [
    {
     "name": "stdout",
     "output_type": "stream",
     "text": [
      "visit order ['apple', 'banana', 'dates']\n"
     ]
    }
   ],
   "source": [
    "# visit dates (second level's left chile)\n",
    "visit_order.append(node.get_value())\n",
    "print(f\"visit order {visit_order}\")"
   ]
  },
  {
   "cell_type": "code",
   "execution_count": 14,
   "metadata": {
    "ExecuteTime": {
     "end_time": "2023-11-19T14:36:42.107583500Z",
     "start_time": "2023-11-19T14:36:42.082996Z"
    }
   },
   "outputs": [
    {
     "name": "stdout",
     "output_type": "stream",
     "text": [
      "Node(dates) has left child? False\n"
     ]
    }
   ],
   "source": [
    "# check if \"dates\" has a left child -> return boolean value\n",
    "print(f\"{node} has left child? {node.has_left_child()}\")"
   ]
  },
  {
   "cell_type": "code",
   "execution_count": 15,
   "metadata": {
    "ExecuteTime": {
     "end_time": "2023-11-19T14:36:48.596845600Z",
     "start_time": "2023-11-19T14:36:48.571276300Z"
    }
   },
   "outputs": [
    {
     "name": "stdout",
     "output_type": "stream",
     "text": [
      "Node(dates) has right child? False\n"
     ]
    }
   ],
   "source": [
    "# since dates doesn't have a left child, we'll check if it has a right child\n",
    "print(f\"{node} has right child? {node.has_right_child()}\")"
   ]
  },
  {
   "cell_type": "code",
   "execution_count": 16,
   "metadata": {
    "ExecuteTime": {
     "end_time": "2023-11-19T14:37:02.831493400Z",
     "start_time": "2023-11-19T14:37:02.802296900Z"
    }
   },
   "outputs": [
    {
     "name": "stdout",
     "output_type": "stream",
     "text": [
      "Node(dates)\n"
     ]
    }
   ],
   "source": [
    "# since \"dates\" is a leaf node (has no children), we can start to retrace our steps\n",
    "# in other words, we can pop it off the stack.\n",
    "print(stack.pop())"
   ]
  },
  {
   "cell_type": "code",
   "execution_count": 17,
   "metadata": {
    "ExecuteTime": {
     "end_time": "2023-11-19T14:37:04.556351900Z",
     "start_time": "2023-11-19T14:37:04.529618900Z"
    }
   },
   "outputs": [
    {
     "name": "stdout",
     "output_type": "stream",
     "text": [
      "<top of stack>\n",
      "_________________\n",
      "Node(banana)\n",
      "_________________\n",
      "Node(apple)\n",
      "_________________\n",
      "<bottom of stack>\n"
     ]
    }
   ],
   "source": [
    "print(stack)"
   ]
  },
  {
   "cell_type": "code",
   "execution_count": 18,
   "metadata": {
    "ExecuteTime": {
     "end_time": "2023-11-19T15:35:13.893553100Z",
     "start_time": "2023-11-19T15:35:13.863382900Z"
    }
   },
   "outputs": [
    {
     "name": "stdout",
     "output_type": "stream",
     "text": [
      "Node(banana)\n"
     ]
    }
   ],
   "source": [
    "# now we'll set the node to the new top of the stack, which is banana\n",
    "node = stack.top()\n",
    "print(node)"
   ]
  },
  {
   "cell_type": "code",
   "execution_count": 19,
   "metadata": {
    "ExecuteTime": {
     "end_time": "2023-11-19T15:35:17.375341100Z",
     "start_time": "2023-11-19T15:35:17.347803900Z"
    }
   },
   "outputs": [
    {
     "name": "stdout",
     "output_type": "stream",
     "text": [
      "Node(banana) has right child? False\n"
     ]
    }
   ],
   "source": [
    "# we already checked for banana's left child, so we'll check for its right child\n",
    "print(f\"{node} has right child? {node.has_right_child()}\")"
   ]
  },
  {
   "cell_type": "code",
   "execution_count": 20,
   "metadata": {
    "ExecuteTime": {
     "end_time": "2023-11-19T15:35:21.695101700Z",
     "start_time": "2023-11-19T15:35:21.666120600Z"
    }
   },
   "outputs": [
    {
     "name": "stdout",
     "output_type": "stream",
     "text": [
      "pop Node(banana) off stack\n",
      "\n",
      "stack\n",
      "<top of stack>\n",
      "_________________\n",
      "Node(apple)\n",
      "_________________\n",
      "<bottom of stack>\n"
     ]
    }
   ],
   "source": [
    "# banana doesn't have a right child, so we're also done tracking it.\n",
    "# so we can pop banana off the stack\n",
    "print(f\"pop {stack.pop()} off stack\")\n",
    "print(f\"\"\"\n",
    "stack\n",
    "{stack}\n",
    "\"\"\")"
   ]
  },
  {
   "cell_type": "code",
   "execution_count": 21,
   "metadata": {
    "ExecuteTime": {
     "end_time": "2023-11-19T15:42:01.808261Z",
     "start_time": "2023-11-19T15:42:01.785680700Z"
    }
   },
   "outputs": [
    {
     "name": "stdout",
     "output_type": "stream",
     "text": [
      "Node(apple)\n"
     ]
    }
   ],
   "source": [
    "# now we'll track the new top of the stack, which is apple\n",
    "node = stack.top()\n",
    "print(node)"
   ]
  },
  {
   "cell_type": "code",
   "execution_count": 22,
   "metadata": {
    "ExecuteTime": {
     "end_time": "2023-11-19T15:42:03.235840800Z",
     "start_time": "2023-11-19T15:42:03.214773300Z"
    }
   },
   "outputs": [
    {
     "name": "stdout",
     "output_type": "stream",
     "text": [
      "Node(apple) has right child? True\n"
     ]
    }
   ],
   "source": [
    "# we've already checked if apple has a left child; we'll check if it has a right child\n",
    "print(f\"{node} has right child? {node.has_right_child()}\")"
   ]
  },
  {
   "cell_type": "code",
   "execution_count": 23,
   "metadata": {
    "ExecuteTime": {
     "end_time": "2023-11-19T15:42:23.853496Z",
     "start_time": "2023-11-19T15:42:23.821858800Z"
    }
   },
   "outputs": [
    {
     "name": "stdout",
     "output_type": "stream",
     "text": [
      "\n",
      "visit_order ['apple', 'banana', 'dates'] \n",
      "stack\n",
      "<top of stack>\n",
      "_________________\n",
      "Node(cherry)\n",
      "_________________\n",
      "Node(apple)\n",
      "_________________\n",
      "<bottom of stack>\n"
     ]
    }
   ],
   "source": [
    "# since it has a right child (cherry), \n",
    "# we'll visit cherry and add it to the stack.\n",
    "if node.has_right_child():\n",
    "    node = node.get_right_child()\n",
    "    stack.push(node)\n",
    "\n",
    "print(f\"\"\"\n",
    "visit_order {visit_order} \n",
    "stack\n",
    "{stack}\n",
    "\"\"\")"
   ]
  },
  {
   "cell_type": "code",
   "execution_count": 24,
   "metadata": {
    "ExecuteTime": {
     "end_time": "2023-11-19T15:42:58.246427100Z",
     "start_time": "2023-11-19T15:42:58.235915300Z"
    }
   },
   "outputs": [
    {
     "name": "stdout",
     "output_type": "stream",
     "text": [
      "visit Node(cherry)\n",
      "visit_order: ['apple', 'banana', 'dates', 'cherry']\n"
     ]
    }
   ],
   "source": [
    "# visit cherry (first level's right child)\n",
    "print(f\"visit {node}\")\n",
    "visit_order.append(node.get_value())\n",
    "print(f\"\"\"visit_order: {visit_order}\"\"\")"
   ]
  },
  {
   "cell_type": "code",
   "execution_count": 25,
   "metadata": {
    "ExecuteTime": {
     "end_time": "2023-11-19T15:43:14.659439Z",
     "start_time": "2023-11-19T15:43:14.633571600Z"
    }
   },
   "outputs": [
    {
     "name": "stdout",
     "output_type": "stream",
     "text": [
      "Node(cherry) has left child? False\n",
      "Node(cherry) has right child? False\n"
     ]
    }
   ],
   "source": [
    "# Now we'll check if cherry (first level's right child) has a left child\n",
    "print(f\"{node} has left child? {node.has_left_child()}\")\n",
    "\n",
    "# it doesn't, so we'll check if it has a right child\n",
    "print(f\"{node} has right child? {node.has_right_child()}\")"
   ]
  },
  {
   "cell_type": "code",
   "execution_count": 26,
   "metadata": {
    "ExecuteTime": {
     "end_time": "2023-11-19T15:43:25.383835Z",
     "start_time": "2023-11-19T15:43:25.349239300Z"
    }
   },
   "outputs": [
    {
     "name": "stdout",
     "output_type": "stream",
     "text": [
      "pop Node(cherry) off the stack\n",
      "\n",
      "visit_order ['apple', 'banana', 'dates', 'cherry'] \n",
      "stack\n",
      "<top of stack>\n",
      "_________________\n",
      "Node(apple)\n",
      "_________________\n",
      "<bottom of stack>\n"
     ]
    }
   ],
   "source": [
    "# since cherry has neither left nor right child nodes,\n",
    "# we are done tracking it, and can pop it off the stack\n",
    "\n",
    "print(f\"pop {stack.pop()} off the stack\")\n",
    "\n",
    "print(f\"\"\"\n",
    "visit_order {visit_order} \n",
    "stack\n",
    "{stack}\n",
    "\"\"\")"
   ]
  },
  {
   "cell_type": "code",
   "execution_count": 27,
   "metadata": {
    "ExecuteTime": {
     "end_time": "2023-11-19T15:44:11.446841500Z",
     "start_time": "2023-11-19T15:44:11.430234300Z"
    }
   },
   "outputs": [
    {
     "name": "stdout",
     "output_type": "stream",
     "text": [
      "pop Node(apple) off stack\n",
      "pre-order traversal visited nodes in this order: ['apple', 'banana', 'dates', 'cherry']\n"
     ]
    }
   ],
   "source": [
    "# now we're back to apple at the top of the stack.\n",
    "# since we've already checked apple's left and right child nodes,\n",
    "# we can pop apple off the stack\n",
    "\n",
    "print(f\"pop {stack.pop()} off stack\")\n",
    "print(f\"pre-order traversal visited nodes in this order: {visit_order}\")"
   ]
  },
  {
   "cell_type": "code",
   "execution_count": 28,
   "metadata": {
    "ExecuteTime": {
     "end_time": "2023-11-19T15:44:22.680501300Z",
     "start_time": "2023-11-19T15:44:22.663977300Z"
    }
   },
   "outputs": [
    {
     "name": "stdout",
     "output_type": "stream",
     "text": [
      "stack\n",
      "<stack is empty>\n"
     ]
    }
   ],
   "source": [
    "print(f\"\"\"stack\n",
    "{stack}\"\"\")"
   ]
  },
  {
   "cell_type": "markdown",
   "metadata": {},
   "source": [
    "## pre-order traversal using a stack (something's missing)\n",
    "\n",
    "Here is some code that has an error, so it will have an infinite loop.  There is a counter to make the loop stop so that it doesn't run forever."
   ]
  },
  {
   "cell_type": "code",
   "execution_count": 46,
   "metadata": {
    "ExecuteTime": {
     "end_time": "2023-11-19T16:47:26.547429Z",
     "start_time": "2023-11-19T16:47:26.534194400Z"
    }
   },
   "outputs": [],
   "source": [
    "def pre_order_with_stack_buggy(tree):\n",
    "    visit_order = list()\n",
    "    stack = Stack()\n",
    "    node = tree.get_root()\n",
    "    stack.push(node)\n",
    "    node = stack.top()\n",
    "    visit_order.append(node.get_value())\n",
    "    count = 0\n",
    "    loop_limit = 7\n",
    "    while node and count < loop_limit:\n",
    "        print(f\"\"\"\n",
    "loop count: {count}\n",
    "current node: {node}\n",
    "stack:\n",
    "{stack}\n",
    "        \"\"\")\n",
    "        count += 1\n",
    "        if node.has_left_child():\n",
    "            node = node.get_left_child()\n",
    "            stack.push(node)\n",
    "            # using top() is redundant, but added for clarity\n",
    "            node = stack.top()\n",
    "            visit_order.append(node.get_value())\n",
    "\n",
    "        elif node.has_right_child():\n",
    "            node = node.get_right_child()\n",
    "            stack.push(node)\n",
    "            node = stack.top()\n",
    "            visit_order.append(node.get_value())\n",
    "\n",
    "        else:\n",
    "            stack.pop()\n",
    "            if not stack.is_empty():\n",
    "                node = stack.top()\n",
    "            else:\n",
    "                node = None\n",
    "\n",
    "    return visit_order"
   ]
  },
  {
   "cell_type": "code",
   "execution_count": 47,
   "metadata": {
    "ExecuteTime": {
     "end_time": "2023-11-19T16:47:27.643007600Z",
     "start_time": "2023-11-19T16:47:27.624490500Z"
    }
   },
   "outputs": [
    {
     "name": "stdout",
     "output_type": "stream",
     "text": [
      "\n",
      "loop count: 0\n",
      "current node: Node(apple)\n",
      "stack:\n",
      "<top of stack>\n",
      "_________________\n",
      "Node(apple)\n",
      "_________________\n",
      "<bottom of stack>\n",
      "        \n",
      "\n",
      "loop count: 1\n",
      "current node: Node(banana)\n",
      "stack:\n",
      "<top of stack>\n",
      "_________________\n",
      "Node(banana)\n",
      "_________________\n",
      "Node(apple)\n",
      "_________________\n",
      "<bottom of stack>\n",
      "        \n",
      "\n",
      "loop count: 2\n",
      "current node: Node(dates)\n",
      "stack:\n",
      "<top of stack>\n",
      "_________________\n",
      "Node(dates)\n",
      "_________________\n",
      "Node(banana)\n",
      "_________________\n",
      "Node(apple)\n",
      "_________________\n",
      "<bottom of stack>\n",
      "        \n",
      "\n",
      "loop count: 3\n",
      "current node: Node(banana)\n",
      "stack:\n",
      "<top of stack>\n",
      "_________________\n",
      "Node(banana)\n",
      "_________________\n",
      "Node(apple)\n",
      "_________________\n",
      "<bottom of stack>\n",
      "        \n",
      "\n",
      "loop count: 4\n",
      "current node: Node(dates)\n",
      "stack:\n",
      "<top of stack>\n",
      "_________________\n",
      "Node(dates)\n",
      "_________________\n",
      "Node(banana)\n",
      "_________________\n",
      "Node(apple)\n",
      "_________________\n",
      "<bottom of stack>\n",
      "        \n",
      "\n",
      "loop count: 5\n",
      "current node: Node(banana)\n",
      "stack:\n",
      "<top of stack>\n",
      "_________________\n",
      "Node(banana)\n",
      "_________________\n",
      "Node(apple)\n",
      "_________________\n",
      "<bottom of stack>\n",
      "        \n",
      "\n",
      "loop count: 6\n",
      "current node: Node(dates)\n",
      "stack:\n",
      "<top of stack>\n",
      "_________________\n",
      "Node(dates)\n",
      "_________________\n",
      "Node(banana)\n",
      "_________________\n",
      "Node(apple)\n",
      "_________________\n",
      "<bottom of stack>\n",
      "        \n"
     ]
    },
    {
     "data": {
      "text/plain": "['apple', 'banana', 'dates', 'dates', 'dates']"
     },
     "execution_count": 47,
     "metadata": {},
     "output_type": "execute_result"
    }
   ],
   "source": [
    "pre_order_with_stack_buggy(tree)"
   ]
  },
  {
   "cell_type": "code",
   "execution_count": 47,
   "metadata": {
    "ExecuteTime": {
     "end_time": "2023-11-19T16:47:30.468088800Z",
     "start_time": "2023-11-19T16:47:30.450333200Z"
    }
   },
   "outputs": [],
   "source": []
  },
  {
   "cell_type": "markdown",
   "metadata": {},
   "source": [
    "## pre-order traversal using a stack, tracking state\n",
    "\n",
    "Here's how we implement DFS with a stack, where we also track whether we've already visited the left or right child of the node."
   ]
  },
  {
   "cell_type": "code",
   "execution_count": 48,
   "metadata": {
    "ExecuteTime": {
     "end_time": "2023-11-19T16:47:31.501163300Z",
     "start_time": "2023-11-19T16:47:31.485118400Z"
    }
   },
   "outputs": [],
   "source": [
    "class State(object):\n",
    "    def __init__(self, node):\n",
    "        self.node = node\n",
    "        self.visited_left = False\n",
    "        self.visited_right = False\n",
    "\n",
    "    def get_node(self):\n",
    "        return self.node\n",
    "\n",
    "    def get_visited_left(self):\n",
    "        return self.visited_left\n",
    "\n",
    "    def get_visited_right(self):\n",
    "        return self.visited_right\n",
    "\n",
    "    def set_visited_left(self):\n",
    "        self.visited_left = True\n",
    "\n",
    "    def set_visited_right(self):\n",
    "        self.visited_right = True\n",
    "\n",
    "    def __repr__(self):\n",
    "        s = f\"\"\"{self.node}\n",
    "visited_left: {self.visited_left}\n",
    "visited_right: {self.visited_right}\n",
    "        \"\"\"\n",
    "        return s"
   ]
  },
  {
   "cell_type": "code",
   "execution_count": 49,
   "metadata": {
    "ExecuteTime": {
     "end_time": "2023-11-19T16:47:32.814567400Z",
     "start_time": "2023-11-19T16:47:32.800547200Z"
    }
   },
   "outputs": [],
   "source": [
    "def pre_order_with_stack(tree, debug_mode=False):\n",
    "    visit_order = list()\n",
    "    stack = Stack()\n",
    "    node = tree.get_root()\n",
    "    visit_order.append(node.get_value())\n",
    "    state = State(node)\n",
    "    stack.push(state)\n",
    "    count = 0\n",
    "    while (node):\n",
    "        if debug_mode:\n",
    "            print(f\"\"\"\n",
    "loop count: {count}\n",
    "current node: {node}\n",
    "stack:\n",
    "{stack}\n",
    "            \"\"\")\n",
    "        count += 1\n",
    "        if node.has_left_child() and not state.get_visited_left():\n",
    "            state.set_visited_left()\n",
    "            node = node.get_left_child()\n",
    "            visit_order.append(node.get_value())\n",
    "            state = State(node)\n",
    "            stack.push(state)\n",
    "\n",
    "        elif node.has_right_child() and not state.get_visited_right():\n",
    "            state.set_visited_right()\n",
    "            node = node.get_right_child()\n",
    "            visit_order.append(node.get_value())\n",
    "            state = State(node)\n",
    "            stack.push(state)\n",
    "\n",
    "        else:\n",
    "            stack.pop()\n",
    "            if not stack.is_empty():\n",
    "                state = stack.top()\n",
    "                node = state.get_node()\n",
    "            else:\n",
    "                node = None\n",
    "\n",
    "    if debug_mode:\n",
    "        print(f\"\"\"\n",
    "loop count: {count}\n",
    "current node: {node}\n",
    "stack:\n",
    "{stack}\n",
    "            \"\"\")\n",
    "    return visit_order"
   ]
  },
  {
   "cell_type": "code",
   "execution_count": 50,
   "metadata": {
    "ExecuteTime": {
     "end_time": "2023-11-19T16:47:34.464005900Z",
     "start_time": "2023-11-19T16:47:34.442841800Z"
    }
   },
   "outputs": [
    {
     "name": "stdout",
     "output_type": "stream",
     "text": [
      "\n",
      "loop count: 0\n",
      "current node: Node(apple)\n",
      "stack:\n",
      "<top of stack>\n",
      "_________________\n",
      "Node(apple)\n",
      "visited_left: False\n",
      "visited_right: False\n",
      "        \n",
      "_________________\n",
      "<bottom of stack>\n",
      "            \n",
      "\n",
      "loop count: 1\n",
      "current node: Node(banana)\n",
      "stack:\n",
      "<top of stack>\n",
      "_________________\n",
      "Node(banana)\n",
      "visited_left: False\n",
      "visited_right: False\n",
      "        \n",
      "_________________\n",
      "Node(apple)\n",
      "visited_left: True\n",
      "visited_right: False\n",
      "        \n",
      "_________________\n",
      "<bottom of stack>\n",
      "            \n",
      "\n",
      "loop count: 2\n",
      "current node: Node(dates)\n",
      "stack:\n",
      "<top of stack>\n",
      "_________________\n",
      "Node(dates)\n",
      "visited_left: False\n",
      "visited_right: False\n",
      "        \n",
      "_________________\n",
      "Node(banana)\n",
      "visited_left: True\n",
      "visited_right: False\n",
      "        \n",
      "_________________\n",
      "Node(apple)\n",
      "visited_left: True\n",
      "visited_right: False\n",
      "        \n",
      "_________________\n",
      "<bottom of stack>\n",
      "            \n",
      "\n",
      "loop count: 3\n",
      "current node: Node(banana)\n",
      "stack:\n",
      "<top of stack>\n",
      "_________________\n",
      "Node(banana)\n",
      "visited_left: True\n",
      "visited_right: False\n",
      "        \n",
      "_________________\n",
      "Node(apple)\n",
      "visited_left: True\n",
      "visited_right: False\n",
      "        \n",
      "_________________\n",
      "<bottom of stack>\n",
      "            \n",
      "\n",
      "loop count: 4\n",
      "current node: Node(apple)\n",
      "stack:\n",
      "<top of stack>\n",
      "_________________\n",
      "Node(apple)\n",
      "visited_left: True\n",
      "visited_right: False\n",
      "        \n",
      "_________________\n",
      "<bottom of stack>\n",
      "            \n",
      "\n",
      "loop count: 5\n",
      "current node: Node(cherry)\n",
      "stack:\n",
      "<top of stack>\n",
      "_________________\n",
      "Node(cherry)\n",
      "visited_left: False\n",
      "visited_right: False\n",
      "        \n",
      "_________________\n",
      "Node(apple)\n",
      "visited_left: True\n",
      "visited_right: True\n",
      "        \n",
      "_________________\n",
      "<bottom of stack>\n",
      "            \n",
      "\n",
      "loop count: 6\n",
      "current node: Node(apple)\n",
      "stack:\n",
      "<top of stack>\n",
      "_________________\n",
      "Node(apple)\n",
      "visited_left: True\n",
      "visited_right: True\n",
      "        \n",
      "_________________\n",
      "<bottom of stack>\n",
      "            \n",
      "\n",
      "loop count: 7\n",
      "current node: None\n",
      "stack:\n",
      "<stack is empty>\n",
      "            \n"
     ]
    },
    {
     "data": {
      "text/plain": "['apple', 'banana', 'dates', 'cherry']"
     },
     "execution_count": 50,
     "metadata": {},
     "output_type": "execute_result"
    }
   ],
   "source": [
    "# check pre-order traversal\n",
    "\n",
    "pre_order_with_stack(tree, debug_mode=True)"
   ]
  },
  {
   "cell_type": "markdown",
   "metadata": {},
   "source": [
    "## task 01: pre-order traversal with recursion\n",
    "\n",
    "Use recursion and perform pre_order traversal."
   ]
  },
  {
   "cell_type": "code",
   "execution_count": 11,
   "metadata": {
    "ExecuteTime": {
     "end_time": "2023-11-26T16:28:36.374419700Z",
     "start_time": "2023-11-26T16:28:36.352794800Z"
    }
   },
   "outputs": [],
   "source": [
    "def pre_order(tree):\n",
    "    \"\"\"\n",
    "    base condition: 如果当前结点为\n",
    "    \n",
    "    从根节点开始\n",
    "    如果有左子结点，递归调用 traverse(left_node)\n",
    "    遍历完左子节点，traverse 开始出栈\n",
    "    判断左子节点是否有右子节点，\n",
    "        如果有，继续 traverse\n",
    "        如果没有，左子节点出栈\n",
    "    \n",
    "    :param tree: \n",
    "    :return: \n",
    "    \"\"\"\n",
    "\n",
    "    def traverse(current_node: Node):\n",
    "        visited_nodes.append(current_node.get_value())\n",
    "        \n",
    "        if current_node.has_left_child():\n",
    "            traverse(current_node.get_left_child())\n",
    "        if current_node.has_right_child():\n",
    "            traverse(current_node.get_right_child())\n",
    "\n",
    "    visited_nodes = list()\n",
    "    root = tree.get_root()\n",
    "    if root is None:\n",
    "        return\n",
    "\n",
    "    traverse(root)"
   ]
  },
  {
   "cell_type": "code",
   "execution_count": 12,
   "metadata": {
    "ExecuteTime": {
     "end_time": "2023-11-26T16:28:36.825894600Z",
     "start_time": "2023-11-26T16:28:36.814192100Z"
    }
   },
   "outputs": [],
   "source": [
    "pre_order(tree)"
   ]
  },
  {
   "cell_type": "markdown",
   "metadata": {},
   "source": [
    "## Task: do in-order traversal\n",
    "\n",
    "We want to traverse the left subtree, then visit the node, and then traverse the right subtree.\n",
    "\n",
    "**hint**: it's very similar in structure to the pre-order traversal."
   ]
  },
  {
   "cell_type": "code",
   "execution_count": 13,
   "metadata": {
    "ExecuteTime": {
     "end_time": "2023-11-26T16:29:10.263512300Z",
     "start_time": "2023-11-26T16:29:10.238856300Z"
    }
   },
   "outputs": [],
   "source": [
    "# define in-order traversal\n",
    "def in_order(tree):\n",
    "    visit_nodes = list()\n",
    "    root = tree.get_root()\n",
    "    \n",
    "    def traverse(current_node: Node):\n",
    "        if current_node:\n",
    "            # 先遍历左子结点\n",
    "            traverse(current_node.get_left_child())\n",
    "            # 添加当前结点\n",
    "            visit_nodes.append(current_node.get_value())\n",
    "            # 次遍历右子结点\n",
    "            traverse(current_node.get_right_child())\n",
    "    \n",
    "    traverse(root)\n",
    "    print(visit_nodes)"
   ]
  },
  {
   "cell_type": "code",
   "execution_count": 14,
   "metadata": {
    "ExecuteTime": {
     "end_time": "2023-11-26T16:29:11.256625300Z",
     "start_time": "2023-11-26T16:29:11.245277300Z"
    }
   },
   "outputs": [
    {
     "name": "stdout",
     "output_type": "stream",
     "text": [
      "['dates', 'banana', 'apple', 'cherry']\n"
     ]
    }
   ],
   "source": [
    "# check solution: should get: ['dates', 'banana', 'apple', 'cherry']\n",
    "in_order(tree)"
   ]
  },
  {
   "cell_type": "markdown",
   "metadata": {},
   "source": [
    "## Task: post-order traversal\n",
    "\n",
    "Traverse left subtree, then right subtree, and then visit the node."
   ]
  },
  {
   "cell_type": "code",
   "execution_count": 15,
   "metadata": {
    "ExecuteTime": {
     "end_time": "2023-11-26T16:29:49.456004800Z",
     "start_time": "2023-11-26T16:29:49.447476300Z"
    }
   },
   "outputs": [],
   "source": [
    "# define post_order traversal\n",
    "def post_order(tree):\n",
    "    visit_nodes = list()\n",
    "    root = tree.get_root()\n",
    "    \n",
    "    def traverse(current_node: Node):\n",
    "        if current_node:\n",
    "            # 先遍历左子结点\n",
    "            traverse(current_node.get_left_child())\n",
    "            # 次遍历右子结点\n",
    "            traverse(current_node.get_right_child())\n",
    "            # 最后添加当前结点\n",
    "            visit_nodes.append(current_node.get_value())\n",
    "    \n",
    "    traverse(root)\n",
    "    print(visit_nodes)"
   ]
  },
  {
   "cell_type": "code",
   "execution_count": 16,
   "metadata": {
    "ExecuteTime": {
     "end_time": "2023-11-26T16:29:50.426612800Z",
     "start_time": "2023-11-26T16:29:50.411083600Z"
    }
   },
   "outputs": [
    {
     "name": "stdout",
     "output_type": "stream",
     "text": [
      "['dates', 'banana', 'cherry', 'apple']\n"
     ]
    }
   ],
   "source": [
    "# check solution: should get: ['dates', 'banana', 'cherry', 'apple']\n",
    "post_order(tree)"
   ]
  },
  {
   "cell_type": "markdown",
   "metadata": {},
   "source": [
    "## Solution Notebook\n",
    "\n",
    "The solution notebook is [here](02_traverse_a_tree_dfs_solution.ipynb)"
   ]
  },
  {
   "cell_type": "code",
   "execution_count": null,
   "metadata": {},
   "outputs": [],
   "source": []
  }
 ],
 "metadata": {
  "kernelspec": {
   "display_name": "Python 3",
   "language": "python",
   "name": "python3"
  },
  "language_info": {
   "codemirror_mode": {
    "name": "ipython",
    "version": 3
   },
   "file_extension": ".py",
   "mimetype": "text/x-python",
   "name": "python",
   "nbconvert_exporter": "python",
   "pygments_lexer": "ipython3",
   "version": "3.6.3"
  }
 },
 "nbformat": 4,
 "nbformat_minor": 2
}
