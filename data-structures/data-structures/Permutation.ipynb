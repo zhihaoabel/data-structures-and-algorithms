{
 "cells": [
  {
   "cell_type": "markdown",
   "metadata": {
    "graffitiCellId": "id_op9zwiy"
   },
   "source": [
    "# Permutation"
   ]
  },
  {
   "cell_type": "markdown",
   "metadata": {
    "graffitiCellId": "id_h4gumy5"
   },
   "source": [
    "\n",
    "**Question** - Let's use recursion to help us solve the following permutation problem:\n",
    "\n",
    "Given a list of items, the goal is to find all of the permutations of that list. For example,<br>\n",
    "Given a list like: `[0, 1, 2]` <br>\n",
    "Permutations: `[[0, 1, 2], [0, 2, 1], [1, 0, 2], [1, 2, 0], [2, 0, 1], [2, 1, 0]]` <br><br>\n",
    "Notice that the expected output is a list of permutation with each permuted item being represented by a list. Such an object that contains other object is called \"compound\" object. <br>\n",
    "\n",
    "**The Idea**<br>\n",
    "Build a compoundList incrementally starting with a blank list, and permute (add) each element of original input list at all possible positions. <br><br>\n",
    "\n",
    "For example, take `[0, 1, 2]` as the original input list:<br>\n",
    "\n",
    "1. Start with a blank compoundList `[[]]`. This is actually the last call of recursive function stack. Pick the element `2` of original input list, making the compoundList as `[[2]]`<br><br>\n",
    "\n",
    "2. Pick next element `1` of original input list, and add this element at position 0, and 1 for each list of previous compoundList. **We will require to create copy of all lists of previous compoundList, and add the new element.** Now, the compoundList will become `[[1, 2], [2, 1]]`.<br><br>\n",
    "\n",
    "3. Pick next element `0` of original input list, and add this element at position 0, 1, and 2 for each list of previous compoundList. Now, the compoundList will become `[[0, 1, 2], [1, 0, 2], [1, 2, 0], [0, 2, 1], [2, 0, 1], [2, 1, 0]]` .<br><br>\n"
   ]
  },
  {
   "cell_type": "markdown",
   "metadata": {
    "graffitiCellId": "id_vjjnt65"
   },
   "source": [
    "\n",
    "**Additional Resource**<br>\n",
    "While dealing with a \"compound\" object, a simple copy operation might not work as expected. You would need a function that can create a deep copy. For this purpose, you can make use of `deepcopy()` function from the `copy` module in Python. This module provides the function for normal (Shallow) and deep copy operations. Refer here - https://docs.python.org/3/library/copy.html for syntax and detailed information, that says:  <br>\n",
    "<br>\n",
    ">**Difference between Deep and Shallow Copy**<br>\n",
    "The difference between shallow and deep copying is only relevant for compound objects (objects that contain other objects, like lists or class instances):\n",
    " - A shallow copy constructs a new compound object and then inserts references into it to the objects found in the original.\n",
    " - A deep copy constructs a new compound object and then, recursively, inserts copies into it of the objects found in the original.\n",
    " \n",
    "**Example Illustration of deep copy, shallow copy, and assignment operator**<br>"
   ]
  },
  {
   "cell_type": "code",
   "execution_count": null,
   "metadata": {
    "graffitiCellId": "id_97foipq"
   },
   "outputs": [],
   "source": [
    "import copy  # `copy` module\n",
    "\n",
    "list1 = [0, 1, 2]\n",
    "list2 = [7, 8, 9]\n",
    "compoundList1 = [list1, list2]  # create a compound object\n",
    "\n",
    "'''ASSIGNMENT OPERATION - Points a new reference to the existing object.'''\n",
    "compoundList2 = compoundList1\n",
    "\n",
    "# id() - returns the identity of the object passed\n",
    "print(id(compoundList1) == id(compoundList2))  # True - compoundList2 is the same object as compoundList1\n",
    "print(id(compoundList1[0]) == id(compoundList2[0]))  # True - compoundList2[0] is the same object as compoundList1[0]\n",
    "\n",
    "'''SHALLOW COPY'''\n",
    "compoundList2 = copy.copy(compoundList1)\n",
    "\n",
    "print(id(compoundList1) == id(compoundList2))  # False - compoundList2 is now a new object\n",
    "print(id(compoundList1[0]) == id(compoundList2[0]))  # True - compoundList2[0] is the same object as compoundList1[0]\n",
    "\n",
    "'''DEEP COPY'''\n",
    "compoundList2 = copy.deepcopy(compoundList1)\n",
    "\n",
    "print(id(compoundList1) == id(compoundList2))  # False - compoundList2 is now a new object\n",
    "print(id(compoundList1[0]) == id(compoundList2[0]))  # False - compoundList2[0] is now a new object"
   ]
  },
  {
   "cell_type": "markdown",
   "metadata": {
    "graffitiCellId": "id_bnz6211"
   },
   "source": [
    "---\n",
    "### Exercise - Write the function definition here"
   ]
  },
  {
   "cell_type": "code",
   "execution_count": 1,
   "metadata": {
    "graffitiCellId": "id_45biddl",
    "ExecuteTime": {
     "end_time": "2023-10-29T16:15:10.626542700Z",
     "start_time": "2023-10-29T16:15:10.617033500Z"
    }
   },
   "outputs": [],
   "source": [
    "# Code\n",
    "\n",
    "import copy\n",
    "\n",
    "\n",
    "def permute(input_list: list):\n",
    "    \"\"\"\n",
    "        Args: myList: list of items to be permuted\n",
    "        Returns: list of permutation with each permuted item being represented by a list\n",
    "\n",
    "        # base case: 第一个子 list 的长度 = len(input_list)\n",
    "\n",
    "        last_element = input_list[-1]\n",
    "        child_lists = []\n",
    "        possible_positions = compound_list 第一个子 list 的长度 + 1\n",
    "        遍历 compound_list， deepcopy 子 list\n",
    "        遍历 possible_positions 构成的 list\n",
    "        依次在复制的子 list 的 possible_position 插入 last_element\n",
    "        return do_permute(child_lists)\n",
    "        \"\"\"\n",
    "\n",
    "    def do_permute(input_lists, copied_input_list):\n",
    "        # base condition\n",
    "        if len(input_lists[0]) == len(input_list):\n",
    "            return input_lists\n",
    "\n",
    "        child_lists = []\n",
    "        for child_list in input_lists:\n",
    "            for possible_position in range(len(child_list) + 1):\n",
    "                copy_list: list = copy.deepcopy(child_list)\n",
    "                copy_list.insert(possible_position, copied_input_list[-1])\n",
    "                child_lists.append(copy_list)\n",
    "        copied_input_list = copied_input_list[:-1]\n",
    "        return do_permute(child_lists, copied_input_list)\n",
    "\n",
    "    if len(input_list) == 0:\n",
    "        return [input_list]\n",
    "\n",
    "    return do_permute([[input_list[0]]], copy.deepcopy(input_list))\n"
   ]
  },
  {
   "cell_type": "markdown",
   "metadata": {
    "graffitiCellId": "id_nb2cges"
   },
   "source": [
    "### Test - Let's test your function"
   ]
  },
  {
   "cell_type": "code",
   "execution_count": 2,
   "metadata": {
    "graffitiCellId": "id_9kv3248",
    "ExecuteTime": {
     "end_time": "2023-10-30T14:59:17.658669200Z",
     "start_time": "2023-10-30T14:59:17.638094300Z"
    }
   },
   "outputs": [
    {
     "name": "stdout",
     "output_type": "stream",
     "text": [
      "Pass\n",
      "rest_list: []\n",
      "Pass\n",
      "rest_list: [1]\n",
      "rest_list: []\n",
      "Pass\n",
      "rest_list: [1, 2]\n",
      "rest_list: [2]\n",
      "rest_list: []\n",
      "Pass\n"
     ]
    }
   ],
   "source": [
    "# Test Cases \n",
    "\n",
    "# Helper Function\n",
    "def check_output(output, expected_output):\n",
    "    \"\"\"\n",
    "    Return True if output and expected_output\n",
    "    contains the same lists, False otherwise.\n",
    "    \n",
    "    Note that the ordering of the list is not important.\n",
    "    \n",
    "    Examples:\n",
    "        check_output([ [0, 1], [1, 0] ] ], [ [1, 0], [0, 1] ]) returns True\n",
    "\n",
    "    Args:\n",
    "        output(list): list of list\n",
    "        expected_output(list): list of list\n",
    "    \n",
    "    Returns:\n",
    "        bool\n",
    "    \"\"\"\n",
    "    o = copy.deepcopy(output)  # so that we don't mutate input\n",
    "    e = copy.deepcopy(expected_output)  # so that we don't mutate input\n",
    "\n",
    "    o.sort()\n",
    "    e.sort()\n",
    "    return o == e\n",
    "\n",
    "\n",
    "print(\"Pass\" if (check_output(permute([]), [[]])) else \"Fail\")\n",
    "print(\"Pass\" if (check_output(permute([0]), [[0]])) else \"Fail\")\n",
    "print(\"Pass\" if (check_output(permute([0, 1]), [[0, 1], [1, 0]])) else \"Fail\")\n",
    "print(\"Pass\" if (\n",
    "    check_output(permute([0, 1, 2]), [[0, 1, 2], [0, 2, 1], [1, 0, 2], [1, 2, 0], [2, 0, 1], [2, 1, 0]])) else \"Fail\")"
   ]
  },
  {
   "cell_type": "markdown",
   "metadata": {
    "graffitiCellId": "id_7mkz7sx"
   },
   "source": [
    "<span class=\"graffiti-highlight graffiti-id_7mkz7sx-id_al2wv3g\"><i></i><button>Show Solution</button></span>"
   ]
  },
  {
   "cell_type": "markdown",
   "source": [
    "# Solution"
   ],
   "metadata": {
    "collapsed": false
   }
  },
  {
   "cell_type": "code",
   "execution_count": 1,
   "outputs": [],
   "source": [
    "\n",
    "# Recursive Solution \n",
    "\"\"\"\n",
    "Args: myList: list of items to be permuted\n",
    "Returns: compound list: list of permutation with each permuted item being represented by a list\n",
    "\"\"\"\n",
    "import copy  # We will use `deepcopy()` function from the `copy` module\n",
    "\n",
    "\n",
    "def permute(inputList):\n",
    "    # a compound list\n",
    "    finalCompoundList = []  # compoundList to be returned \n",
    "\n",
    "    # Set a base condition to terminate recursion function when the `inputList`\n",
    "    # cannot be divided further and return the `finalCompoundList`\n",
    "\n",
    "    if len(inputList) == 0:\n",
    "        finalCompoundList.append([])\n",
    "\n",
    "    else:\n",
    "        # We are going to split the input into two lists as follows:\n",
    "        # `first_list` consisting of the first element on the `inputList`\n",
    "        # `rest_list` consisting the remaining `inputList`\n",
    "\n",
    "        first_element = inputList[0]  # Pick one element to be permuted\n",
    "        after_first = slice(1, None)  # `after_first` is an object of type 'slice' class\n",
    "        rest_list = inputList[after_first]  # convert the `slice` object into a list\n",
    "        print(f'rest_list: {rest_list}')\n",
    "\n",
    "        # Call the recursive function to split the `rest_list` further until it meets the base condition\n",
    "        # and store the last `finalCompoundList` output into `sub_compoundList` variable\n",
    "\n",
    "        sub_compoundList = permute(rest_list)\n",
    "\n",
    "        # Once the recursion function meets the base condition, we can build the permutation by\n",
    "        # iterating through all lists of the `compoundList` returned from previous recursive call\n",
    "\n",
    "        for aList in sub_compoundList:\n",
    "            # Permuted the `first_element` at all positions 0, 1, 2 ... len(aList) in each iteration\n",
    "            for j in range(0, len(aList) + 1):\n",
    "                # A normal copy/assignment will change aList[j] element\n",
    "                bList = copy.deepcopy(aList)\n",
    "\n",
    "                # A new list with size +1 as compared to aList\n",
    "                # is created by inserting the `first_element` at position j in bList\n",
    "                bList.insert(j, first_element)\n",
    "\n",
    "                # Append the newly created list to the finalCompoundList\n",
    "                finalCompoundList.append(bList)\n",
    "\n",
    "    return finalCompoundList"
   ],
   "metadata": {
    "collapsed": false,
    "ExecuteTime": {
     "end_time": "2023-10-30T14:59:09.529186600Z",
     "start_time": "2023-10-30T14:59:09.517048800Z"
    }
   }
  },
  {
   "cell_type": "code",
   "execution_count": null,
   "outputs": [],
   "source": [],
   "metadata": {
    "collapsed": false
   }
  }
 ],
 "metadata": {
  "graffiti": {
   "firstAuthorId": "10694620118",
   "id": "id_gm7n621",
   "language": "EN"
  },
  "kernelspec": {
   "display_name": "Python 3",
   "language": "python",
   "name": "python3"
  },
  "language_info": {
   "codemirror_mode": {
    "name": "ipython",
    "version": 3
   },
   "file_extension": ".py",
   "mimetype": "text/x-python",
   "name": "python",
   "nbconvert_exporter": "python",
   "pygments_lexer": "ipython3",
   "version": "3.6.3"
  }
 },
 "nbformat": 4,
 "nbformat_minor": 2
}
