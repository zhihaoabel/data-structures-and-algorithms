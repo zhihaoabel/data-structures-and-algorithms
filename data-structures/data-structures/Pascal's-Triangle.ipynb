{
 "cells": [
  {
   "cell_type": "markdown",
   "metadata": {
    "graffitiCellId": "id_9l9h3vg"
   },
   "source": [
    "# Problem Statement\n",
    "\n",
    "Find and return the `nth` row of Pascal's triangle in the form a list. `n` is 0-based.\n",
    "\n",
    "For example, if `n = 4`, then `output = [1, 4, 6, 4, 1]`.\n",
    "\n",
    "To know more about Pascal's triangle: https://www.mathsisfun.com/pascals-triangle.html"
   ]
  },
  {
   "cell_type": "code",
   "execution_count": 1,
   "metadata": {
    "graffitiCellId": "id_dcbpne4",
    "ExecuteTime": {
     "end_time": "2023-10-12T16:09:20.625897300Z",
     "start_time": "2023-10-12T16:09:20.613384500Z"
    }
   },
   "outputs": [],
   "source": [
    "def nth_row_pascal(n: int) -> list:\n",
    "    \"\"\"\n",
    "    :param: - n - index (0 based)\n",
    "    return - list() representing nth row of Pascal's triangle\n",
    "    \n",
    "    思路：参考https://www.mathsisfun.com/combinatorics/combinations-permutations.html 的组合部分。Pascal's triangle 满足 C(n, r)，n从0开始\n",
    "    \"\"\"\n",
    "    \n",
    "    \n",
    "    def get_factorial(num: int) -> int:\n",
    "        \"\"\"\n",
    "        求 num 的阶乘\n",
    "        :param num: \n",
    "        :return: 阶乘\n",
    "        \"\"\"\n",
    "        if num == 0 or num == 1:\n",
    "            return 1\n",
    "        else:\n",
    "            return num * get_factorial(num - 1)\n",
    "    \n",
    "    if n == 0:\n",
    "        return [1]\n",
    "    \n",
    "    row = []\n",
    "    for k in range(n + 1):\n",
    "        # 求 C(n, k)\n",
    "        term = get_factorial(n) / (get_factorial(n - k) * get_factorial(k))\n",
    "        row.append(term)\n",
    "    return row\n",
    "    "
   ]
  },
  {
   "cell_type": "markdown",
   "metadata": {
    "graffitiCellId": "id_wf20h2l"
   },
   "source": [
    "<span class=\"graffiti-highlight graffiti-id_wf20h2l-id_cuoppnd\"><i></i><button>Show Solution</button></span>"
   ]
  },
  {
   "cell_type": "code",
   "execution_count": 2,
   "metadata": {
    "graffitiCellId": "id_tu5thsl",
    "ExecuteTime": {
     "end_time": "2023-10-12T16:09:22.384782500Z",
     "start_time": "2023-10-12T16:09:22.346180100Z"
    }
   },
   "outputs": [],
   "source": [
    "def test_function(test_case):\n",
    "    n = test_case[0]\n",
    "    solution = test_case[1]\n",
    "    output = nth_row_pascal(n)\n",
    "    if solution == output:\n",
    "        print(\"Pass\")\n",
    "    else:\n",
    "        print(\"Fail\")"
   ]
  },
  {
   "cell_type": "code",
   "execution_count": 3,
   "metadata": {
    "graffitiCellId": "id_esuh96a",
    "ExecuteTime": {
     "end_time": "2023-10-12T16:09:23.824784600Z",
     "start_time": "2023-10-12T16:09:23.796650300Z"
    }
   },
   "outputs": [
    {
     "name": "stdout",
     "output_type": "stream",
     "text": [
      "Pass\n"
     ]
    }
   ],
   "source": [
    "n = 0\n",
    "solution = [1]\n",
    "\n",
    "test_case = [n, solution]\n",
    "test_function(test_case)"
   ]
  },
  {
   "cell_type": "code",
   "execution_count": 4,
   "metadata": {
    "graffitiCellId": "id_2e6eawt",
    "ExecuteTime": {
     "end_time": "2023-10-12T16:09:25.033657900Z",
     "start_time": "2023-10-12T16:09:25.001966500Z"
    }
   },
   "outputs": [
    {
     "name": "stdout",
     "output_type": "stream",
     "text": [
      "Pass\n"
     ]
    }
   ],
   "source": [
    "n = 1\n",
    "solution = [1, 1]\n",
    "\n",
    "test_case = [n, solution]\n",
    "test_function(test_case)"
   ]
  },
  {
   "cell_type": "code",
   "execution_count": 5,
   "metadata": {
    "graffitiCellId": "id_usf0xk8",
    "ExecuteTime": {
     "end_time": "2023-10-12T16:09:26.879804400Z",
     "start_time": "2023-10-12T16:09:26.850135100Z"
    }
   },
   "outputs": [
    {
     "name": "stdout",
     "output_type": "stream",
     "text": [
      "Pass\n"
     ]
    }
   ],
   "source": [
    "n = 2\n",
    "solution = [1, 2, 1]\n",
    "\n",
    "test_case = [n, solution]\n",
    "test_function(test_case)"
   ]
  },
  {
   "cell_type": "code",
   "execution_count": 6,
   "metadata": {
    "graffitiCellId": "id_dmvg99s",
    "ExecuteTime": {
     "end_time": "2023-10-12T16:09:27.936271500Z",
     "start_time": "2023-10-12T16:09:27.892708900Z"
    }
   },
   "outputs": [
    {
     "name": "stdout",
     "output_type": "stream",
     "text": [
      "Pass\n"
     ]
    }
   ],
   "source": [
    "n = 3\n",
    "solution = [1, 3, 3, 1]\n",
    "\n",
    "test_case = [n, solution]\n",
    "test_function(test_case)"
   ]
  },
  {
   "cell_type": "code",
   "execution_count": 7,
   "metadata": {
    "graffitiCellId": "id_lsv4314",
    "ExecuteTime": {
     "end_time": "2023-10-12T16:09:28.914353900Z",
     "start_time": "2023-10-12T16:09:28.872290900Z"
    }
   },
   "outputs": [
    {
     "name": "stdout",
     "output_type": "stream",
     "text": [
      "Pass\n"
     ]
    }
   ],
   "source": [
    "n = 4\n",
    "solution = [1, 4, 6, 4, 1]\n",
    "\n",
    "test_case = [n, solution]\n",
    "test_function(test_case)"
   ]
  },
  {
   "cell_type": "code",
   "execution_count": null,
   "outputs": [],
   "source": [],
   "metadata": {
    "collapsed": false
   }
  }
 ],
 "metadata": {
  "graffiti": {
   "firstAuthorId": "dev",
   "id": "id_qd2ksva",
   "language": "EN"
  },
  "kernelspec": {
   "display_name": "Python 3",
   "language": "python",
   "name": "python3"
  },
  "language_info": {
   "codemirror_mode": {
    "name": "ipython",
    "version": 3
   },
   "file_extension": ".py",
   "mimetype": "text/x-python",
   "name": "python",
   "nbconvert_exporter": "python",
   "pygments_lexer": "ipython3",
   "version": "3.6.3"
  }
 },
 "nbformat": 4,
 "nbformat_minor": 2
}
