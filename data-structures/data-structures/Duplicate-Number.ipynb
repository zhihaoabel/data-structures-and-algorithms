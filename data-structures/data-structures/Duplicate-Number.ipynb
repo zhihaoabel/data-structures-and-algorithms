{
 "cells": [
  {
   "cell_type": "markdown",
   "metadata": {
    "graffitiCellId": "id_jjzm8pq"
   },
   "source": [
    "### Problem Statement\n",
    "\n",
    "You have been given an array of `length = n`. The array contains integers from `0` to `n - 2`. Each number in the array is present exactly once except for one number which is present twice. Find and return this duplicate number present in the array\n",
    "\n",
    "**Example:**\n",
    "* `arr = [0, 2, 3, 1, 4, 5, 3]`\n",
    "* `output = 3` (because `3` is present twice)\n",
    "\n",
    "The expected time complexity for this problem is `O(n)` and the expected space-complexity is `O(1)`."
   ]
  },
  {
   "cell_type": "code",
   "execution_count": 1,
   "metadata": {
    "graffitiCellId": "id_hjobo20",
    "ExecuteTime": {
     "end_time": "2023-10-10T16:43:21.395086300Z",
     "start_time": "2023-10-10T16:43:21.387083Z"
    }
   },
   "outputs": [],
   "source": [
    "def duplicate_number(arr):\n",
    "    \"\"\"\n",
    "    :param - array containing numbers in the range [0, len(arr) - 2]\n",
    "    return - the number that is duplicate in the arr\n",
    "    \"\"\"\n",
    "    actual_sum = sum(arr)                                # 0 + 1 + 2 + ... + n-2 + x\n",
    "    expected_sum = sum(range(len(arr) - 1))  # 0 + 1 + 2 + ... + n-2\n",
    "\n",
    "    return actual_sum - expected_sum"
   ]
  },
  {
   "cell_type": "markdown",
   "metadata": {
    "graffitiCellId": "id_t54gljc"
   },
   "source": [
    "<span class=\"graffiti-highlight graffiti-id_t54gljc-id_6q2yj6n\"><i></i><button>Show Solution</button></span>"
   ]
  },
  {
   "cell_type": "code",
   "execution_count": 2,
   "metadata": {
    "graffitiCellId": "id_32apeg6",
    "ExecuteTime": {
     "end_time": "2023-10-10T16:43:23.089266900Z",
     "start_time": "2023-10-10T16:43:23.077191700Z"
    }
   },
   "outputs": [],
   "source": [
    "def test_function(test_case):\n",
    "    arr = test_case[0]\n",
    "    solution = test_case[1]\n",
    "    output = duplicate_number(arr)\n",
    "    if output == solution:\n",
    "        print(\"Pass\")\n",
    "    else:\n",
    "        print(\"Fail\")"
   ]
  },
  {
   "cell_type": "code",
   "execution_count": 3,
   "metadata": {
    "graffitiCellId": "id_5b4ou9d",
    "ExecuteTime": {
     "end_time": "2023-10-10T16:43:24.874139100Z",
     "start_time": "2023-10-10T16:43:24.857600Z"
    }
   },
   "outputs": [
    {
     "name": "stdout",
     "output_type": "stream",
     "text": [
      "Pass\n"
     ]
    }
   ],
   "source": [
    "arr = [0, 0]\n",
    "solution = 0\n",
    "\n",
    "test_case = [arr, solution]\n",
    "test_function(test_case)"
   ]
  },
  {
   "cell_type": "code",
   "execution_count": 4,
   "metadata": {
    "graffitiCellId": "id_kvkeije",
    "ExecuteTime": {
     "end_time": "2023-10-10T16:43:26.069239300Z",
     "start_time": "2023-10-10T16:43:26.048692300Z"
    }
   },
   "outputs": [
    {
     "name": "stdout",
     "output_type": "stream",
     "text": [
      "Pass\n"
     ]
    }
   ],
   "source": [
    "arr = [0, 2, 3, 1, 4, 5, 3]\n",
    "solution = 3\n",
    "\n",
    "test_case = [arr, solution]\n",
    "test_function(test_case)"
   ]
  },
  {
   "cell_type": "code",
   "execution_count": 5,
   "metadata": {
    "graffitiCellId": "id_vfijgc0",
    "ExecuteTime": {
     "end_time": "2023-10-10T16:43:27.271070300Z",
     "start_time": "2023-10-10T16:43:27.264976600Z"
    }
   },
   "outputs": [
    {
     "name": "stdout",
     "output_type": "stream",
     "text": [
      "Pass\n"
     ]
    }
   ],
   "source": [
    "arr = [0, 1, 5, 4, 3, 2, 0]\n",
    "solution = 0\n",
    "\n",
    "test_case = [arr, solution]\n",
    "test_function(test_case)"
   ]
  },
  {
   "cell_type": "code",
   "execution_count": 6,
   "metadata": {
    "graffitiCellId": "id_w6gda6p",
    "ExecuteTime": {
     "end_time": "2023-10-10T16:43:28.173933900Z",
     "start_time": "2023-10-10T16:43:28.153222400Z"
    }
   },
   "outputs": [
    {
     "name": "stdout",
     "output_type": "stream",
     "text": [
      "Pass\n"
     ]
    }
   ],
   "source": [
    "arr = [0, 1, 5, 5, 3, 2, 4]\n",
    "solution = 5\n",
    "\n",
    "test_case = [arr, solution]\n",
    "test_function(test_case)"
   ]
  },
  {
   "cell_type": "code",
   "execution_count": null,
   "outputs": [],
   "source": [],
   "metadata": {
    "collapsed": false
   }
  }
 ],
 "metadata": {
  "graffiti": {
   "firstAuthorId": "dev",
   "id": "id_11ltg2a",
   "language": "EN"
  },
  "kernelspec": {
   "display_name": "Python 3",
   "language": "python",
   "name": "python3"
  },
  "language_info": {
   "codemirror_mode": {
    "name": "ipython",
    "version": 3
   },
   "file_extension": ".py",
   "mimetype": "text/x-python",
   "name": "python",
   "nbconvert_exporter": "python",
   "pygments_lexer": "ipython3",
   "version": "3.6.3"
  }
 },
 "nbformat": 4,
 "nbformat_minor": 2
}
