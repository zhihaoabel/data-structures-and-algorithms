{
 "cells": [
  {
   "cell_type": "code",
   "execution_count": null,
   "id": "initial_id",
   "metadata": {
    "collapsed": true
   },
   "outputs": [],
   "source": [
    "def prod(a, b):\n",
    "    # TODO change output to the product of a and b\n",
    "    output = 0\n",
    "    output = a * b\n",
    "    return output\n",
    "\n",
    "\n",
    "def fact_gen():\n",
    "    i = 1\n",
    "    n = i\n",
    "    while True:\n",
    "        output = prod(n, i)\n",
    "        yield output\n",
    "        i += 1\n",
    "        n = output\n",
    "        # TODO: update i and n\n",
    "        # Hint: i is a successive integer and n is the previous product\n",
    "\n",
    "\n",
    "# Test cases\n",
    "my_gen = fact_gen()\n",
    "num = 5\n",
    "for i in range(num):\n",
    "    print(next(my_gen))\n",
    "\n",
    "# Correct result when num = 5:\n",
    "# 1\n",
    "# 2\n",
    "# 6\n",
    "# 24\n",
    "# 120"
   ]
  },
  {
   "cell_type": "markdown",
   "source": [
    "### Self-defined function"
   ],
   "metadata": {
    "collapsed": false
   },
   "id": "95d2a5274801945e"
  },
  {
   "cell_type": "code",
   "execution_count": 2,
   "outputs": [],
   "source": [
    "def get_row_col(square, n):\n",
    "    row = square[n]\n",
    "    col = []\n",
    "    for col_index in range(len(square)):\n",
    "        col.append(square[col_index][n])\n",
    "    return row, col"
   ],
   "metadata": {
    "collapsed": false,
    "ExecuteTime": {
     "end_time": "2023-09-24T13:09:14.257896100Z",
     "start_time": "2023-09-24T13:09:14.206532800Z"
    }
   },
   "id": "64e71aeb0c9c326f"
  },
  {
   "cell_type": "code",
   "execution_count": 4,
   "outputs": [
    {
     "name": "stdout",
     "output_type": "stream",
     "text": [
      "False\n",
      "True\n",
      "False\n",
      "False\n",
      "False\n",
      "False\n"
     ]
    }
   ],
   "source": [
    "# Define a function check_sudoku() here:\n",
    "def check_sudoku(square):\n",
    "    length = len(square)\n",
    "    for i in range(length):\n",
    "        row, col = get_row_col(square, i)\n",
    "        if sorted(row) != list(range(1, length + 1)) or sorted(col) != list(range(1, length + 1)):\n",
    "            return False\n",
    "    return True\n",
    "\n",
    "\n",
    "# Test cases\n",
    "correct = [[1, 2, 3],\n",
    "           [2, 3, 1],\n",
    "           [3, 1, 2]]\n",
    "incorrect = [[1, 2, 3, 4],\n",
    "             [2, 3, 1, 3],\n",
    "             [3, 1, 2, 3],\n",
    "             [4, 4, 4, 4]]\n",
    "incorrect2 = [[1, 2, 3, 4],\n",
    "              [2, 3, 1, 4],\n",
    "              [4, 1, 2, 3],\n",
    "              [3, 4, 1, 2]]\n",
    "incorrect3 = [[1, 2, 3, 4, 5],\n",
    "              [2, 3, 1, 5, 6],\n",
    "              [4, 5, 2, 1, 3],\n",
    "              [3, 4, 5, 2, 1],\n",
    "              [5, 6, 4, 3, 2]]\n",
    "incorrect4 = [['a', 'b', 'c'],\n",
    "              ['b', 'c', 'a'],\n",
    "              ['c', 'a', 'b']]\n",
    "incorrect5 = [[1, 1.5],\n",
    "              [1.5, 1]]\n",
    "\n",
    "print(check_sudoku(incorrect))\n",
    "#>>> False\n",
    "print(check_sudoku(correct))\n",
    "#>>> True\n",
    "print(check_sudoku(incorrect2))\n",
    "#>>> False\n",
    "print(check_sudoku(incorrect3))\n",
    "#>>> False\n",
    "print(check_sudoku(incorrect4))\n",
    "#>>> False\n",
    "print(check_sudoku(incorrect5))\n",
    "#>>> False"
   ],
   "metadata": {
    "collapsed": false,
    "ExecuteTime": {
     "end_time": "2023-09-24T13:12:38.889556900Z",
     "start_time": "2023-09-24T13:12:38.881035600Z"
    }
   },
   "id": "35d7c86b22c04110"
  },
  {
   "cell_type": "code",
   "execution_count": null,
   "outputs": [],
   "source": [],
   "metadata": {
    "collapsed": false
   },
   "id": "7ee1154b0a076443"
  }
 ],
 "metadata": {
  "kernelspec": {
   "display_name": "Python 3",
   "language": "python",
   "name": "python3"
  },
  "language_info": {
   "codemirror_mode": {
    "name": "ipython",
    "version": 2
   },
   "file_extension": ".py",
   "mimetype": "text/x-python",
   "name": "python",
   "nbconvert_exporter": "python",
   "pygments_lexer": "ipython2",
   "version": "2.7.6"
  }
 },
 "nbformat": 4,
 "nbformat_minor": 5
}
